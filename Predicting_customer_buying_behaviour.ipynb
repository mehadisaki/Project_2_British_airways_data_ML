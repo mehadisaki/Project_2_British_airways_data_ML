{
  "cells": [
    {
      "attachments": {},
      "cell_type": "markdown",
      "metadata": {
        "id": "GxB6d0QYDQK6"
      },
      "source": [
        "Connecting with drive folder\n"
      ]
    },
    {
      "attachments": {},
      "cell_type": "markdown",
      "metadata": {
        "id": "mLj5sprBvIdd"
      },
      "source": [
        "Project data link\n",
        "https://www.theforage.com/modules/NjynCWzGSaWXQCxSX/qredBPYHSnxdcdWBt?ref=qEGtkdpRKoiAYcTnL"
      ]
    },
    {
      "cell_type": "code",
      "execution_count": null,
      "metadata": {
        "colab": {
          "base_uri": "https://localhost:8080/"
        },
        "id": "APmbd5iKCnKS",
        "outputId": "585f7470-68d9-4667-a0da-1815f8b0ed39"
      },
      "outputs": [],
      "source": [
        "'''from google.colab import drive\n",
        "drive.mount('/content/drive')'''"
      ]
    },
    {
      "attachments": {},
      "cell_type": "markdown",
      "metadata": {
        "id": "JlfhkZSzB-iz"
      },
      "source": [
        "# Task 2\n",
        "\n",
        "---\n",
        "\n",
        "## Predictive modeling of customer bookings\n",
        "\n",
        "This Jupyter notebook includes some code to get you started with this predictive modeling task. We will use various packages for data manipulation, feature engineering and machine learning.\n",
        "\n",
        "### Exploratory data analysis\n",
        "\n",
        "First, we must explore the data in order to better understand what we have and the statistical properties of the dataset."
      ]
    },
    {
      "cell_type": "code",
      "execution_count": null,
      "metadata": {},
      "outputs": [],
      "source": []
    },
    {
      "cell_type": "code",
      "execution_count": 1,
      "metadata": {
        "id": "Es3O2kE9B-i6"
      },
      "outputs": [],
      "source": [
        "import pandas as pd\n",
        "import numpy as np\n",
        "import seaborn as sns\n",
        "import matplotlib.pyplot as plt\n",
        "from scipy.stats import norm\n",
        "# Maths\n",
        "import math\n",
        "from numpy import mean , std"
      ]
    },
    {
      "cell_type": "code",
      "execution_count": 2,
      "metadata": {
        "colab": {
          "base_uri": "https://localhost:8080/",
          "height": 424
        },
        "id": "ahY-Kzd9B-i7",
        "outputId": "254aa56c-9fc8-428b-bbc4-be54b103e6ba"
      },
      "outputs": [
        {
          "data": {
            "text/html": [
              "<div>\n",
              "<style scoped>\n",
              "    .dataframe tbody tr th:only-of-type {\n",
              "        vertical-align: middle;\n",
              "    }\n",
              "\n",
              "    .dataframe tbody tr th {\n",
              "        vertical-align: top;\n",
              "    }\n",
              "\n",
              "    .dataframe thead th {\n",
              "        text-align: right;\n",
              "    }\n",
              "</style>\n",
              "<table border=\"1\" class=\"dataframe\">\n",
              "  <thead>\n",
              "    <tr style=\"text-align: right;\">\n",
              "      <th></th>\n",
              "      <th>num_passengers</th>\n",
              "      <th>sales_channel</th>\n",
              "      <th>trip_type</th>\n",
              "      <th>purchase_lead</th>\n",
              "      <th>length_of_stay</th>\n",
              "      <th>flight_hour</th>\n",
              "      <th>flight_day</th>\n",
              "      <th>route</th>\n",
              "      <th>booking_origin</th>\n",
              "      <th>wants_extra_baggage</th>\n",
              "      <th>wants_preferred_seat</th>\n",
              "      <th>wants_in_flight_meals</th>\n",
              "      <th>flight_duration</th>\n",
              "      <th>booking_complete</th>\n",
              "    </tr>\n",
              "  </thead>\n",
              "  <tbody>\n",
              "    <tr>\n",
              "      <th>0</th>\n",
              "      <td>2</td>\n",
              "      <td>Internet</td>\n",
              "      <td>RoundTrip</td>\n",
              "      <td>262</td>\n",
              "      <td>19</td>\n",
              "      <td>7</td>\n",
              "      <td>Sat</td>\n",
              "      <td>AKLDEL</td>\n",
              "      <td>New Zealand</td>\n",
              "      <td>1</td>\n",
              "      <td>0</td>\n",
              "      <td>0</td>\n",
              "      <td>5.52</td>\n",
              "      <td>0</td>\n",
              "    </tr>\n",
              "    <tr>\n",
              "      <th>1</th>\n",
              "      <td>1</td>\n",
              "      <td>Internet</td>\n",
              "      <td>RoundTrip</td>\n",
              "      <td>112</td>\n",
              "      <td>20</td>\n",
              "      <td>3</td>\n",
              "      <td>Sat</td>\n",
              "      <td>AKLDEL</td>\n",
              "      <td>New Zealand</td>\n",
              "      <td>0</td>\n",
              "      <td>0</td>\n",
              "      <td>0</td>\n",
              "      <td>5.52</td>\n",
              "      <td>0</td>\n",
              "    </tr>\n",
              "    <tr>\n",
              "      <th>2</th>\n",
              "      <td>2</td>\n",
              "      <td>Internet</td>\n",
              "      <td>RoundTrip</td>\n",
              "      <td>243</td>\n",
              "      <td>22</td>\n",
              "      <td>17</td>\n",
              "      <td>Wed</td>\n",
              "      <td>AKLDEL</td>\n",
              "      <td>India</td>\n",
              "      <td>1</td>\n",
              "      <td>1</td>\n",
              "      <td>0</td>\n",
              "      <td>5.52</td>\n",
              "      <td>0</td>\n",
              "    </tr>\n",
              "    <tr>\n",
              "      <th>3</th>\n",
              "      <td>1</td>\n",
              "      <td>Internet</td>\n",
              "      <td>RoundTrip</td>\n",
              "      <td>96</td>\n",
              "      <td>31</td>\n",
              "      <td>4</td>\n",
              "      <td>Sat</td>\n",
              "      <td>AKLDEL</td>\n",
              "      <td>New Zealand</td>\n",
              "      <td>0</td>\n",
              "      <td>0</td>\n",
              "      <td>1</td>\n",
              "      <td>5.52</td>\n",
              "      <td>0</td>\n",
              "    </tr>\n",
              "    <tr>\n",
              "      <th>4</th>\n",
              "      <td>2</td>\n",
              "      <td>Internet</td>\n",
              "      <td>RoundTrip</td>\n",
              "      <td>68</td>\n",
              "      <td>22</td>\n",
              "      <td>15</td>\n",
              "      <td>Wed</td>\n",
              "      <td>AKLDEL</td>\n",
              "      <td>India</td>\n",
              "      <td>1</td>\n",
              "      <td>0</td>\n",
              "      <td>1</td>\n",
              "      <td>5.52</td>\n",
              "      <td>0</td>\n",
              "    </tr>\n",
              "    <tr>\n",
              "      <th>...</th>\n",
              "      <td>...</td>\n",
              "      <td>...</td>\n",
              "      <td>...</td>\n",
              "      <td>...</td>\n",
              "      <td>...</td>\n",
              "      <td>...</td>\n",
              "      <td>...</td>\n",
              "      <td>...</td>\n",
              "      <td>...</td>\n",
              "      <td>...</td>\n",
              "      <td>...</td>\n",
              "      <td>...</td>\n",
              "      <td>...</td>\n",
              "      <td>...</td>\n",
              "    </tr>\n",
              "    <tr>\n",
              "      <th>95</th>\n",
              "      <td>1</td>\n",
              "      <td>Internet</td>\n",
              "      <td>RoundTrip</td>\n",
              "      <td>8</td>\n",
              "      <td>33</td>\n",
              "      <td>3</td>\n",
              "      <td>Tue</td>\n",
              "      <td>AKLKUL</td>\n",
              "      <td>New Zealand</td>\n",
              "      <td>0</td>\n",
              "      <td>0</td>\n",
              "      <td>0</td>\n",
              "      <td>8.83</td>\n",
              "      <td>0</td>\n",
              "    </tr>\n",
              "    <tr>\n",
              "      <th>96</th>\n",
              "      <td>2</td>\n",
              "      <td>Internet</td>\n",
              "      <td>RoundTrip</td>\n",
              "      <td>138</td>\n",
              "      <td>35</td>\n",
              "      <td>19</td>\n",
              "      <td>Fri</td>\n",
              "      <td>AKLKUL</td>\n",
              "      <td>Switzerland</td>\n",
              "      <td>1</td>\n",
              "      <td>0</td>\n",
              "      <td>1</td>\n",
              "      <td>8.83</td>\n",
              "      <td>0</td>\n",
              "    </tr>\n",
              "    <tr>\n",
              "      <th>97</th>\n",
              "      <td>1</td>\n",
              "      <td>Internet</td>\n",
              "      <td>RoundTrip</td>\n",
              "      <td>134</td>\n",
              "      <td>37</td>\n",
              "      <td>20</td>\n",
              "      <td>Wed</td>\n",
              "      <td>AKLKUL</td>\n",
              "      <td>New Zealand</td>\n",
              "      <td>0</td>\n",
              "      <td>1</td>\n",
              "      <td>0</td>\n",
              "      <td>8.83</td>\n",
              "      <td>0</td>\n",
              "    </tr>\n",
              "    <tr>\n",
              "      <th>98</th>\n",
              "      <td>2</td>\n",
              "      <td>Internet</td>\n",
              "      <td>RoundTrip</td>\n",
              "      <td>8</td>\n",
              "      <td>29</td>\n",
              "      <td>18</td>\n",
              "      <td>Thu</td>\n",
              "      <td>AKLKUL</td>\n",
              "      <td>New Zealand</td>\n",
              "      <td>1</td>\n",
              "      <td>0</td>\n",
              "      <td>0</td>\n",
              "      <td>8.83</td>\n",
              "      <td>0</td>\n",
              "    </tr>\n",
              "    <tr>\n",
              "      <th>99</th>\n",
              "      <td>1</td>\n",
              "      <td>Internet</td>\n",
              "      <td>RoundTrip</td>\n",
              "      <td>23</td>\n",
              "      <td>51</td>\n",
              "      <td>13</td>\n",
              "      <td>Fri</td>\n",
              "      <td>AKLKUL</td>\n",
              "      <td>New Zealand</td>\n",
              "      <td>1</td>\n",
              "      <td>0</td>\n",
              "      <td>1</td>\n",
              "      <td>8.83</td>\n",
              "      <td>0</td>\n",
              "    </tr>\n",
              "  </tbody>\n",
              "</table>\n",
              "<p>100 rows × 14 columns</p>\n",
              "</div>"
            ],
            "text/plain": [
              "    num_passengers sales_channel  trip_type  purchase_lead  length_of_stay  \\\n",
              "0                2      Internet  RoundTrip            262              19   \n",
              "1                1      Internet  RoundTrip            112              20   \n",
              "2                2      Internet  RoundTrip            243              22   \n",
              "3                1      Internet  RoundTrip             96              31   \n",
              "4                2      Internet  RoundTrip             68              22   \n",
              "..             ...           ...        ...            ...             ...   \n",
              "95               1      Internet  RoundTrip              8              33   \n",
              "96               2      Internet  RoundTrip            138              35   \n",
              "97               1      Internet  RoundTrip            134              37   \n",
              "98               2      Internet  RoundTrip              8              29   \n",
              "99               1      Internet  RoundTrip             23              51   \n",
              "\n",
              "    flight_hour flight_day   route booking_origin  wants_extra_baggage  \\\n",
              "0             7        Sat  AKLDEL    New Zealand                    1   \n",
              "1             3        Sat  AKLDEL    New Zealand                    0   \n",
              "2            17        Wed  AKLDEL          India                    1   \n",
              "3             4        Sat  AKLDEL    New Zealand                    0   \n",
              "4            15        Wed  AKLDEL          India                    1   \n",
              "..          ...        ...     ...            ...                  ...   \n",
              "95            3        Tue  AKLKUL    New Zealand                    0   \n",
              "96           19        Fri  AKLKUL    Switzerland                    1   \n",
              "97           20        Wed  AKLKUL    New Zealand                    0   \n",
              "98           18        Thu  AKLKUL    New Zealand                    1   \n",
              "99           13        Fri  AKLKUL    New Zealand                    1   \n",
              "\n",
              "    wants_preferred_seat  wants_in_flight_meals  flight_duration  \\\n",
              "0                      0                      0             5.52   \n",
              "1                      0                      0             5.52   \n",
              "2                      1                      0             5.52   \n",
              "3                      0                      1             5.52   \n",
              "4                      0                      1             5.52   \n",
              "..                   ...                    ...              ...   \n",
              "95                     0                      0             8.83   \n",
              "96                     0                      1             8.83   \n",
              "97                     1                      0             8.83   \n",
              "98                     0                      0             8.83   \n",
              "99                     0                      1             8.83   \n",
              "\n",
              "    booking_complete  \n",
              "0                  0  \n",
              "1                  0  \n",
              "2                  0  \n",
              "3                  0  \n",
              "4                  0  \n",
              "..               ...  \n",
              "95                 0  \n",
              "96                 0  \n",
              "97                 0  \n",
              "98                 0  \n",
              "99                 0  \n",
              "\n",
              "[100 rows x 14 columns]"
            ]
          },
          "execution_count": 2,
          "metadata": {},
          "output_type": "execute_result"
        }
      ],
      "source": [
        "#df = pd.read_csv(\"/content/drive/MyDrive/Analysis/Forge-Virtual-Intern/Case-2/customer_booking.csv\", encoding=\"ISO-8859-1\")\n",
        "df = pd.read_csv(\"customer_booking.csv\", encoding=\"ISO-8859-1\")\n",
        "df.head(100)"
      ]
    },
    {
      "cell_type": "code",
      "execution_count": 3,
      "metadata": {
        "colab": {
          "base_uri": "https://localhost:8080/",
          "height": 468
        },
        "id": "6cEljlTxKJeF",
        "outputId": "4e7b7aba-e913-4b48-8607-e7e10c0eeff3"
      },
      "outputs": [
        {
          "data": {
            "text/html": [
              "<div>\n",
              "<style scoped>\n",
              "    .dataframe tbody tr th:only-of-type {\n",
              "        vertical-align: middle;\n",
              "    }\n",
              "\n",
              "    .dataframe tbody tr th {\n",
              "        vertical-align: top;\n",
              "    }\n",
              "\n",
              "    .dataframe thead th {\n",
              "        text-align: right;\n",
              "    }\n",
              "</style>\n",
              "<table border=\"1\" class=\"dataframe\">\n",
              "  <thead>\n",
              "    <tr style=\"text-align: right;\">\n",
              "      <th></th>\n",
              "      <th>num_passengers</th>\n",
              "      <th>sales_channel</th>\n",
              "      <th>trip_type</th>\n",
              "      <th>purchase_lead</th>\n",
              "      <th>length_of_stay</th>\n",
              "      <th>flight_hour</th>\n",
              "      <th>flight_day</th>\n",
              "      <th>route</th>\n",
              "      <th>booking_origin</th>\n",
              "      <th>wants_extra_baggage</th>\n",
              "      <th>wants_preferred_seat</th>\n",
              "      <th>wants_in_flight_meals</th>\n",
              "      <th>flight_duration</th>\n",
              "      <th>booking_complete</th>\n",
              "    </tr>\n",
              "  </thead>\n",
              "  <tbody>\n",
              "    <tr>\n",
              "      <th>82</th>\n",
              "      <td>1</td>\n",
              "      <td>Internet</td>\n",
              "      <td>RoundTrip</td>\n",
              "      <td>15</td>\n",
              "      <td>31</td>\n",
              "      <td>17</td>\n",
              "      <td>Mon</td>\n",
              "      <td>AKLKUL</td>\n",
              "      <td>Malaysia</td>\n",
              "      <td>0</td>\n",
              "      <td>0</td>\n",
              "      <td>0</td>\n",
              "      <td>8.83</td>\n",
              "      <td>1</td>\n",
              "    </tr>\n",
              "    <tr>\n",
              "      <th>86</th>\n",
              "      <td>1</td>\n",
              "      <td>Internet</td>\n",
              "      <td>RoundTrip</td>\n",
              "      <td>156</td>\n",
              "      <td>19</td>\n",
              "      <td>14</td>\n",
              "      <td>Mon</td>\n",
              "      <td>AKLKUL</td>\n",
              "      <td>Malaysia</td>\n",
              "      <td>1</td>\n",
              "      <td>0</td>\n",
              "      <td>0</td>\n",
              "      <td>8.83</td>\n",
              "      <td>1</td>\n",
              "    </tr>\n",
              "    <tr>\n",
              "      <th>94</th>\n",
              "      <td>1</td>\n",
              "      <td>Internet</td>\n",
              "      <td>RoundTrip</td>\n",
              "      <td>181</td>\n",
              "      <td>87</td>\n",
              "      <td>2</td>\n",
              "      <td>Tue</td>\n",
              "      <td>AKLKUL</td>\n",
              "      <td>Singapore</td>\n",
              "      <td>1</td>\n",
              "      <td>0</td>\n",
              "      <td>1</td>\n",
              "      <td>8.83</td>\n",
              "      <td>1</td>\n",
              "    </tr>\n",
              "    <tr>\n",
              "      <th>109</th>\n",
              "      <td>1</td>\n",
              "      <td>Mobile</td>\n",
              "      <td>RoundTrip</td>\n",
              "      <td>127</td>\n",
              "      <td>17</td>\n",
              "      <td>16</td>\n",
              "      <td>Tue</td>\n",
              "      <td>AKLKUL</td>\n",
              "      <td>Malaysia</td>\n",
              "      <td>1</td>\n",
              "      <td>0</td>\n",
              "      <td>1</td>\n",
              "      <td>8.83</td>\n",
              "      <td>1</td>\n",
              "    </tr>\n",
              "    <tr>\n",
              "      <th>122</th>\n",
              "      <td>1</td>\n",
              "      <td>Internet</td>\n",
              "      <td>RoundTrip</td>\n",
              "      <td>42</td>\n",
              "      <td>17</td>\n",
              "      <td>14</td>\n",
              "      <td>Tue</td>\n",
              "      <td>AKLKUL</td>\n",
              "      <td>Malaysia</td>\n",
              "      <td>0</td>\n",
              "      <td>0</td>\n",
              "      <td>0</td>\n",
              "      <td>8.83</td>\n",
              "      <td>1</td>\n",
              "    </tr>\n",
              "    <tr>\n",
              "      <th>...</th>\n",
              "      <td>...</td>\n",
              "      <td>...</td>\n",
              "      <td>...</td>\n",
              "      <td>...</td>\n",
              "      <td>...</td>\n",
              "      <td>...</td>\n",
              "      <td>...</td>\n",
              "      <td>...</td>\n",
              "      <td>...</td>\n",
              "      <td>...</td>\n",
              "      <td>...</td>\n",
              "      <td>...</td>\n",
              "      <td>...</td>\n",
              "      <td>...</td>\n",
              "    </tr>\n",
              "    <tr>\n",
              "      <th>49972</th>\n",
              "      <td>1</td>\n",
              "      <td>Internet</td>\n",
              "      <td>RoundTrip</td>\n",
              "      <td>33</td>\n",
              "      <td>6</td>\n",
              "      <td>6</td>\n",
              "      <td>Wed</td>\n",
              "      <td>PENTPE</td>\n",
              "      <td>Taiwan</td>\n",
              "      <td>1</td>\n",
              "      <td>1</td>\n",
              "      <td>0</td>\n",
              "      <td>4.67</td>\n",
              "      <td>1</td>\n",
              "    </tr>\n",
              "    <tr>\n",
              "      <th>49977</th>\n",
              "      <td>2</td>\n",
              "      <td>Internet</td>\n",
              "      <td>RoundTrip</td>\n",
              "      <td>15</td>\n",
              "      <td>6</td>\n",
              "      <td>16</td>\n",
              "      <td>Tue</td>\n",
              "      <td>PENTPE</td>\n",
              "      <td>Malaysia</td>\n",
              "      <td>1</td>\n",
              "      <td>1</td>\n",
              "      <td>1</td>\n",
              "      <td>4.67</td>\n",
              "      <td>1</td>\n",
              "    </tr>\n",
              "    <tr>\n",
              "      <th>49980</th>\n",
              "      <td>4</td>\n",
              "      <td>Internet</td>\n",
              "      <td>RoundTrip</td>\n",
              "      <td>242</td>\n",
              "      <td>6</td>\n",
              "      <td>9</td>\n",
              "      <td>Tue</td>\n",
              "      <td>PENXIY</td>\n",
              "      <td>Malaysia</td>\n",
              "      <td>1</td>\n",
              "      <td>0</td>\n",
              "      <td>1</td>\n",
              "      <td>5.00</td>\n",
              "      <td>1</td>\n",
              "    </tr>\n",
              "    <tr>\n",
              "      <th>49984</th>\n",
              "      <td>2</td>\n",
              "      <td>Internet</td>\n",
              "      <td>RoundTrip</td>\n",
              "      <td>7</td>\n",
              "      <td>6</td>\n",
              "      <td>4</td>\n",
              "      <td>Wed</td>\n",
              "      <td>PERPNH</td>\n",
              "      <td>Australia</td>\n",
              "      <td>0</td>\n",
              "      <td>0</td>\n",
              "      <td>0</td>\n",
              "      <td>5.62</td>\n",
              "      <td>1</td>\n",
              "    </tr>\n",
              "    <tr>\n",
              "      <th>49987</th>\n",
              "      <td>3</td>\n",
              "      <td>Internet</td>\n",
              "      <td>RoundTrip</td>\n",
              "      <td>243</td>\n",
              "      <td>6</td>\n",
              "      <td>12</td>\n",
              "      <td>Fri</td>\n",
              "      <td>PERPNH</td>\n",
              "      <td>Australia</td>\n",
              "      <td>1</td>\n",
              "      <td>0</td>\n",
              "      <td>1</td>\n",
              "      <td>5.62</td>\n",
              "      <td>1</td>\n",
              "    </tr>\n",
              "  </tbody>\n",
              "</table>\n",
              "<p>7478 rows × 14 columns</p>\n",
              "</div>"
            ],
            "text/plain": [
              "       num_passengers sales_channel  trip_type  purchase_lead  length_of_stay  \\\n",
              "82                  1      Internet  RoundTrip             15              31   \n",
              "86                  1      Internet  RoundTrip            156              19   \n",
              "94                  1      Internet  RoundTrip            181              87   \n",
              "109                 1        Mobile  RoundTrip            127              17   \n",
              "122                 1      Internet  RoundTrip             42              17   \n",
              "...               ...           ...        ...            ...             ...   \n",
              "49972               1      Internet  RoundTrip             33               6   \n",
              "49977               2      Internet  RoundTrip             15               6   \n",
              "49980               4      Internet  RoundTrip            242               6   \n",
              "49984               2      Internet  RoundTrip              7               6   \n",
              "49987               3      Internet  RoundTrip            243               6   \n",
              "\n",
              "       flight_hour flight_day   route booking_origin  wants_extra_baggage  \\\n",
              "82              17        Mon  AKLKUL       Malaysia                    0   \n",
              "86              14        Mon  AKLKUL       Malaysia                    1   \n",
              "94               2        Tue  AKLKUL      Singapore                    1   \n",
              "109             16        Tue  AKLKUL       Malaysia                    1   \n",
              "122             14        Tue  AKLKUL       Malaysia                    0   \n",
              "...            ...        ...     ...            ...                  ...   \n",
              "49972            6        Wed  PENTPE         Taiwan                    1   \n",
              "49977           16        Tue  PENTPE       Malaysia                    1   \n",
              "49980            9        Tue  PENXIY       Malaysia                    1   \n",
              "49984            4        Wed  PERPNH      Australia                    0   \n",
              "49987           12        Fri  PERPNH      Australia                    1   \n",
              "\n",
              "       wants_preferred_seat  wants_in_flight_meals  flight_duration  \\\n",
              "82                        0                      0             8.83   \n",
              "86                        0                      0             8.83   \n",
              "94                        0                      1             8.83   \n",
              "109                       0                      1             8.83   \n",
              "122                       0                      0             8.83   \n",
              "...                     ...                    ...              ...   \n",
              "49972                     1                      0             4.67   \n",
              "49977                     1                      1             4.67   \n",
              "49980                     0                      1             5.00   \n",
              "49984                     0                      0             5.62   \n",
              "49987                     0                      1             5.62   \n",
              "\n",
              "       booking_complete  \n",
              "82                    1  \n",
              "86                    1  \n",
              "94                    1  \n",
              "109                   1  \n",
              "122                   1  \n",
              "...                 ...  \n",
              "49972                 1  \n",
              "49977                 1  \n",
              "49980                 1  \n",
              "49984                 1  \n",
              "49987                 1  \n",
              "\n",
              "[7478 rows x 14 columns]"
            ]
          },
          "execution_count": 3,
          "metadata": {},
          "output_type": "execute_result"
        }
      ],
      "source": [
        "df[df['booking_complete']==1]"
      ]
    },
    {
      "cell_type": "code",
      "execution_count": 4,
      "metadata": {},
      "outputs": [
        {
          "data": {
            "text/plain": [
              "799"
            ]
          },
          "execution_count": 4,
          "metadata": {},
          "output_type": "execute_result"
        }
      ],
      "source": [
        "df[\"route\"].nunique()"
      ]
    },
    {
      "cell_type": "code",
      "execution_count": 5,
      "metadata": {
        "colab": {
          "base_uri": "https://localhost:8080/"
        },
        "id": "YSHD4IoycPmp",
        "outputId": "21379bd1-b734-4f8d-fec3-cc48362f2590"
      },
      "outputs": [
        {
          "data": {
            "text/plain": [
              "array(['AKLDEL', 'AKLHGH', 'AKLHND', 'AKLICN', 'AKLKIX', 'AKLKTM',\n",
              "       'AKLKUL', 'AKLMRU', 'AKLPEK', 'AKLPVG', 'AKLTPE', 'AORICN',\n",
              "       'AORKIX', 'AORKTM', 'AORMEL', 'BBIMEL', 'BBIOOL', 'BBIPER',\n",
              "       'BBISYD', 'BDOCTS', 'BDOCTU', 'BDOHGH', 'BDOICN', 'BDOIKA',\n",
              "       'BDOKIX', 'BDOMEL', 'BDOOOL', 'BDOPEK', 'BDOPER', 'BDOPUS',\n",
              "       'BDOPVG', 'BDOSYD', 'BDOTPE', 'BDOXIY', 'BKICKG', 'BKICTS',\n",
              "       'BKICTU', 'BKIHND', 'BKIICN', 'BKIKIX', 'BKIKTM', 'BKIMEL',\n",
              "       'BKIMRU', 'BKIOOL', 'BKIPEK', 'BKIPER', 'BKIPUS', 'BKIPVG',\n",
              "       'BKISYD', 'BKIXIY', 'BLRICN', 'BLRMEL', 'BLRPER', 'BLRSYD',\n",
              "       'BOMMEL', 'BOMOOL', 'BOMPER', 'BOMSYD', 'BTJJED', 'BTUICN',\n",
              "       'BTUPER', 'BTUSYD', 'BTUWUH', 'BWNCKG', 'BWNDEL', 'BWNHGH',\n",
              "       'BWNIKA', 'BWNKTM', 'BWNMEL', 'BWNOOL', 'BWNPER', 'BWNSYD',\n",
              "       'BWNTPE', 'CANDEL', 'CANIKA', 'CANMEL', 'CANMRU', 'CANOOL',\n",
              "       'CANPER', 'CANSYD', 'CCUMEL', 'CCUMRU', 'CCUOOL', 'CCUPER',\n",
              "       'CCUSYD', 'CCUTPE', 'CEBMEL', 'CEBOOL', 'CEBPER', 'CEBSYD',\n",
              "       'CGKCKG', 'CGKCTS', 'CGKCTU', 'CGKDEL', 'CGKHGH', 'CGKHND',\n",
              "       'CGKICN', 'CGKIKA', 'CGKJED', 'CGKKIX', 'CGKKTM', 'CGKMEL',\n",
              "       'CGKMRU', 'CGKOOL', 'CGKPEK', 'CGKPER', 'CGKPUS', 'CGKPVG',\n",
              "       'CGKSYD', 'CGKTPE', 'CGKWUH', 'CGKXIY', 'CKGCOK', 'CKGDPS',\n",
              "       'CKGJHB', 'CKGKCH', 'CKGLOP', 'CKGMAA', 'CKGMEL', 'CKGMYY',\n",
              "       'CKGOOL', 'CKGPEN', 'CKGPER', 'CKGPNH', 'CKGSBW', 'CKGSIN',\n",
              "       'CKGSUB', 'CKGSYD', 'CKGTGG', 'CKGTRZ', 'CKGTWU', 'CMBCTS',\n",
              "       'CMBCTU', 'CMBHGH', 'CMBHND', 'CMBICN', 'CMBKIX', 'CMBMEL',\n",
              "       'CMBMRU', 'CMBOOL', 'CMBPEK', 'CMBPER', 'CMBPVG', 'CMBSYD',\n",
              "       'CMBWUH', 'CNXHND', 'CNXICN', 'CNXKIX', 'CNXMEL', 'CNXOOL',\n",
              "       'CNXPEK', 'CNXPER', 'CNXPVG', 'CNXSYD', 'CNXTPE', 'COKCTU',\n",
              "       'COKHGH', 'COKICN', 'COKKIX', 'COKMEL', 'COKOOL', 'COKPER',\n",
              "       'COKPUS', 'COKSYD', 'COKTPE', 'COKWUH', 'CRKMEL', 'CRKOOL',\n",
              "       'CRKSYD', 'CSXPER', 'CTSDMK', 'CTSDPS', 'CTSHKT', 'CTSJHB',\n",
              "       'CTSKBR', 'CTSKCH', 'CTSKNO', 'CTSLGK', 'CTSMEL', 'CTSMYY',\n",
              "       'CTSOOL', 'CTSPEN', 'CTSPER', 'CTSSGN', 'CTSSIN', 'CTSSUB',\n",
              "       'CTSSYD', 'CTUDPS', 'CTUHKT', 'CTUIKA', 'CTUJHB', 'CTUKBV',\n",
              "       'CTUKCH', 'CTUKNO', 'CTUMAA', 'CTUMEL', 'CTUMRU', 'CTUMYY',\n",
              "       'CTUOOL', 'CTUPEN', 'CTUPER', 'CTUSBW', 'CTUSIN', 'CTUSUB',\n",
              "       'CTUSYD', 'CTUTGG', 'CTUTRZ', 'CTUTWU', 'CXRMEL', 'DACHGH',\n",
              "       'DACHND', 'DACICN', 'DACKIX', 'DACMEL', 'DACOOL', 'DACPER',\n",
              "       'DACSYD', 'DACTPE', 'DADMEL', 'DADOOL', 'DADSYD', 'DELDMK',\n",
              "       'DELDPS', 'DELHKG', 'DELHKT', 'DELHND', 'DELJHB', 'DELJOG',\n",
              "       'DELKBV', 'DELKCH', 'DELKIX', 'DELKNO', 'DELLGK', 'DELMEL',\n",
              "       'DELMFM', 'DELMNL', 'DELMRU', 'DELMYY', 'DELOOL', 'DELPEN',\n",
              "       'DELPER', 'DELPNH', 'DELSBW', 'DELSGN', 'DELSIN', 'DELSUB',\n",
              "       'DELSYD', 'DELSZX', 'DMKHGH', 'DMKHND', 'DMKICN', 'DMKIKA',\n",
              "       'DMKKIX', 'DMKKTM', 'DMKMEL', 'DMKMRU', 'DMKOOL', 'DMKPEK',\n",
              "       'DMKPER', 'DMKPUS', 'DMKPVG', 'DMKSYD', 'DMKTPE', 'DPSHGH',\n",
              "       'DPSHND', 'DPSICN', 'DPSIKA', 'DPSKIX', 'DPSKTM', 'DPSMEL',\n",
              "       'DPSMRU', 'DPSOOL', 'DPSPEK', 'DPSPUS', 'DPSPVG', 'DPSSYD',\n",
              "       'DPSTPE', 'DPSXIY', 'GOIKUL', 'GOIMEL', 'GOIOOL', 'GOIPER',\n",
              "       'GOISYD', 'HANKTM', 'HANMEL', 'HANOOL', 'HANPER', 'HANSYD',\n",
              "       'HDYHGH', 'HDYKTM', 'HDYMEL', 'HDYOOL', 'HDYPEK', 'HDYPER',\n",
              "       'HDYPVG', 'HDYSYD', 'HDYTPE', 'HGHHKT', 'HGHJHB', 'HGHJOG',\n",
              "       'HGHKBR', 'HGHKBV', 'HGHKCH', 'HGHKNO', 'HGHLGK', 'HGHLOP',\n",
              "       'HGHMAA', 'HGHMEL', 'HGHMYY', 'HGHOOL', 'HGHPEN', 'HGHPER',\n",
              "       'HGHSBW', 'HGHSUB', 'HGHSYD', 'HGHTRZ', 'HKGIKA', 'HKGKTM',\n",
              "       'HKGMEL', 'HKGMRU', 'HKGOOL', 'HKGPER', 'HKGSYD', 'HKTHND',\n",
              "       'HKTICN', 'HKTKIX', 'HKTKTM', 'HKTMEL', 'HKTMRU', 'HKTOOL',\n",
              "       'HKTPEK', 'HKTPER', 'HKTPUS', 'HKTPVG', 'HKTSYD', 'HKTTPE',\n",
              "       'HKTXIY', 'HNDIKA', 'HNDJOG', 'HNDKBR', 'HNDKBV', 'HNDKCH',\n",
              "       'HNDKNO', 'HNDKTM', 'HNDLGK', 'HNDLOP', 'HNDMAA', 'HNDMEL',\n",
              "       'HNDMLE', 'HNDOOL', 'HNDPEN', 'HNDPER', 'HNDPNH', 'HNDREP',\n",
              "       'HNDRGN', 'HNDSBW', 'HNDSGN', 'HNDSIN', 'HNDSUB', 'HNDSYD',\n",
              "       'HNDTRZ', 'HYDMEL', 'HYDOOL', 'HYDPER', 'HYDSYD', 'HYDWUH',\n",
              "       'ICNIKA', 'ICNJED', 'ICNJHB', 'ICNKBR', 'ICNKBV', 'ICNKCH',\n",
              "       'ICNKNO', 'ICNKTM', 'ICNLGK', 'ICNMAA', 'ICNMEL', 'ICNMLE',\n",
              "       'ICNMYY', 'ICNOOL', 'ICNPEN', 'ICNPER', 'ICNREP', 'ICNRGN',\n",
              "       'ICNSBW', 'ICNSDK', 'ICNSGN', 'ICNSIN', 'ICNSUB', 'ICNSYD',\n",
              "       'ICNTRZ', 'ICNVTZ', 'IKAKCH', 'IKAKIX', 'IKALOP', 'IKAMEL',\n",
              "       'IKAMFM', 'IKAMNL', 'IKAOOL', 'IKAPEK', 'IKAPEN', 'IKAPER',\n",
              "       'IKAPUS', 'IKAPVG', 'IKASGN', 'IKASIN', 'IKASUB', 'IKASYD',\n",
              "       'IKATPE', 'JEDJOG', 'JEDKNO', 'JEDMEL', 'JEDMNL', 'JEDPDG',\n",
              "       'JEDPEN', 'JEDSUB', 'JHBKIX', 'JHBKTM', 'JHBMEL', 'JHBMRU',\n",
              "       'JHBPEK', 'JHBPUS', 'JHBPVG', 'JHBSYD', 'JHBTPE', 'JHBWUH',\n",
              "       'JHBXIY', 'JOGKIX', 'JOGKTM', 'JOGMEL', 'JOGOOL', 'JOGPER',\n",
              "       'JOGPVG', 'JOGSYD', 'JOGTPE', 'KBRKIX', 'KBRKTM', 'KBRMEL',\n",
              "       'KBROOL', 'KBRPEK', 'KBRPER', 'KBRPVG', 'KBRSYD', 'KBRTPE',\n",
              "       'KBVKTM', 'KBVMEL', 'KBVOOL', 'KBVPEK', 'KBVPER', 'KBVPVG',\n",
              "       'KBVSYD', 'KCHKIX', 'KCHKTM', 'KCHMEL', 'KCHMRU', 'KCHOOL',\n",
              "       'KCHPEK', 'KCHPER', 'KCHPUS', 'KCHPVG', 'KCHSYD', 'KCHTPE',\n",
              "       'KCHXIY', 'KHHMEL', 'KHHOOL', 'KHHPER', 'KHHSYD', 'KIXKNO',\n",
              "       'KIXKTM', 'KIXLGK', 'KIXLOP', 'KIXMAA', 'KIXMEL', 'KIXMLE',\n",
              "       'KIXMYY', 'KIXOOL', 'KIXPEN', 'KIXPER', 'KIXPNH', 'KIXREP',\n",
              "       'KIXRGN', 'KIXSBW', 'KIXSGN', 'KIXSIN', 'KIXSUB', 'KIXSYD',\n",
              "       'KIXTGG', 'KIXTRZ', 'KLOMEL', 'KLOOOL', 'KNOKTM', 'KNOMEL',\n",
              "       'KNOOOL', 'KNOPEK', 'KNOPER', 'KNOPUS', 'KNOPVG', 'KNOSYD',\n",
              "       'KNOTPE', 'KNOXIY', 'KOSMEL', 'KOSOOL', 'KOSPEK', 'KOSSYD',\n",
              "       'KTMMEL', 'KTMMFM', 'KTMMYY', 'KTMPEN', 'KTMPER', 'KTMREP',\n",
              "       'KTMSGN', 'KTMSIN', 'KTMSUB', 'KTMSYD', 'KTMTGG', 'KTMTPE',\n",
              "       'KTMURT', 'KWLPER', 'LBUPER', 'LGKMEL', 'LGKOOL', 'LGKPER',\n",
              "       'LGKPUS', 'LGKPVG', 'LGKSYD', 'LGKTPE', 'LOPOOL', 'LOPPEK',\n",
              "       'LOPPVG', 'LOPSYD', 'LOPTPE', 'LOPXIY', 'LPQMEL', 'LPQOOL',\n",
              "       'LPQPER', 'LPQTPE', 'MAAMEL', 'MAAMRU', 'MAAOOL', 'MAAPER',\n",
              "       'MAAPVG', 'MAASYD', 'MAATPE', 'MAAWUH', 'MELMFM', 'MELMLE',\n",
              "       'MELMNL', 'MELMRU', 'MELMYY', 'MELPEK', 'MELPEN', 'MELPNH',\n",
              "       'MELPUS', 'MELPVG', 'MELREP', 'MELRGN', 'MELSBW', 'MELSGN',\n",
              "       'MELSIN', 'MELSUB', 'MELSWA', 'MELSZX', 'MELTGG', 'MELTPE',\n",
              "       'MELTRZ', 'MELTWU', 'MELURT', 'MELUTP', 'MELVTE', 'MELVTZ',\n",
              "       'MELWUH', 'MELXIY', 'MFMOOL', 'MFMPER', 'MFMSYD', 'MLEPEK',\n",
              "       'MLEPER', 'MLESYD', 'MNLMRU', 'MNLOOL', 'MNLPER', 'MNLSYD',\n",
              "       'MRUOOL', 'MRUPEK', 'MRUPEN', 'MRUPER', 'MRUPVG', 'MRUSGN',\n",
              "       'MRUSIN', 'MRUSUB', 'MRUSYD', 'MRUSZX', 'MYYOOL', 'MYYPER',\n",
              "       'MYYPUS', 'MYYSYD', 'MYYXIY', 'NRTSYD', 'OOLPEK', 'OOLPEN',\n",
              "       'OOLPNH', 'OOLPUS', 'OOLPVG', 'OOLREP', 'OOLRGN', 'OOLSBW',\n",
              "       'OOLSDK', 'OOLSGN', 'OOLSIN', 'OOLSUB', 'OOLSZX', 'OOLTGG',\n",
              "       'OOLTPE', 'OOLTRZ', 'OOLTWU', 'OOLURT', 'OOLUTP', 'OOLVTE',\n",
              "       'OOLWUH', 'OOLXIY', 'PEKPEN', 'PEKPER', 'PEKREP', 'PEKRGN',\n",
              "       'PEKSBW', 'PEKSIN', 'PEKSUB', 'PEKSYD', 'PEKTGG', 'PEKTRZ',\n",
              "       'PEKTWU', 'PENPER', 'PENPUS', 'PENPVG', 'PENSYD', 'PENTPE',\n",
              "       'PENWUH', 'PENXIY', 'PERPNH', 'PERPUS', 'PERPVG', 'PERREP',\n",
              "       'PERRGN', 'PERSBW', 'PERSDK', 'PERSGN', 'PERSIN', 'PERSWA',\n",
              "       'PERSZX', 'PERTGG', 'PERTPE', 'PERTRZ', 'PERTWU', 'PERUTP',\n",
              "       'PERVTE', 'PERVTZ', 'PERWUH', 'PERXIY', 'PNHSYD', 'PNHTPE',\n",
              "       'PNKTPE', 'PUSRGN', 'PUSSBW', 'PUSSGN', 'PUSSIN', 'PUSSUB',\n",
              "       'PUSSYD', 'PUSTRZ', 'PVGREP', 'PVGRGN', 'PVGSIN', 'PVGSUB',\n",
              "       'PVGSYD', 'PVGTGG', 'PVGTWU', 'PVGURT', 'REPSYD', 'REPTPE',\n",
              "       'RGNSYD', 'RGNTPE', 'SBWSYD', 'SBWTPE', 'SBWXIY', 'SDKSYD',\n",
              "       'SGNSYD', 'SGNXIY', 'SINSYD', 'SINTPE', 'SINWUH', 'SINXIY',\n",
              "       'SRGTPE', 'SUBSYD', 'SUBTPE', 'SUBXIY', 'SYDSZX', 'SYDTPE',\n",
              "       'SYDTRZ', 'SYDTWU', 'SYDVTE', 'SYDVTZ', 'SYDXIY', 'TGGTPE',\n",
              "       'TGGXIY', 'TPETRZ', 'TPEVTE', 'TRZWUH', 'TRZXIY', 'TWUXIY',\n",
              "       'HGHSGN', 'ICNTGG', 'JHBOOL', 'KBRXIY', 'KBVTPE', 'KIXTWU',\n",
              "       'LBUTPE', 'PVGSGN', 'SBWWUH', 'DELREP', 'DPSWUH', 'HKGJED',\n",
              "       'KBVKIX', 'KBVPUS', 'KIXLPQ', 'LGKPEK', 'LGKXIY', 'LOPPER',\n",
              "       'PEKSGN', 'PERSUB', 'TPETWU', 'BDOWUH', 'BKIDEL', 'CKGSGN',\n",
              "       'CTUKBR', 'CTULGK', 'CTUREP', 'DACMRU', 'DACPEK', 'DELRGN',\n",
              "       'HDYXIY', 'HGHTGG', 'HKTWUH', 'ICNVTE', 'KBRPUS', 'KCHWUH',\n",
              "       'KLOSYD', 'KNOWUH', 'MLETPE', 'SDKTPE', 'SUBWUH', 'TWUWUH',\n",
              "       'AORPUS', 'BTUCKG', 'BWNWUH', 'CKGKNO', 'CKGLGK', 'CNXDEL',\n",
              "       'CNXPUS', 'CTSJOG', 'CTSSBW', 'CTUDMK', 'CTULOP', 'DELKBR',\n",
              "       'DELURT', 'HDYKIX', 'HGHSIN', 'HGHTWU', 'HYDMRU', 'IKASZX',\n",
              "       'KBVWUH', 'KBVXIY', 'KIXLBU', 'LGKWUH', 'MELNRT', 'MLEOOL',\n",
              "       'MRUTPE', 'TPEURT', 'URTXIY', 'AORPER', 'CKGHKT', 'CKGMRU',\n",
              "       'CNXXIY', 'COKCTS', 'CSXMRU', 'CSXSYD', 'CTUMLE', 'CTUSGN',\n",
              "       'CTUSRG', 'CTUURT', 'DACPUS', 'HGHMRU', 'HKTIKA', 'HKTJED',\n",
              "       'ICNMRU', 'JEDMFM', 'KBRWUH', 'KIXMRU', 'KTMTWU', 'MLEPVG',\n",
              "       'MRUXIY'], dtype=object)"
            ]
          },
          "execution_count": 5,
          "metadata": {},
          "output_type": "execute_result"
        }
      ],
      "source": [
        "df[\"route\"].unique()"
      ]
    },
    {
      "cell_type": "code",
      "execution_count": 6,
      "metadata": {
        "colab": {
          "base_uri": "https://localhost:8080/"
        },
        "id": "SH0RD0mRb6ns",
        "outputId": "117420b9-7ffe-420e-b541-c1fed2d1ed91"
      },
      "outputs": [
        {
          "data": {
            "text/plain": [
              "array(['RoundTrip', 'CircleTrip', 'OneWay'], dtype=object)"
            ]
          },
          "execution_count": 6,
          "metadata": {},
          "output_type": "execute_result"
        }
      ],
      "source": [
        "df[\"trip_type\"].unique()"
      ]
    },
    {
      "cell_type": "code",
      "execution_count": 7,
      "metadata": {
        "colab": {
          "base_uri": "https://localhost:8080/"
        },
        "id": "l-dAIV54b0SX",
        "outputId": "736591e4-6c84-4346-ab9e-54f84a283d31"
      },
      "outputs": [
        {
          "data": {
            "text/plain": [
              "array(['Internet', 'Mobile'], dtype=object)"
            ]
          },
          "execution_count": 7,
          "metadata": {},
          "output_type": "execute_result"
        }
      ],
      "source": [
        "df[\"sales_channel\"].unique()"
      ]
    },
    {
      "cell_type": "markdown",
      "metadata": {},
      "source": [
        "## Information about dataset"
      ]
    },
    {
      "cell_type": "code",
      "execution_count": 8,
      "metadata": {
        "colab": {
          "base_uri": "https://localhost:8080/"
        },
        "id": "v2HuHUPZB-i9",
        "outputId": "6733f213-d8c8-4932-c448-8698f69f772b"
      },
      "outputs": [
        {
          "name": "stdout",
          "output_type": "stream",
          "text": [
            "<class 'pandas.core.frame.DataFrame'>\n",
            "RangeIndex: 50000 entries, 0 to 49999\n",
            "Data columns (total 14 columns):\n",
            " #   Column                 Non-Null Count  Dtype  \n",
            "---  ------                 --------------  -----  \n",
            " 0   num_passengers         50000 non-null  int64  \n",
            " 1   sales_channel          50000 non-null  object \n",
            " 2   trip_type              50000 non-null  object \n",
            " 3   purchase_lead          50000 non-null  int64  \n",
            " 4   length_of_stay         50000 non-null  int64  \n",
            " 5   flight_hour            50000 non-null  int64  \n",
            " 6   flight_day             50000 non-null  object \n",
            " 7   route                  50000 non-null  object \n",
            " 8   booking_origin         50000 non-null  object \n",
            " 9   wants_extra_baggage    50000 non-null  int64  \n",
            " 10  wants_preferred_seat   50000 non-null  int64  \n",
            " 11  wants_in_flight_meals  50000 non-null  int64  \n",
            " 12  flight_duration        50000 non-null  float64\n",
            " 13  booking_complete       50000 non-null  int64  \n",
            "dtypes: float64(1), int64(8), object(5)\n",
            "memory usage: 5.3+ MB\n"
          ]
        }
      ],
      "source": [
        "df.info()"
      ]
    },
    {
      "attachments": {},
      "cell_type": "markdown",
      "metadata": {
        "id": "EBwsRGC4B-i9"
      },
      "source": [
        "The `.info()` method gives us a data description, telling us the names of the columns, their data types and how many null values we have. Fortunately, we have no null values. It looks like some of these columns should be converted into different data types, e.g. flight_day.\n",
        "\n",
        "To provide more context, below is a more detailed data description, explaining exactly what each column means:\n",
        "\n",
        "- `num_passengers` = number of passengers travelling\n",
        "- `sales_channel` = sales channel booking was made on\n",
        "- `trip_type` = trip Type (Round Trip, One Way, Circle Trip)\n",
        "- `purchase_lead` = number of days between travel date and booking date\n",
        "- `length_of_stay` = number of days spent at destination\n",
        "- `flight_hour` = hour of flight departure\n",
        "- `flight_day` = day of week of flight departure\n",
        "- `route` = origin -> destination flight route\n",
        "- `booking_origin` = country from where booking was made\n",
        "- `wants_extra_baggage` = if the customer wanted extra baggage in the booking\n",
        "- `wants_preferred_seat` = if the customer wanted a preferred seat in the booking\n",
        "- `wants_in_flight_meals` = if the customer wanted in-flight meals in the booking\n",
        "- `flight_duration` = total duration of flight (in hours)\n",
        "- `booking_complete` = flag indicating if the customer completed the booking\n",
        "\n",
        "Before we compute any statistics on the data, lets do any necessary data conversion"
      ]
    },
    {
      "cell_type": "code",
      "execution_count": 9,
      "metadata": {
        "colab": {
          "base_uri": "https://localhost:8080/"
        },
        "id": "-omhN1V_B-i-",
        "outputId": "86c53b8e-631e-4cd3-c30e-b220ec1e933d"
      },
      "outputs": [
        {
          "data": {
            "text/plain": [
              "array(['Sat', 'Wed', 'Thu', 'Mon', 'Sun', 'Tue', 'Fri'], dtype=object)"
            ]
          },
          "execution_count": 9,
          "metadata": {},
          "output_type": "execute_result"
        }
      ],
      "source": [
        "df[\"flight_day\"].unique()"
      ]
    },
    {
      "attachments": {},
      "cell_type": "markdown",
      "metadata": {
        "id": "33F9UkUqAna7"
      },
      "source": [
        "- Format specifier %A is used to parse the full weekday name.\n",
        "- To parse abbreviated weekday names, use %a format.\n",
        "- weekday names like \"Mon\", \"Tue\", \"Wed\", etc.\n",
        "- Verify that the weekday column is of type string"
      ]
    },
    {
      "attachments": {},
      "cell_type": "markdown",
      "metadata": {
        "id": "-ElgMHItDVc5"
      },
      "source": []
    },
    {
      "cell_type": "code",
      "execution_count": 10,
      "metadata": {
        "id": "ZFa3Qbg3C-ek"
      },
      "outputs": [],
      "source": [
        "#df[\"flight_day\"] = df[\"flight_day\"].astype(\"string\")"
      ]
    },
    {
      "cell_type": "code",
      "execution_count": 11,
      "metadata": {
        "id": "YtMhXylNh1bp"
      },
      "outputs": [],
      "source": [
        "#df[\"day-num\"] = pd.to_datetime(df[\"flight_day\"], format=\"%a\").dt.weekday"
      ]
    },
    {
      "cell_type": "code",
      "execution_count": 12,
      "metadata": {
        "id": "DcEGzbAoB-i-"
      },
      "outputs": [],
      "source": [
        "# Chnage the week day name to week day number where Monday = 0\n",
        "\n",
        "mapping = {\n",
        "    \"Mon\": 1,\n",
        "    \"Tue\": 2,\n",
        "    \"Wed\": 3,\n",
        "    \"Thu\": 4,\n",
        "    \"Fri\": 5,\n",
        "    \"Sat\": 6,\n",
        "    \"Sun\": 7,\n",
        "}\n",
        "\n",
        "df[\"flight_day\"] = df[\"flight_day\"].map(mapping)"
      ]
    },
    {
      "cell_type": "code",
      "execution_count": 13,
      "metadata": {
        "colab": {
          "base_uri": "https://localhost:8080/"
        },
        "id": "YwvjOUmUB-i_",
        "outputId": "a9cdcad4-6955-4043-da01-e5101f5be5a8"
      },
      "outputs": [
        {
          "data": {
            "text/plain": [
              "array([6, 3, 4, 1, 7, 2, 5])"
            ]
          },
          "execution_count": 13,
          "metadata": {},
          "output_type": "execute_result"
        }
      ],
      "source": [
        "df[\"flight_day\"].unique()"
      ]
    },
    {
      "cell_type": "code",
      "execution_count": 14,
      "metadata": {
        "colab": {
          "base_uri": "https://localhost:8080/"
        },
        "id": "JxCHKcWNCSnJ",
        "outputId": "b1bf0514-1576-4b07-e01b-fb7126a63b39"
      },
      "outputs": [
        {
          "name": "stdout",
          "output_type": "stream",
          "text": [
            "<class 'pandas.core.frame.DataFrame'>\n",
            "RangeIndex: 50000 entries, 0 to 49999\n",
            "Data columns (total 14 columns):\n",
            " #   Column                 Non-Null Count  Dtype  \n",
            "---  ------                 --------------  -----  \n",
            " 0   num_passengers         50000 non-null  int64  \n",
            " 1   sales_channel          50000 non-null  object \n",
            " 2   trip_type              50000 non-null  object \n",
            " 3   purchase_lead          50000 non-null  int64  \n",
            " 4   length_of_stay         50000 non-null  int64  \n",
            " 5   flight_hour            50000 non-null  int64  \n",
            " 6   flight_day             50000 non-null  int64  \n",
            " 7   route                  50000 non-null  object \n",
            " 8   booking_origin         50000 non-null  object \n",
            " 9   wants_extra_baggage    50000 non-null  int64  \n",
            " 10  wants_preferred_seat   50000 non-null  int64  \n",
            " 11  wants_in_flight_meals  50000 non-null  int64  \n",
            " 12  flight_duration        50000 non-null  float64\n",
            " 13  booking_complete       50000 non-null  int64  \n",
            "dtypes: float64(1), int64(9), object(4)\n",
            "memory usage: 5.3+ MB\n"
          ]
        }
      ],
      "source": [
        "df.info()"
      ]
    },
    {
      "cell_type": "code",
      "execution_count": 15,
      "metadata": {
        "colab": {
          "base_uri": "https://localhost:8080/",
          "height": 300
        },
        "id": "21iTbFNWB-i_",
        "outputId": "cf3df263-8458-4ccb-aa61-30d22be1191c"
      },
      "outputs": [
        {
          "data": {
            "text/html": [
              "<div>\n",
              "<style scoped>\n",
              "    .dataframe tbody tr th:only-of-type {\n",
              "        vertical-align: middle;\n",
              "    }\n",
              "\n",
              "    .dataframe tbody tr th {\n",
              "        vertical-align: top;\n",
              "    }\n",
              "\n",
              "    .dataframe thead th {\n",
              "        text-align: right;\n",
              "    }\n",
              "</style>\n",
              "<table border=\"1\" class=\"dataframe\">\n",
              "  <thead>\n",
              "    <tr style=\"text-align: right;\">\n",
              "      <th></th>\n",
              "      <th>num_passengers</th>\n",
              "      <th>purchase_lead</th>\n",
              "      <th>length_of_stay</th>\n",
              "      <th>flight_hour</th>\n",
              "      <th>flight_day</th>\n",
              "      <th>wants_extra_baggage</th>\n",
              "      <th>wants_preferred_seat</th>\n",
              "      <th>wants_in_flight_meals</th>\n",
              "      <th>flight_duration</th>\n",
              "      <th>booking_complete</th>\n",
              "    </tr>\n",
              "  </thead>\n",
              "  <tbody>\n",
              "    <tr>\n",
              "      <th>count</th>\n",
              "      <td>50000.000000</td>\n",
              "      <td>50000.000000</td>\n",
              "      <td>50000.00000</td>\n",
              "      <td>50000.00000</td>\n",
              "      <td>50000.000000</td>\n",
              "      <td>50000.000000</td>\n",
              "      <td>50000.000000</td>\n",
              "      <td>50000.000000</td>\n",
              "      <td>50000.000000</td>\n",
              "      <td>50000.000000</td>\n",
              "    </tr>\n",
              "    <tr>\n",
              "      <th>mean</th>\n",
              "      <td>1.591240</td>\n",
              "      <td>84.940480</td>\n",
              "      <td>23.04456</td>\n",
              "      <td>9.06634</td>\n",
              "      <td>3.814420</td>\n",
              "      <td>0.668780</td>\n",
              "      <td>0.296960</td>\n",
              "      <td>0.427140</td>\n",
              "      <td>7.277561</td>\n",
              "      <td>0.149560</td>\n",
              "    </tr>\n",
              "    <tr>\n",
              "      <th>std</th>\n",
              "      <td>1.020165</td>\n",
              "      <td>90.451378</td>\n",
              "      <td>33.88767</td>\n",
              "      <td>5.41266</td>\n",
              "      <td>1.992792</td>\n",
              "      <td>0.470657</td>\n",
              "      <td>0.456923</td>\n",
              "      <td>0.494668</td>\n",
              "      <td>1.496863</td>\n",
              "      <td>0.356643</td>\n",
              "    </tr>\n",
              "    <tr>\n",
              "      <th>min</th>\n",
              "      <td>1.000000</td>\n",
              "      <td>0.000000</td>\n",
              "      <td>0.00000</td>\n",
              "      <td>0.00000</td>\n",
              "      <td>1.000000</td>\n",
              "      <td>0.000000</td>\n",
              "      <td>0.000000</td>\n",
              "      <td>0.000000</td>\n",
              "      <td>4.670000</td>\n",
              "      <td>0.000000</td>\n",
              "    </tr>\n",
              "    <tr>\n",
              "      <th>25%</th>\n",
              "      <td>1.000000</td>\n",
              "      <td>21.000000</td>\n",
              "      <td>5.00000</td>\n",
              "      <td>5.00000</td>\n",
              "      <td>2.000000</td>\n",
              "      <td>0.000000</td>\n",
              "      <td>0.000000</td>\n",
              "      <td>0.000000</td>\n",
              "      <td>5.620000</td>\n",
              "      <td>0.000000</td>\n",
              "    </tr>\n",
              "    <tr>\n",
              "      <th>50%</th>\n",
              "      <td>1.000000</td>\n",
              "      <td>51.000000</td>\n",
              "      <td>17.00000</td>\n",
              "      <td>9.00000</td>\n",
              "      <td>4.000000</td>\n",
              "      <td>1.000000</td>\n",
              "      <td>0.000000</td>\n",
              "      <td>0.000000</td>\n",
              "      <td>7.570000</td>\n",
              "      <td>0.000000</td>\n",
              "    </tr>\n",
              "    <tr>\n",
              "      <th>75%</th>\n",
              "      <td>2.000000</td>\n",
              "      <td>115.000000</td>\n",
              "      <td>28.00000</td>\n",
              "      <td>13.00000</td>\n",
              "      <td>5.000000</td>\n",
              "      <td>1.000000</td>\n",
              "      <td>1.000000</td>\n",
              "      <td>1.000000</td>\n",
              "      <td>8.830000</td>\n",
              "      <td>0.000000</td>\n",
              "    </tr>\n",
              "    <tr>\n",
              "      <th>max</th>\n",
              "      <td>9.000000</td>\n",
              "      <td>867.000000</td>\n",
              "      <td>778.00000</td>\n",
              "      <td>23.00000</td>\n",
              "      <td>7.000000</td>\n",
              "      <td>1.000000</td>\n",
              "      <td>1.000000</td>\n",
              "      <td>1.000000</td>\n",
              "      <td>9.500000</td>\n",
              "      <td>1.000000</td>\n",
              "    </tr>\n",
              "  </tbody>\n",
              "</table>\n",
              "</div>"
            ],
            "text/plain": [
              "       num_passengers  purchase_lead  length_of_stay  flight_hour  \\\n",
              "count    50000.000000   50000.000000     50000.00000  50000.00000   \n",
              "mean         1.591240      84.940480        23.04456      9.06634   \n",
              "std          1.020165      90.451378        33.88767      5.41266   \n",
              "min          1.000000       0.000000         0.00000      0.00000   \n",
              "25%          1.000000      21.000000         5.00000      5.00000   \n",
              "50%          1.000000      51.000000        17.00000      9.00000   \n",
              "75%          2.000000     115.000000        28.00000     13.00000   \n",
              "max          9.000000     867.000000       778.00000     23.00000   \n",
              "\n",
              "         flight_day  wants_extra_baggage  wants_preferred_seat  \\\n",
              "count  50000.000000         50000.000000          50000.000000   \n",
              "mean       3.814420             0.668780              0.296960   \n",
              "std        1.992792             0.470657              0.456923   \n",
              "min        1.000000             0.000000              0.000000   \n",
              "25%        2.000000             0.000000              0.000000   \n",
              "50%        4.000000             1.000000              0.000000   \n",
              "75%        5.000000             1.000000              1.000000   \n",
              "max        7.000000             1.000000              1.000000   \n",
              "\n",
              "       wants_in_flight_meals  flight_duration  booking_complete  \n",
              "count           50000.000000     50000.000000      50000.000000  \n",
              "mean                0.427140         7.277561          0.149560  \n",
              "std                 0.494668         1.496863          0.356643  \n",
              "min                 0.000000         4.670000          0.000000  \n",
              "25%                 0.000000         5.620000          0.000000  \n",
              "50%                 0.000000         7.570000          0.000000  \n",
              "75%                 1.000000         8.830000          0.000000  \n",
              "max                 1.000000         9.500000          1.000000  "
            ]
          },
          "execution_count": 15,
          "metadata": {},
          "output_type": "execute_result"
        }
      ],
      "source": [
        "df.describe()"
      ]
    },
    {
      "attachments": {},
      "cell_type": "markdown",
      "metadata": {
        "id": "oiaJCJ_QB-jA"
      },
      "source": [
        "The `.describe()` method gives us a summary of descriptive statistics over the entire dataset (only works for numeric columns). This gives us a quick overview of a few things such as the mean, min, max and overall distribution of each column.\n",
        "\n",
        "From this point, you should continue exploring the dataset with some visualisations and other metrics that you think may be useful. Then, you should prepare your dataset for predictive modelling. Finally, you should train your machine learning model, evaluate it with performance metrics and output visualisations for the contributing variables. All of this analysis should be summarised in your single slide."
      ]
    },
    {
      "cell_type": "code",
      "execution_count": 16,
      "metadata": {
        "colab": {
          "base_uri": "https://localhost:8080/",
          "height": 206
        },
        "id": "9AGU6tOCZB44",
        "outputId": "95672071-cd9c-40bb-f6c4-340b88534507"
      },
      "outputs": [
        {
          "data": {
            "text/html": [
              "<div>\n",
              "<style scoped>\n",
              "    .dataframe tbody tr th:only-of-type {\n",
              "        vertical-align: middle;\n",
              "    }\n",
              "\n",
              "    .dataframe tbody tr th {\n",
              "        vertical-align: top;\n",
              "    }\n",
              "\n",
              "    .dataframe thead th {\n",
              "        text-align: right;\n",
              "    }\n",
              "</style>\n",
              "<table border=\"1\" class=\"dataframe\">\n",
              "  <thead>\n",
              "    <tr style=\"text-align: right;\">\n",
              "      <th></th>\n",
              "      <th>num_passengers</th>\n",
              "      <th>sales_channel</th>\n",
              "      <th>trip_type</th>\n",
              "      <th>purchase_lead</th>\n",
              "      <th>length_of_stay</th>\n",
              "      <th>flight_hour</th>\n",
              "      <th>flight_day</th>\n",
              "      <th>route</th>\n",
              "      <th>booking_origin</th>\n",
              "      <th>wants_extra_baggage</th>\n",
              "      <th>wants_preferred_seat</th>\n",
              "      <th>wants_in_flight_meals</th>\n",
              "      <th>flight_duration</th>\n",
              "      <th>booking_complete</th>\n",
              "    </tr>\n",
              "  </thead>\n",
              "  <tbody>\n",
              "    <tr>\n",
              "      <th>0</th>\n",
              "      <td>2</td>\n",
              "      <td>Internet</td>\n",
              "      <td>RoundTrip</td>\n",
              "      <td>262</td>\n",
              "      <td>19</td>\n",
              "      <td>7</td>\n",
              "      <td>6</td>\n",
              "      <td>AKLDEL</td>\n",
              "      <td>New Zealand</td>\n",
              "      <td>1</td>\n",
              "      <td>0</td>\n",
              "      <td>0</td>\n",
              "      <td>5.52</td>\n",
              "      <td>0</td>\n",
              "    </tr>\n",
              "    <tr>\n",
              "      <th>1</th>\n",
              "      <td>1</td>\n",
              "      <td>Internet</td>\n",
              "      <td>RoundTrip</td>\n",
              "      <td>112</td>\n",
              "      <td>20</td>\n",
              "      <td>3</td>\n",
              "      <td>6</td>\n",
              "      <td>AKLDEL</td>\n",
              "      <td>New Zealand</td>\n",
              "      <td>0</td>\n",
              "      <td>0</td>\n",
              "      <td>0</td>\n",
              "      <td>5.52</td>\n",
              "      <td>0</td>\n",
              "    </tr>\n",
              "    <tr>\n",
              "      <th>2</th>\n",
              "      <td>2</td>\n",
              "      <td>Internet</td>\n",
              "      <td>RoundTrip</td>\n",
              "      <td>243</td>\n",
              "      <td>22</td>\n",
              "      <td>17</td>\n",
              "      <td>3</td>\n",
              "      <td>AKLDEL</td>\n",
              "      <td>India</td>\n",
              "      <td>1</td>\n",
              "      <td>1</td>\n",
              "      <td>0</td>\n",
              "      <td>5.52</td>\n",
              "      <td>0</td>\n",
              "    </tr>\n",
              "    <tr>\n",
              "      <th>3</th>\n",
              "      <td>1</td>\n",
              "      <td>Internet</td>\n",
              "      <td>RoundTrip</td>\n",
              "      <td>96</td>\n",
              "      <td>31</td>\n",
              "      <td>4</td>\n",
              "      <td>6</td>\n",
              "      <td>AKLDEL</td>\n",
              "      <td>New Zealand</td>\n",
              "      <td>0</td>\n",
              "      <td>0</td>\n",
              "      <td>1</td>\n",
              "      <td>5.52</td>\n",
              "      <td>0</td>\n",
              "    </tr>\n",
              "    <tr>\n",
              "      <th>4</th>\n",
              "      <td>2</td>\n",
              "      <td>Internet</td>\n",
              "      <td>RoundTrip</td>\n",
              "      <td>68</td>\n",
              "      <td>22</td>\n",
              "      <td>15</td>\n",
              "      <td>3</td>\n",
              "      <td>AKLDEL</td>\n",
              "      <td>India</td>\n",
              "      <td>1</td>\n",
              "      <td>0</td>\n",
              "      <td>1</td>\n",
              "      <td>5.52</td>\n",
              "      <td>0</td>\n",
              "    </tr>\n",
              "  </tbody>\n",
              "</table>\n",
              "</div>"
            ],
            "text/plain": [
              "   num_passengers sales_channel  trip_type  purchase_lead  length_of_stay  \\\n",
              "0               2      Internet  RoundTrip            262              19   \n",
              "1               1      Internet  RoundTrip            112              20   \n",
              "2               2      Internet  RoundTrip            243              22   \n",
              "3               1      Internet  RoundTrip             96              31   \n",
              "4               2      Internet  RoundTrip             68              22   \n",
              "\n",
              "   flight_hour  flight_day   route booking_origin  wants_extra_baggage  \\\n",
              "0            7           6  AKLDEL    New Zealand                    1   \n",
              "1            3           6  AKLDEL    New Zealand                    0   \n",
              "2           17           3  AKLDEL          India                    1   \n",
              "3            4           6  AKLDEL    New Zealand                    0   \n",
              "4           15           3  AKLDEL          India                    1   \n",
              "\n",
              "   wants_preferred_seat  wants_in_flight_meals  flight_duration  \\\n",
              "0                     0                      0             5.52   \n",
              "1                     0                      0             5.52   \n",
              "2                     1                      0             5.52   \n",
              "3                     0                      1             5.52   \n",
              "4                     0                      1             5.52   \n",
              "\n",
              "   booking_complete  \n",
              "0                 0  \n",
              "1                 0  \n",
              "2                 0  \n",
              "3                 0  \n",
              "4                 0  "
            ]
          },
          "execution_count": 16,
          "metadata": {},
          "output_type": "execute_result"
        }
      ],
      "source": [
        "df.head()"
      ]
    },
    {
      "cell_type": "code",
      "execution_count": 17,
      "metadata": {
        "id": "noW7LSmkUYvt"
      },
      "outputs": [],
      "source": [
        "country = df[\"booking_origin\"].value_counts()"
      ]
    },
    {
      "cell_type": "code",
      "execution_count": 18,
      "metadata": {
        "colab": {
          "base_uri": "https://localhost:8080/"
        },
        "id": "30q7T7YjYijm",
        "outputId": "d39a65bf-88bd-4815-c599-c70fcdd5c7fc"
      },
      "outputs": [
        {
          "data": {
            "text/plain": [
              "booking_origin\n",
              "Australia               17872\n",
              "Malaysia                 7174\n",
              "South Korea              4559\n",
              "Japan                    3885\n",
              "China                    3387\n",
              "                        ...  \n",
              "Ghana                       1\n",
              "Gibraltar                   1\n",
              "Guatemala                   1\n",
              "Algeria                     1\n",
              "Svalbard & Jan Mayen        1\n",
              "Name: count, Length: 104, dtype: int64"
            ]
          },
          "execution_count": 18,
          "metadata": {},
          "output_type": "execute_result"
        }
      ],
      "source": [
        "country"
      ]
    },
    {
      "cell_type": "code",
      "execution_count": 19,
      "metadata": {
        "colab": {
          "base_uri": "https://localhost:8080/"
        },
        "id": "acEx8NSzX9Pn",
        "outputId": "313c6c32-8413-49fb-b8a5-c02aff19619a"
      },
      "outputs": [
        {
          "data": {
            "text/plain": [
              "array(['RoundTrip', 'CircleTrip', 'OneWay'], dtype=object)"
            ]
          },
          "execution_count": 19,
          "metadata": {},
          "output_type": "execute_result"
        }
      ],
      "source": [
        "df[\"trip_type\"].unique()"
      ]
    },
    {
      "attachments": {},
      "cell_type": "markdown",
      "metadata": {
        "id": "tTtnFFvVEojt"
      },
      "source": [
        "# Data Visualization"
      ]
    },
    {
      "cell_type": "code",
      "execution_count": 20,
      "metadata": {
        "colab": {
          "base_uri": "https://localhost:8080/"
        },
        "id": "fgVSnGYWFRXt",
        "outputId": "9a5dd455-9c51-46fb-ce8c-26f05ede6bce"
      },
      "outputs": [
        {
          "data": {
            "text/plain": [
              "trip_type\n",
              "RoundTrip     49497\n",
              "OneWay          387\n",
              "CircleTrip      116\n",
              "Name: count, dtype: int64"
            ]
          },
          "execution_count": 20,
          "metadata": {},
          "output_type": "execute_result"
        }
      ],
      "source": [
        "df[\"trip_type\"].value_counts()"
      ]
    },
    {
      "attachments": {},
      "cell_type": "markdown",
      "metadata": {
        "id": "Fl3jtWXU5nOY"
      },
      "source": [
        "### Trip type"
      ]
    },
    {
      "cell_type": "code",
      "execution_count": 21,
      "metadata": {
        "colab": {
          "base_uri": "https://localhost:8080/",
          "height": 472
        },
        "id": "fDRr_PGVHSxH",
        "outputId": "6c296bcc-c1bd-40cf-e6e1-c033ce7b1d27"
      },
      "outputs": [
        {
          "data": {
            "image/png": "[encoded data removed]",
            "text/plain": [
              "<Figure size 640x480 with 1 Axes>"
            ]
          },
          "metadata": {},
          "output_type": "display_data"
        }
      ],
      "source": [
        "g= sns.countplot(x= df[\"trip_type\"], hue=df['booking_complete'])\n",
        "for p in g.patches:\n",
        "  g.annotate(format(p.get_height()),\n",
        "   (p.get_x() + p.get_width()/2. , p.get_height()),\n",
        "              ha = 'center', va='center',\n",
        "              xytext=(0,5),\n",
        "              textcoords='offset points'\n",
        "\n",
        "              )\n",
        "plt.xlabel(\" Trip types\")\n",
        "plt.title(\"Count of trip type\")\n",
        "\n",
        "plt.show()\n"
      ]
    },
    {
      "attachments": {},
      "cell_type": "markdown",
      "metadata": {
        "id": "8qCWN3kB7KQW"
      },
      "source": [
        "## Sales channel"
      ]
    },
    {
      "cell_type": "code",
      "execution_count": 22,
      "metadata": {
        "colab": {
          "base_uri": "https://localhost:8080/",
          "height": 472
        },
        "id": "CNfRAHgjE0sK",
        "outputId": "531a7146-1f89-43b2-9f09-3c0d862773ff"
      },
      "outputs": [
        {
          "data": {
            "image/png": "[encoded data removed]",
            "text/plain": [
              "<Figure size 640x480 with 1 Axes>"
            ]
          },
          "metadata": {},
          "output_type": "display_data"
        }
      ],
      "source": [
        "f = sns.countplot(x= \"sales_channel\", data = df,hue=df['booking_complete'])\n",
        "for p in f.patches:\n",
        "  f.annotate(format(p.get_height()),\n",
        "             (p.get_x()+ p.get_width()/2, p.get_height()),\n",
        "             ha= 'center', va='center',\n",
        "             xytext=(0,5),\n",
        "             textcoords = 'offset points'\n",
        "               )\n",
        "plt.xlabel(\"Sales Channel\")\n",
        "plt.title(\" Count the sales channel use\")\n",
        "plt.show()\n"
      ]
    },
    {
      "attachments": {},
      "cell_type": "markdown",
      "metadata": {
        "id": "4M4FRJsz8U4O"
      },
      "source": []
    },
    {
      "cell_type": "code",
      "execution_count": 23,
      "metadata": {
        "colab": {
          "base_uri": "https://localhost:8080/",
          "height": 472
        },
        "id": "if3W7Mbt8UlN",
        "outputId": "d9caf274-5ddb-46f5-a3e7-bbdd2beccd6d"
      },
      "outputs": [
        {
          "data": {
            "image/png": "[encoded data removed]",
            "text/plain": [
              "<Figure size 1200x500 with 1 Axes>"
            ]
          },
          "metadata": {},
          "output_type": "display_data"
        }
      ],
      "source": [
        "plt.figure(figsize=(12,5))\n",
        "f = sns.countplot( data = df,x= \"num_passengers\",hue=df['booking_complete'])\n",
        "for p in f.patches:\n",
        "  f.annotate(format(p.get_height()),\n",
        "             (p.get_x()+ p.get_width()/2, p.get_height()),\n",
        "             ha= 'center', va='center',\n",
        "             xytext=(0,5),\n",
        "             textcoords = 'offset points'\n",
        "               )\n",
        "plt.xlabel(\"Number of passengers\")\n",
        "\n",
        "plt.title(\" Count the Number of passengers\")\n",
        "plt.show()"
      ]
    },
    {
      "cell_type": "code",
      "execution_count": 24,
      "metadata": {
        "id": "eLj2Dvdn5Ctv"
      },
      "outputs": [],
      "source": [
        "def countplot(col, dataframe,label, size, hue):\n",
        "  plt.figure(figsize =size)\n",
        "  f = sns.countplot(x= col , data = dataframe, hue=hue)\n",
        "  for p in f.patches:\n",
        "    f.annotate(format(p.get_height()),\n",
        "              (p.get_x()+ p.get_width()/2, p.get_height()),\n",
        "              ha= 'center', va='center',\n",
        "              xytext=(0,5),\n",
        "              textcoords = 'offset points'\n",
        "                )\n",
        "\n",
        "  plt.xlabel(label)\n",
        "\n",
        "  plt.title(label)\n",
        "  plt.show()"
      ]
    },
    {
      "cell_type": "markdown",
      "metadata": {},
      "source": [
        "## Target Variable"
      ]
    },
    {
      "cell_type": "code",
      "execution_count": 25,
      "metadata": {},
      "outputs": [
        {
          "data": {
            "image/png": "[encoded data removed]",
            "text/plain": [
              "<Figure size 800x500 with 1 Axes>"
            ]
          },
          "metadata": {},
          "output_type": "display_data"
        }
      ],
      "source": [
        "plt.figure(figsize=(8,5))\n",
        "f = sns.countplot( data = df,x= 'booking_complete')\n",
        "for p in f.patches:\n",
        "  f.annotate(format(p.get_height()),\n",
        "             (p.get_x()+ p.get_width()/2, p.get_height()),\n",
        "             ha= 'center', va='center',\n",
        "             xytext=(0,5),\n",
        "             textcoords = 'offset points'\n",
        "               )\n",
        "plt.xlabel(\"Number of passengers\")\n",
        "\n",
        "plt.title(\" Count the Number of passengers\")\n",
        "plt.show()"
      ]
    },
    {
      "attachments": {},
      "cell_type": "markdown",
      "metadata": {},
      "source": [
        "Target variable is skewd to one output"
      ]
    },
    {
      "cell_type": "code",
      "execution_count": 26,
      "metadata": {},
      "outputs": [
        {
          "data": {
            "text/plain": [
              "Index(['num_passengers', 'sales_channel', 'trip_type', 'purchase_lead',\n",
              "       'length_of_stay', 'flight_hour', 'flight_day', 'route',\n",
              "       'booking_origin', 'wants_extra_baggage', 'wants_preferred_seat',\n",
              "       'wants_in_flight_meals', 'flight_duration', 'booking_complete'],\n",
              "      dtype='object')"
            ]
          },
          "execution_count": 26,
          "metadata": {},
          "output_type": "execute_result"
        }
      ],
      "source": [
        "df.columns"
      ]
    },
    {
      "cell_type": "code",
      "execution_count": 27,
      "metadata": {
        "colab": {
          "base_uri": "https://localhost:8080/",
          "height": 487
        },
        "id": "hGlJ1L3e-xzi",
        "outputId": "0bbccacb-d501-4702-9335-0cb204251c80"
      },
      "outputs": [
        {
          "data": {
            "image/png": "[encoded data removed]",
            "text/plain": [
              "<Figure size 1500x500 with 1 Axes>"
            ]
          },
          "metadata": {},
          "output_type": "display_data"
        }
      ],
      "source": [
        "countplot(\"flight_hour\", df, \"Flight hour\", (15,5) ,hue='booking_complete' )"
      ]
    },
    {
      "cell_type": "code",
      "execution_count": 28,
      "metadata": {
        "colab": {
          "base_uri": "https://localhost:8080/",
          "height": 472
        },
        "id": "04qIPxbGFMyS",
        "outputId": "c5803c27-1272-456f-8651-4662c33f18a9"
      },
      "outputs": [
        {
          "data": {
            "image/png": "[encoded data removed]",
            "text/plain": [
              "<Figure size 640x480 with 1 Axes>"
            ]
          },
          "metadata": {},
          "output_type": "display_data"
        }
      ],
      "source": [
        "plt.hist(df[\"flight_hour\"], bins= 10, density = True, alpha = 0.5, color = 'purple')\n",
        "plt.xlabel('Flight hour')\n",
        "plt.ylabel('Count')\n",
        "plt.title('Histogram of flight hour')\n",
        "\n",
        "# create range\n",
        "x = np.linspace(max(df[\"flight_hour\"]), min(df[\"flight_hour\"]))\n",
        "\n",
        "# compute normal distribution\n",
        "mu , std = norm.fit(df[\"flight_hour\"])\n",
        "\n",
        "# compute desity curve\n",
        "\n",
        "pdf = norm.pdf(x,mu,std)\n",
        "\n",
        "# plot the pdf\n",
        "\n",
        "plt.plot(x, pdf, 'black', linewidth =1)\n",
        "\n",
        "plt.show()"
      ]
    },
    {
      "cell_type": "code",
      "execution_count": 29,
      "metadata": {
        "colab": {
          "base_uri": "https://localhost:8080/",
          "height": 506
        },
        "id": "0KUFLM0dHTvW",
        "outputId": "4d765bdf-4e19-4da5-db34-04ec8308de85"
      },
      "outputs": [
        {
          "data": {
            "image/png": "[encoded data removed]",
            "text/plain": [
              "<Figure size 500x500 with 1 Axes>"
            ]
          },
          "metadata": {},
          "output_type": "display_data"
        }
      ],
      "source": [
        "sns.displot(df[\"flight_hour\"], kde= True)\n",
        "plt.show()"
      ]
    },
    {
      "cell_type": "code",
      "execution_count": 30,
      "metadata": {
        "colab": {
          "base_uri": "https://localhost:8080/"
        },
        "id": "OmeGdFFI5CqE",
        "outputId": "c7026c33-14ec-462c-e6a8-f0fe2f8906e4"
      },
      "outputs": [
        {
          "name": "stdout",
          "output_type": "stream",
          "text": [
            "<class 'pandas.core.frame.DataFrame'>\n",
            "RangeIndex: 50000 entries, 0 to 49999\n",
            "Data columns (total 14 columns):\n",
            " #   Column                 Non-Null Count  Dtype  \n",
            "---  ------                 --------------  -----  \n",
            " 0   num_passengers         50000 non-null  int64  \n",
            " 1   sales_channel          50000 non-null  object \n",
            " 2   trip_type              50000 non-null  object \n",
            " 3   purchase_lead          50000 non-null  int64  \n",
            " 4   length_of_stay         50000 non-null  int64  \n",
            " 5   flight_hour            50000 non-null  int64  \n",
            " 6   flight_day             50000 non-null  int64  \n",
            " 7   route                  50000 non-null  object \n",
            " 8   booking_origin         50000 non-null  object \n",
            " 9   wants_extra_baggage    50000 non-null  int64  \n",
            " 10  wants_preferred_seat   50000 non-null  int64  \n",
            " 11  wants_in_flight_meals  50000 non-null  int64  \n",
            " 12  flight_duration        50000 non-null  float64\n",
            " 13  booking_complete       50000 non-null  int64  \n",
            "dtypes: float64(1), int64(9), object(4)\n",
            "memory usage: 5.3+ MB\n"
          ]
        }
      ],
      "source": [
        "df.info()"
      ]
    },
    {
      "cell_type": "code",
      "execution_count": 31,
      "metadata": {
        "id": "YN1JbNAl5Cms"
      },
      "outputs": [],
      "source": [
        "#sns.pairplot(df)"
      ]
    },
    {
      "attachments": {},
      "cell_type": "markdown",
      "metadata": {
        "id": "iLVZfcZOEY-M"
      },
      "source": [
        "## Booking origine"
      ]
    },
    {
      "cell_type": "code",
      "execution_count": 32,
      "metadata": {},
      "outputs": [
        {
          "name": "stdout",
          "output_type": "stream",
          "text": [
            "Total unique bookinf origine  104\n"
          ]
        }
      ],
      "source": [
        "print(\"Total unique bookinf origine \", df.booking_origin.nunique())"
      ]
    },
    {
      "cell_type": "code",
      "execution_count": 33,
      "metadata": {},
      "outputs": [
        {
          "data": {
            "text/plain": [
              "array(['New Zealand', 'India', 'United Kingdom', 'China', 'South Korea',\n",
              "       'Japan', 'Malaysia', 'Singapore', 'Switzerland', 'Germany',\n",
              "       'Indonesia', 'Czech Republic', 'Vietnam', 'Thailand', 'Spain',\n",
              "       'Romania', 'Ireland', 'Italy', 'Slovakia', 'United Arab Emirates',\n",
              "       'Tonga', 'Réunion', '(not set)', 'Saudi Arabia', 'Netherlands',\n",
              "       'Qatar', 'Hong Kong', 'Philippines', 'Sri Lanka', 'France',\n",
              "       'Croatia', 'United States', 'Laos', 'Hungary', 'Portugal',\n",
              "       'Cyprus', 'Australia', 'Cambodia', 'Poland', 'Belgium', 'Oman',\n",
              "       'Bangladesh', 'Kazakhstan', 'Brazil', 'Turkey', 'Kenya', 'Taiwan',\n",
              "       'Brunei', 'Chile', 'Bulgaria', 'Ukraine', 'Denmark', 'Colombia',\n",
              "       'Iran', 'Bahrain', 'Solomon Islands', 'Slovenia', 'Mauritius',\n",
              "       'Nepal', 'Russia', 'Kuwait', 'Mexico', 'Sweden', 'Austria',\n",
              "       'Lebanon', 'Jordan', 'Greece', 'Mongolia', 'Canada', 'Tanzania',\n",
              "       'Peru', 'Timor-Leste', 'Argentina', 'New Caledonia', 'Macau',\n",
              "       'Myanmar (Burma)', 'Norway', 'Panama', 'Bhutan', 'Norfolk Island',\n",
              "       'Finland', 'Nicaragua', 'Maldives', 'Egypt', 'Israel', 'Tunisia',\n",
              "       'South Africa', 'Papua New Guinea', 'Paraguay', 'Estonia',\n",
              "       'Seychelles', 'Afghanistan', 'Guam', 'Czechia', 'Malta', 'Vanuatu',\n",
              "       'Belarus', 'Pakistan', 'Iraq', 'Ghana', 'Gibraltar', 'Guatemala',\n",
              "       'Algeria', 'Svalbard & Jan Mayen'], dtype=object)"
            ]
          },
          "execution_count": 33,
          "metadata": {},
          "output_type": "execute_result"
        }
      ],
      "source": [
        "df.booking_origin.unique()"
      ]
    },
    {
      "cell_type": "code",
      "execution_count": 34,
      "metadata": {},
      "outputs": [
        {
          "data": {
            "text/plain": [
              "booking_origin\n",
              "(not set)    84\n",
              "Name: count, dtype: int64"
            ]
          },
          "execution_count": 34,
          "metadata": {},
          "output_type": "execute_result"
        }
      ],
      "source": [
        "df.booking_origin[df['booking_origin'] == '(not set)'].value_counts()"
      ]
    },
    {
      "cell_type": "code",
      "execution_count": 35,
      "metadata": {},
      "outputs": [
        {
          "data": {
            "text/html": [
              "<div>\n",
              "<style scoped>\n",
              "    .dataframe tbody tr th:only-of-type {\n",
              "        vertical-align: middle;\n",
              "    }\n",
              "\n",
              "    .dataframe tbody tr th {\n",
              "        vertical-align: top;\n",
              "    }\n",
              "\n",
              "    .dataframe thead th {\n",
              "        text-align: right;\n",
              "    }\n",
              "</style>\n",
              "<table border=\"1\" class=\"dataframe\">\n",
              "  <thead>\n",
              "    <tr style=\"text-align: right;\">\n",
              "      <th></th>\n",
              "      <th>route</th>\n",
              "      <th>booking_origin</th>\n",
              "    </tr>\n",
              "  </thead>\n",
              "  <tbody>\n",
              "    <tr>\n",
              "      <th>0</th>\n",
              "      <td>AKLDEL</td>\n",
              "      <td>New Zealand</td>\n",
              "    </tr>\n",
              "    <tr>\n",
              "      <th>1</th>\n",
              "      <td>AKLDEL</td>\n",
              "      <td>New Zealand</td>\n",
              "    </tr>\n",
              "    <tr>\n",
              "      <th>2</th>\n",
              "      <td>AKLDEL</td>\n",
              "      <td>India</td>\n",
              "    </tr>\n",
              "    <tr>\n",
              "      <th>3</th>\n",
              "      <td>AKLDEL</td>\n",
              "      <td>New Zealand</td>\n",
              "    </tr>\n",
              "    <tr>\n",
              "      <th>4</th>\n",
              "      <td>AKLDEL</td>\n",
              "      <td>India</td>\n",
              "    </tr>\n",
              "    <tr>\n",
              "      <th>...</th>\n",
              "      <td>...</td>\n",
              "      <td>...</td>\n",
              "    </tr>\n",
              "    <tr>\n",
              "      <th>49995</th>\n",
              "      <td>PERPNH</td>\n",
              "      <td>Australia</td>\n",
              "    </tr>\n",
              "    <tr>\n",
              "      <th>49996</th>\n",
              "      <td>PERPNH</td>\n",
              "      <td>Australia</td>\n",
              "    </tr>\n",
              "    <tr>\n",
              "      <th>49997</th>\n",
              "      <td>PERPNH</td>\n",
              "      <td>Australia</td>\n",
              "    </tr>\n",
              "    <tr>\n",
              "      <th>49998</th>\n",
              "      <td>PERPNH</td>\n",
              "      <td>Australia</td>\n",
              "    </tr>\n",
              "    <tr>\n",
              "      <th>49999</th>\n",
              "      <td>PERPNH</td>\n",
              "      <td>Australia</td>\n",
              "    </tr>\n",
              "  </tbody>\n",
              "</table>\n",
              "<p>50000 rows × 2 columns</p>\n",
              "</div>"
            ],
            "text/plain": [
              "        route booking_origin\n",
              "0      AKLDEL    New Zealand\n",
              "1      AKLDEL    New Zealand\n",
              "2      AKLDEL          India\n",
              "3      AKLDEL    New Zealand\n",
              "4      AKLDEL          India\n",
              "...       ...            ...\n",
              "49995  PERPNH      Australia\n",
              "49996  PERPNH      Australia\n",
              "49997  PERPNH      Australia\n",
              "49998  PERPNH      Australia\n",
              "49999  PERPNH      Australia\n",
              "\n",
              "[50000 rows x 2 columns]"
            ]
          },
          "execution_count": 35,
          "metadata": {},
          "output_type": "execute_result"
        }
      ],
      "source": [
        "df[['route','booking_origin']]"
      ]
    },
    {
      "cell_type": "code",
      "execution_count": 36,
      "metadata": {},
      "outputs": [
        {
          "data": {
            "text/html": [
              "<div>\n",
              "<style scoped>\n",
              "    .dataframe tbody tr th:only-of-type {\n",
              "        vertical-align: middle;\n",
              "    }\n",
              "\n",
              "    .dataframe tbody tr th {\n",
              "        vertical-align: top;\n",
              "    }\n",
              "\n",
              "    .dataframe thead th {\n",
              "        text-align: right;\n",
              "    }\n",
              "</style>\n",
              "<table border=\"1\" class=\"dataframe\">\n",
              "  <thead>\n",
              "    <tr style=\"text-align: right;\">\n",
              "      <th></th>\n",
              "      <th>route</th>\n",
              "      <th>booking_origin</th>\n",
              "    </tr>\n",
              "  </thead>\n",
              "  <tbody>\n",
              "    <tr>\n",
              "      <th>10972</th>\n",
              "      <td>DPSPVG</td>\n",
              "      <td>Austria</td>\n",
              "    </tr>\n",
              "    <tr>\n",
              "      <th>10973</th>\n",
              "      <td>DPSPVG</td>\n",
              "      <td>(not set)</td>\n",
              "    </tr>\n",
              "    <tr>\n",
              "      <th>10974</th>\n",
              "      <td>DPSPVG</td>\n",
              "      <td>Mexico</td>\n",
              "    </tr>\n",
              "    <tr>\n",
              "      <th>10975</th>\n",
              "      <td>DPSPVG</td>\n",
              "      <td>Russia</td>\n",
              "    </tr>\n",
              "    <tr>\n",
              "      <th>10976</th>\n",
              "      <td>DPSPVG</td>\n",
              "      <td>China</td>\n",
              "    </tr>\n",
              "    <tr>\n",
              "      <th>...</th>\n",
              "      <td>...</td>\n",
              "      <td>...</td>\n",
              "    </tr>\n",
              "    <tr>\n",
              "      <th>45820</th>\n",
              "      <td>DPSPVG</td>\n",
              "      <td>China</td>\n",
              "    </tr>\n",
              "    <tr>\n",
              "      <th>45821</th>\n",
              "      <td>DPSPVG</td>\n",
              "      <td>China</td>\n",
              "    </tr>\n",
              "    <tr>\n",
              "      <th>45822</th>\n",
              "      <td>DPSPVG</td>\n",
              "      <td>China</td>\n",
              "    </tr>\n",
              "    <tr>\n",
              "      <th>45823</th>\n",
              "      <td>DPSPVG</td>\n",
              "      <td>China</td>\n",
              "    </tr>\n",
              "    <tr>\n",
              "      <th>45824</th>\n",
              "      <td>DPSPVG</td>\n",
              "      <td>China</td>\n",
              "    </tr>\n",
              "  </tbody>\n",
              "</table>\n",
              "<p>417 rows × 2 columns</p>\n",
              "</div>"
            ],
            "text/plain": [
              "        route booking_origin\n",
              "10972  DPSPVG        Austria\n",
              "10973  DPSPVG      (not set)\n",
              "10974  DPSPVG         Mexico\n",
              "10975  DPSPVG         Russia\n",
              "10976  DPSPVG          China\n",
              "...       ...            ...\n",
              "45820  DPSPVG          China\n",
              "45821  DPSPVG          China\n",
              "45822  DPSPVG          China\n",
              "45823  DPSPVG          China\n",
              "45824  DPSPVG          China\n",
              "\n",
              "[417 rows x 2 columns]"
            ]
          },
          "execution_count": 36,
          "metadata": {},
          "output_type": "execute_result"
        }
      ],
      "source": [
        "df[['route','booking_origin']][ (df['route']=='DPSPVG')]"
      ]
    },
    {
      "cell_type": "code",
      "execution_count": 37,
      "metadata": {},
      "outputs": [
        {
          "data": {
            "text/html": [
              "<div>\n",
              "<style scoped>\n",
              "    .dataframe tbody tr th:only-of-type {\n",
              "        vertical-align: middle;\n",
              "    }\n",
              "\n",
              "    .dataframe tbody tr th {\n",
              "        vertical-align: top;\n",
              "    }\n",
              "\n",
              "    .dataframe thead th {\n",
              "        text-align: right;\n",
              "    }\n",
              "</style>\n",
              "<table border=\"1\" class=\"dataframe\">\n",
              "  <thead>\n",
              "    <tr style=\"text-align: right;\">\n",
              "      <th></th>\n",
              "      <th>route</th>\n",
              "      <th>booking_origin</th>\n",
              "    </tr>\n",
              "  </thead>\n",
              "  <tbody>\n",
              "    <tr>\n",
              "      <th>10973</th>\n",
              "      <td>DPSPVG</td>\n",
              "      <td>(not set)</td>\n",
              "    </tr>\n",
              "    <tr>\n",
              "      <th>37741</th>\n",
              "      <td>DPSPVG</td>\n",
              "      <td>(not set)</td>\n",
              "    </tr>\n",
              "    <tr>\n",
              "      <th>37802</th>\n",
              "      <td>DPSPVG</td>\n",
              "      <td>(not set)</td>\n",
              "    </tr>\n",
              "    <tr>\n",
              "      <th>37813</th>\n",
              "      <td>DPSPVG</td>\n",
              "      <td>(not set)</td>\n",
              "    </tr>\n",
              "    <tr>\n",
              "      <th>37824</th>\n",
              "      <td>DPSPVG</td>\n",
              "      <td>(not set)</td>\n",
              "    </tr>\n",
              "    <tr>\n",
              "      <th>37842</th>\n",
              "      <td>DPSPVG</td>\n",
              "      <td>(not set)</td>\n",
              "    </tr>\n",
              "    <tr>\n",
              "      <th>37844</th>\n",
              "      <td>DPSPVG</td>\n",
              "      <td>(not set)</td>\n",
              "    </tr>\n",
              "    <tr>\n",
              "      <th>37859</th>\n",
              "      <td>DPSPVG</td>\n",
              "      <td>(not set)</td>\n",
              "    </tr>\n",
              "    <tr>\n",
              "      <th>37860</th>\n",
              "      <td>DPSPVG</td>\n",
              "      <td>(not set)</td>\n",
              "    </tr>\n",
              "    <tr>\n",
              "      <th>45699</th>\n",
              "      <td>DPSPVG</td>\n",
              "      <td>(not set)</td>\n",
              "    </tr>\n",
              "  </tbody>\n",
              "</table>\n",
              "</div>"
            ],
            "text/plain": [
              "        route booking_origin\n",
              "10973  DPSPVG      (not set)\n",
              "37741  DPSPVG      (not set)\n",
              "37802  DPSPVG      (not set)\n",
              "37813  DPSPVG      (not set)\n",
              "37824  DPSPVG      (not set)\n",
              "37842  DPSPVG      (not set)\n",
              "37844  DPSPVG      (not set)\n",
              "37859  DPSPVG      (not set)\n",
              "37860  DPSPVG      (not set)\n",
              "45699  DPSPVG      (not set)"
            ]
          },
          "execution_count": 37,
          "metadata": {},
          "output_type": "execute_result"
        }
      ],
      "source": [
        "df[['route','booking_origin']][(df['booking_origin'] == '(not set)') & (df['route']=='DPSPVG')]"
      ]
    },
    {
      "cell_type": "code",
      "execution_count": 38,
      "metadata": {},
      "outputs": [],
      "source": [
        "#copy the dataset\n",
        "df2 = df.copy()"
      ]
    },
    {
      "cell_type": "code",
      "execution_count": 39,
      "metadata": {
        "colab": {
          "base_uri": "https://localhost:8080/"
        },
        "id": "puSlCXOUBwvQ",
        "outputId": "9ba06952-a95e-4af6-a559-07fab1475f17"
      },
      "outputs": [
        {
          "data": {
            "text/plain": [
              "booking_origin\n",
              "(not set)                  84\n",
              "Afghanistan                 1\n",
              "Algeria                     1\n",
              "Argentina                   6\n",
              "Australia               17872\n",
              "                        ...  \n",
              "United Arab Emirates       42\n",
              "United Kingdom            173\n",
              "United States             456\n",
              "Vanuatu                     1\n",
              "Vietnam                   388\n",
              "Name: count, Length: 104, dtype: int64"
            ]
          },
          "execution_count": 39,
          "metadata": {},
          "output_type": "execute_result"
        }
      ],
      "source": [
        "df2.booking_origin.value_counts().sort_index()\n"
      ]
    },
    {
      "cell_type": "code",
      "execution_count": 40,
      "metadata": {},
      "outputs": [],
      "source": [
        "#display(df2.booking_origin.value_counts().sort_values(ascending=False))"
      ]
    },
    {
      "cell_type": "code",
      "execution_count": 41,
      "metadata": {},
      "outputs": [],
      "source": [
        "booking_origin = df2.groupby('booking_origin')['booking_origin'].agg('count').sort_values(ascending=False)"
      ]
    },
    {
      "cell_type": "code",
      "execution_count": 42,
      "metadata": {},
      "outputs": [
        {
          "data": {
            "text/plain": [
              "booking_origin\n",
              "Australia               17872\n",
              "Malaysia                 7174\n",
              "South Korea              4559\n",
              "Japan                    3885\n",
              "China                    3387\n",
              "                        ...  \n",
              "Seychelles                  1\n",
              "Tonga                       1\n",
              "Tanzania                    1\n",
              "Svalbard & Jan Mayen        1\n",
              "Vanuatu                     1\n",
              "Name: booking_origin, Length: 104, dtype: int64"
            ]
          },
          "execution_count": 42,
          "metadata": {},
          "output_type": "execute_result"
        }
      ],
      "source": [
        "booking_origin"
      ]
    },
    {
      "cell_type": "code",
      "execution_count": 43,
      "metadata": {},
      "outputs": [
        {
          "data": {
            "text/plain": [
              "np.int64(84)"
            ]
          },
          "execution_count": 43,
          "metadata": {},
          "output_type": "execute_result"
        }
      ],
      "source": [
        "booking_origin['(not set)']"
      ]
    },
    {
      "cell_type": "code",
      "execution_count": 44,
      "metadata": {},
      "outputs": [
        {
          "data": {
            "text/plain": [
              "booking_origin\n",
              "(not set)               84\n",
              "Sri Lanka               73\n",
              "France                  59\n",
              "Italy                   58\n",
              "Canada                  57\n",
              "                        ..\n",
              "Seychelles               1\n",
              "Tonga                    1\n",
              "Tanzania                 1\n",
              "Svalbard & Jan Mayen     1\n",
              "Vanuatu                  1\n",
              "Name: booking_origin, Length: 85, dtype: int64"
            ]
          },
          "execution_count": 44,
          "metadata": {},
          "output_type": "execute_result"
        }
      ],
      "source": [
        "booking_origin[booking_origin <= 100]"
      ]
    },
    {
      "cell_type": "code",
      "execution_count": 45,
      "metadata": {},
      "outputs": [
        {
          "data": {
            "text/plain": [
              "104"
            ]
          },
          "execution_count": 45,
          "metadata": {},
          "output_type": "execute_result"
        }
      ],
      "source": [
        "df2['booking_origin'].nunique()"
      ]
    },
    {
      "cell_type": "code",
      "execution_count": 46,
      "metadata": {},
      "outputs": [
        {
          "data": {
            "text/plain": [
              "78"
            ]
          },
          "execution_count": 46,
          "metadata": {},
          "output_type": "execute_result"
        }
      ],
      "source": [
        "len(booking_origin[booking_origin <50])"
      ]
    },
    {
      "cell_type": "code",
      "execution_count": 47,
      "metadata": {},
      "outputs": [
        {
          "data": {
            "text/plain": [
              "85"
            ]
          },
          "execution_count": 47,
          "metadata": {},
          "output_type": "execute_result"
        }
      ],
      "source": [
        "# booking less then 100 in a booking origine\n",
        "booking_origin_less_100 = booking_origin[booking_origin < 100]\n",
        "len(booking_origin_less_100 )"
      ]
    },
    {
      "cell_type": "code",
      "execution_count": 48,
      "metadata": {},
      "outputs": [
        {
          "data": {
            "text/plain": [
              "78"
            ]
          },
          "execution_count": 48,
          "metadata": {},
          "output_type": "execute_result"
        }
      ],
      "source": [
        "# booking less then 100 in a booking origine\n",
        "booking_origin_less_50= booking_origin[booking_origin < 50]\n",
        "len(booking_origin_less_50 )"
      ]
    },
    {
      "cell_type": "code",
      "execution_count": 49,
      "metadata": {},
      "outputs": [
        {
          "data": {
            "text/plain": [
              "booking_origin\n",
              "(not set)               84\n",
              "Sri Lanka               73\n",
              "France                  59\n",
              "Italy                   58\n",
              "Canada                  57\n",
              "                        ..\n",
              "Seychelles               1\n",
              "Tonga                    1\n",
              "Tanzania                 1\n",
              "Svalbard & Jan Mayen     1\n",
              "Vanuatu                  1\n",
              "Name: booking_origin, Length: 85, dtype: int64"
            ]
          },
          "execution_count": 49,
          "metadata": {},
          "output_type": "execute_result"
        }
      ],
      "source": [
        "booking_origin_less_100"
      ]
    },
    {
      "cell_type": "code",
      "execution_count": 50,
      "metadata": {},
      "outputs": [
        {
          "data": {
            "text/plain": [
              "booking_origin\n",
              "Australia         17872\n",
              "Malaysia           7174\n",
              "South Korea        4559\n",
              "Japan              3885\n",
              "China              3387\n",
              "Indonesia          2369\n",
              "Taiwan             2077\n",
              "Thailand           2030\n",
              "India              1270\n",
              "New Zealand        1074\n",
              "Singapore          1044\n",
              "United States       456\n",
              "Vietnam             388\n",
              "Macau               304\n",
              "Hong Kong           295\n",
              "Philippines         266\n",
              "United Kingdom      173\n",
              "Brunei              167\n",
              "Cambodia            132\n",
              "Name: booking_origin, dtype: int64"
            ]
          },
          "execution_count": 50,
          "metadata": {},
          "output_type": "execute_result"
        }
      ],
      "source": [
        "booking_origin[booking_origin > 100]"
      ]
    },
    {
      "cell_type": "code",
      "execution_count": 51,
      "metadata": {},
      "outputs": [],
      "source": [
        "df2 = df.copy()"
      ]
    },
    {
      "cell_type": "code",
      "execution_count": 52,
      "metadata": {},
      "outputs": [
        {
          "data": {
            "text/html": [
              "<div>\n",
              "<style scoped>\n",
              "    .dataframe tbody tr th:only-of-type {\n",
              "        vertical-align: middle;\n",
              "    }\n",
              "\n",
              "    .dataframe tbody tr th {\n",
              "        vertical-align: top;\n",
              "    }\n",
              "\n",
              "    .dataframe thead th {\n",
              "        text-align: right;\n",
              "    }\n",
              "</style>\n",
              "<table border=\"1\" class=\"dataframe\">\n",
              "  <thead>\n",
              "    <tr style=\"text-align: right;\">\n",
              "      <th></th>\n",
              "      <th>num_passengers</th>\n",
              "      <th>sales_channel</th>\n",
              "      <th>trip_type</th>\n",
              "      <th>purchase_lead</th>\n",
              "      <th>length_of_stay</th>\n",
              "      <th>flight_hour</th>\n",
              "      <th>flight_day</th>\n",
              "      <th>route</th>\n",
              "      <th>booking_origin</th>\n",
              "      <th>wants_extra_baggage</th>\n",
              "      <th>wants_preferred_seat</th>\n",
              "      <th>wants_in_flight_meals</th>\n",
              "      <th>flight_duration</th>\n",
              "      <th>booking_complete</th>\n",
              "    </tr>\n",
              "  </thead>\n",
              "  <tbody>\n",
              "    <tr>\n",
              "      <th>0</th>\n",
              "      <td>2</td>\n",
              "      <td>Internet</td>\n",
              "      <td>RoundTrip</td>\n",
              "      <td>262</td>\n",
              "      <td>19</td>\n",
              "      <td>7</td>\n",
              "      <td>6</td>\n",
              "      <td>AKLDEL</td>\n",
              "      <td>New Zealand</td>\n",
              "      <td>1</td>\n",
              "      <td>0</td>\n",
              "      <td>0</td>\n",
              "      <td>5.52</td>\n",
              "      <td>0</td>\n",
              "    </tr>\n",
              "    <tr>\n",
              "      <th>1</th>\n",
              "      <td>1</td>\n",
              "      <td>Internet</td>\n",
              "      <td>RoundTrip</td>\n",
              "      <td>112</td>\n",
              "      <td>20</td>\n",
              "      <td>3</td>\n",
              "      <td>6</td>\n",
              "      <td>AKLDEL</td>\n",
              "      <td>New Zealand</td>\n",
              "      <td>0</td>\n",
              "      <td>0</td>\n",
              "      <td>0</td>\n",
              "      <td>5.52</td>\n",
              "      <td>0</td>\n",
              "    </tr>\n",
              "    <tr>\n",
              "      <th>2</th>\n",
              "      <td>2</td>\n",
              "      <td>Internet</td>\n",
              "      <td>RoundTrip</td>\n",
              "      <td>243</td>\n",
              "      <td>22</td>\n",
              "      <td>17</td>\n",
              "      <td>3</td>\n",
              "      <td>AKLDEL</td>\n",
              "      <td>India</td>\n",
              "      <td>1</td>\n",
              "      <td>1</td>\n",
              "      <td>0</td>\n",
              "      <td>5.52</td>\n",
              "      <td>0</td>\n",
              "    </tr>\n",
              "    <tr>\n",
              "      <th>3</th>\n",
              "      <td>1</td>\n",
              "      <td>Internet</td>\n",
              "      <td>RoundTrip</td>\n",
              "      <td>96</td>\n",
              "      <td>31</td>\n",
              "      <td>4</td>\n",
              "      <td>6</td>\n",
              "      <td>AKLDEL</td>\n",
              "      <td>New Zealand</td>\n",
              "      <td>0</td>\n",
              "      <td>0</td>\n",
              "      <td>1</td>\n",
              "      <td>5.52</td>\n",
              "      <td>0</td>\n",
              "    </tr>\n",
              "    <tr>\n",
              "      <th>4</th>\n",
              "      <td>2</td>\n",
              "      <td>Internet</td>\n",
              "      <td>RoundTrip</td>\n",
              "      <td>68</td>\n",
              "      <td>22</td>\n",
              "      <td>15</td>\n",
              "      <td>3</td>\n",
              "      <td>AKLDEL</td>\n",
              "      <td>India</td>\n",
              "      <td>1</td>\n",
              "      <td>0</td>\n",
              "      <td>1</td>\n",
              "      <td>5.52</td>\n",
              "      <td>0</td>\n",
              "    </tr>\n",
              "  </tbody>\n",
              "</table>\n",
              "</div>"
            ],
            "text/plain": [
              "   num_passengers sales_channel  trip_type  purchase_lead  length_of_stay  \\\n",
              "0               2      Internet  RoundTrip            262              19   \n",
              "1               1      Internet  RoundTrip            112              20   \n",
              "2               2      Internet  RoundTrip            243              22   \n",
              "3               1      Internet  RoundTrip             96              31   \n",
              "4               2      Internet  RoundTrip             68              22   \n",
              "\n",
              "   flight_hour  flight_day   route booking_origin  wants_extra_baggage  \\\n",
              "0            7           6  AKLDEL    New Zealand                    1   \n",
              "1            3           6  AKLDEL    New Zealand                    0   \n",
              "2           17           3  AKLDEL          India                    1   \n",
              "3            4           6  AKLDEL    New Zealand                    0   \n",
              "4           15           3  AKLDEL          India                    1   \n",
              "\n",
              "   wants_preferred_seat  wants_in_flight_meals  flight_duration  \\\n",
              "0                     0                      0             5.52   \n",
              "1                     0                      0             5.52   \n",
              "2                     1                      0             5.52   \n",
              "3                     0                      1             5.52   \n",
              "4                     0                      1             5.52   \n",
              "\n",
              "   booking_complete  \n",
              "0                 0  \n",
              "1                 0  \n",
              "2                 0  \n",
              "3                 0  \n",
              "4                 0  "
            ]
          },
          "execution_count": 52,
          "metadata": {},
          "output_type": "execute_result"
        }
      ],
      "source": [
        "df.head()"
      ]
    },
    {
      "cell_type": "code",
      "execution_count": 53,
      "metadata": {},
      "outputs": [
        {
          "data": {
            "text/plain": [
              "booking_origin\n",
              "Netherlands             46\n",
              "Mauritius               44\n",
              "United Arab Emirates    42\n",
              "Nepal                   40\n",
              "Saudi Arabia            36\n",
              "                        ..\n",
              "Seychelles               1\n",
              "Tonga                    1\n",
              "Tanzania                 1\n",
              "Svalbard & Jan Mayen     1\n",
              "Vanuatu                  1\n",
              "Name: booking_origin, Length: 78, dtype: int64"
            ]
          },
          "execution_count": 53,
          "metadata": {},
          "output_type": "execute_result"
        }
      ],
      "source": [
        "booking_origin_less_50"
      ]
    },
    {
      "cell_type": "code",
      "execution_count": 54,
      "metadata": {},
      "outputs": [
        {
          "data": {
            "text/plain": [
              "78"
            ]
          },
          "execution_count": 54,
          "metadata": {},
          "output_type": "execute_result"
        }
      ],
      "source": [
        "len(booking_origin_less_50)"
      ]
    },
    {
      "cell_type": "code",
      "execution_count": 55,
      "metadata": {},
      "outputs": [],
      "source": [
        "#Chnage the booking orine name to others to reduce unique booking origine\n",
        "df2['booking_origin'] = df2['booking_origin'].apply(lambda x :'others' if x in booking_origin_less_50 else x )"
      ]
    },
    {
      "cell_type": "code",
      "execution_count": 56,
      "metadata": {},
      "outputs": [
        {
          "data": {
            "text/plain": [
              "array(['New Zealand', 'India', 'United Kingdom', 'China', 'South Korea',\n",
              "       'Japan', 'Malaysia', 'Singapore', 'others', 'Germany', 'Indonesia',\n",
              "       'Vietnam', 'Thailand', 'Italy', '(not set)', 'Hong Kong',\n",
              "       'Philippines', 'Sri Lanka', 'France', 'United States', 'Australia',\n",
              "       'Cambodia', 'Taiwan', 'Brunei', 'Canada', 'Macau',\n",
              "       'Myanmar (Burma)'], dtype=object)"
            ]
          },
          "execution_count": 56,
          "metadata": {},
          "output_type": "execute_result"
        }
      ],
      "source": [
        "df2['booking_origin'].unique()"
      ]
    },
    {
      "cell_type": "code",
      "execution_count": 57,
      "metadata": {},
      "outputs": [
        {
          "data": {
            "text/plain": [
              "27"
            ]
          },
          "execution_count": 57,
          "metadata": {},
          "output_type": "execute_result"
        }
      ],
      "source": [
        "len(df2['booking_origin'].unique())"
      ]
    },
    {
      "attachments": {},
      "cell_type": "markdown",
      "metadata": {},
      "source": [
        "## Route"
      ]
    },
    {
      "cell_type": "code",
      "execution_count": 58,
      "metadata": {},
      "outputs": [
        {
          "data": {
            "text/html": [
              "<div>\n",
              "<style scoped>\n",
              "    .dataframe tbody tr th:only-of-type {\n",
              "        vertical-align: middle;\n",
              "    }\n",
              "\n",
              "    .dataframe tbody tr th {\n",
              "        vertical-align: top;\n",
              "    }\n",
              "\n",
              "    .dataframe thead th {\n",
              "        text-align: right;\n",
              "    }\n",
              "</style>\n",
              "<table border=\"1\" class=\"dataframe\">\n",
              "  <thead>\n",
              "    <tr style=\"text-align: right;\">\n",
              "      <th></th>\n",
              "      <th>route</th>\n",
              "      <th>booking_complete</th>\n",
              "    </tr>\n",
              "  </thead>\n",
              "  <tbody>\n",
              "    <tr>\n",
              "      <th>49980</th>\n",
              "      <td>PENXIY</td>\n",
              "      <td>1</td>\n",
              "    </tr>\n",
              "    <tr>\n",
              "      <th>49981</th>\n",
              "      <td>PENXIY</td>\n",
              "      <td>0</td>\n",
              "    </tr>\n",
              "    <tr>\n",
              "      <th>49982</th>\n",
              "      <td>PENXIY</td>\n",
              "      <td>0</td>\n",
              "    </tr>\n",
              "    <tr>\n",
              "      <th>49983</th>\n",
              "      <td>PERPNH</td>\n",
              "      <td>0</td>\n",
              "    </tr>\n",
              "    <tr>\n",
              "      <th>49984</th>\n",
              "      <td>PERPNH</td>\n",
              "      <td>1</td>\n",
              "    </tr>\n",
              "    <tr>\n",
              "      <th>49985</th>\n",
              "      <td>PERPNH</td>\n",
              "      <td>0</td>\n",
              "    </tr>\n",
              "    <tr>\n",
              "      <th>49986</th>\n",
              "      <td>PERPNH</td>\n",
              "      <td>0</td>\n",
              "    </tr>\n",
              "    <tr>\n",
              "      <th>49987</th>\n",
              "      <td>PERPNH</td>\n",
              "      <td>1</td>\n",
              "    </tr>\n",
              "    <tr>\n",
              "      <th>49988</th>\n",
              "      <td>PERPNH</td>\n",
              "      <td>0</td>\n",
              "    </tr>\n",
              "    <tr>\n",
              "      <th>49989</th>\n",
              "      <td>PERPNH</td>\n",
              "      <td>0</td>\n",
              "    </tr>\n",
              "    <tr>\n",
              "      <th>49990</th>\n",
              "      <td>PERPNH</td>\n",
              "      <td>0</td>\n",
              "    </tr>\n",
              "    <tr>\n",
              "      <th>49991</th>\n",
              "      <td>PERPNH</td>\n",
              "      <td>0</td>\n",
              "    </tr>\n",
              "    <tr>\n",
              "      <th>49992</th>\n",
              "      <td>PERPNH</td>\n",
              "      <td>0</td>\n",
              "    </tr>\n",
              "    <tr>\n",
              "      <th>49993</th>\n",
              "      <td>PERPNH</td>\n",
              "      <td>0</td>\n",
              "    </tr>\n",
              "    <tr>\n",
              "      <th>49994</th>\n",
              "      <td>PERPNH</td>\n",
              "      <td>0</td>\n",
              "    </tr>\n",
              "    <tr>\n",
              "      <th>49995</th>\n",
              "      <td>PERPNH</td>\n",
              "      <td>0</td>\n",
              "    </tr>\n",
              "    <tr>\n",
              "      <th>49996</th>\n",
              "      <td>PERPNH</td>\n",
              "      <td>0</td>\n",
              "    </tr>\n",
              "    <tr>\n",
              "      <th>49997</th>\n",
              "      <td>PERPNH</td>\n",
              "      <td>0</td>\n",
              "    </tr>\n",
              "    <tr>\n",
              "      <th>49998</th>\n",
              "      <td>PERPNH</td>\n",
              "      <td>0</td>\n",
              "    </tr>\n",
              "    <tr>\n",
              "      <th>49999</th>\n",
              "      <td>PERPNH</td>\n",
              "      <td>0</td>\n",
              "    </tr>\n",
              "  </tbody>\n",
              "</table>\n",
              "</div>"
            ],
            "text/plain": [
              "        route  booking_complete\n",
              "49980  PENXIY                 1\n",
              "49981  PENXIY                 0\n",
              "49982  PENXIY                 0\n",
              "49983  PERPNH                 0\n",
              "49984  PERPNH                 1\n",
              "49985  PERPNH                 0\n",
              "49986  PERPNH                 0\n",
              "49987  PERPNH                 1\n",
              "49988  PERPNH                 0\n",
              "49989  PERPNH                 0\n",
              "49990  PERPNH                 0\n",
              "49991  PERPNH                 0\n",
              "49992  PERPNH                 0\n",
              "49993  PERPNH                 0\n",
              "49994  PERPNH                 0\n",
              "49995  PERPNH                 0\n",
              "49996  PERPNH                 0\n",
              "49997  PERPNH                 0\n",
              "49998  PERPNH                 0\n",
              "49999  PERPNH                 0"
            ]
          },
          "execution_count": 58,
          "metadata": {},
          "output_type": "execute_result"
        }
      ],
      "source": [
        "df2[['route','booking_complete']].tail(20)"
      ]
    },
    {
      "cell_type": "code",
      "execution_count": 59,
      "metadata": {},
      "outputs": [
        {
          "data": {
            "image/png": "[encoded data removed]",
            "text/plain": [
              "<Figure size 1000x600 with 1 Axes>"
            ]
          },
          "metadata": {},
          "output_type": "display_data"
        }
      ],
      "source": [
        "plt.figure(figsize=(10,6))\n",
        "sns.countplot(data=df2, x='route', hue='booking_complete')\n",
        "plt.xticks(rotation=90, ha='right' ) # Rotate x labels if they overlap\n",
        "\n",
        "# Adding labels and title\n",
        "plt.title('Count of Routes by Booking Completion Status')\n",
        "plt.xlabel('Route')\n",
        "plt.ylabel('Count')\n",
        "plt.legend(title='Booking Complete', labels=['Not Complete', 'Complete'])\n",
        "\n",
        "# Display the plot\n",
        "plt.show()"
      ]
    },
    {
      "cell_type": "code",
      "execution_count": 60,
      "metadata": {},
      "outputs": [
        {
          "name": "stdout",
          "output_type": "stream",
          "text": [
            "Total qunique route  799\n"
          ]
        }
      ],
      "source": [
        "print(\"Total qunique route \", df.route.nunique())"
      ]
    },
    {
      "cell_type": "code",
      "execution_count": 61,
      "metadata": {},
      "outputs": [
        {
          "data": {
            "text/html": [
              "<div>\n",
              "<style scoped>\n",
              "    .dataframe tbody tr th:only-of-type {\n",
              "        vertical-align: middle;\n",
              "    }\n",
              "\n",
              "    .dataframe tbody tr th {\n",
              "        vertical-align: top;\n",
              "    }\n",
              "\n",
              "    .dataframe thead th {\n",
              "        text-align: right;\n",
              "    }\n",
              "</style>\n",
              "<table border=\"1\" class=\"dataframe\">\n",
              "  <thead>\n",
              "    <tr style=\"text-align: right;\">\n",
              "      <th></th>\n",
              "      <th>route</th>\n",
              "      <th>count</th>\n",
              "    </tr>\n",
              "  </thead>\n",
              "  <tbody>\n",
              "    <tr>\n",
              "      <th>0</th>\n",
              "      <td>AKLKUL</td>\n",
              "      <td>2680</td>\n",
              "    </tr>\n",
              "    <tr>\n",
              "      <th>1</th>\n",
              "      <td>PENTPE</td>\n",
              "      <td>924</td>\n",
              "    </tr>\n",
              "    <tr>\n",
              "      <th>2</th>\n",
              "      <td>MELSGN</td>\n",
              "      <td>842</td>\n",
              "    </tr>\n",
              "    <tr>\n",
              "      <th>3</th>\n",
              "      <td>ICNSIN</td>\n",
              "      <td>801</td>\n",
              "    </tr>\n",
              "    <tr>\n",
              "      <th>4</th>\n",
              "      <td>DMKKIX</td>\n",
              "      <td>744</td>\n",
              "    </tr>\n",
              "    <tr>\n",
              "      <th>...</th>\n",
              "      <td>...</td>\n",
              "      <td>...</td>\n",
              "    </tr>\n",
              "    <tr>\n",
              "      <th>794</th>\n",
              "      <td>IKAKCH</td>\n",
              "      <td>1</td>\n",
              "    </tr>\n",
              "    <tr>\n",
              "      <th>795</th>\n",
              "      <td>CKGLOP</td>\n",
              "      <td>1</td>\n",
              "    </tr>\n",
              "    <tr>\n",
              "      <th>796</th>\n",
              "      <td>JEDPEN</td>\n",
              "      <td>1</td>\n",
              "    </tr>\n",
              "    <tr>\n",
              "      <th>797</th>\n",
              "      <td>AKLHGH</td>\n",
              "      <td>1</td>\n",
              "    </tr>\n",
              "    <tr>\n",
              "      <th>798</th>\n",
              "      <td>MRUXIY</td>\n",
              "      <td>1</td>\n",
              "    </tr>\n",
              "  </tbody>\n",
              "</table>\n",
              "<p>799 rows × 2 columns</p>\n",
              "</div>"
            ],
            "text/plain": [
              "      route  count\n",
              "0    AKLKUL   2680\n",
              "1    PENTPE    924\n",
              "2    MELSGN    842\n",
              "3    ICNSIN    801\n",
              "4    DMKKIX    744\n",
              "..      ...    ...\n",
              "794  IKAKCH      1\n",
              "795  CKGLOP      1\n",
              "796  JEDPEN      1\n",
              "797  AKLHGH      1\n",
              "798  MRUXIY      1\n",
              "\n",
              "[799 rows x 2 columns]"
            ]
          },
          "execution_count": 61,
          "metadata": {},
          "output_type": "execute_result"
        }
      ],
      "source": [
        "#count the route\n",
        "route = df['route'].value_counts().sort_values(ascending=False).reset_index()\n",
        "route"
      ]
    },
    {
      "cell_type": "code",
      "execution_count": 62,
      "metadata": {},
      "outputs": [],
      "source": [
        "#count the route for 'booking_complete' is complete\n",
        "route_c = df['route'][df['booking_complete']==1].value_counts().sort_values(ascending=False).reset_index()"
      ]
    },
    {
      "cell_type": "code",
      "execution_count": 63,
      "metadata": {},
      "outputs": [
        {
          "data": {
            "text/html": [
              "<div>\n",
              "<style scoped>\n",
              "    .dataframe tbody tr th:only-of-type {\n",
              "        vertical-align: middle;\n",
              "    }\n",
              "\n",
              "    .dataframe tbody tr th {\n",
              "        vertical-align: top;\n",
              "    }\n",
              "\n",
              "    .dataframe thead th {\n",
              "        text-align: right;\n",
              "    }\n",
              "</style>\n",
              "<table border=\"1\" class=\"dataframe\">\n",
              "  <thead>\n",
              "    <tr style=\"text-align: right;\">\n",
              "      <th></th>\n",
              "      <th>route</th>\n",
              "      <th>count</th>\n",
              "    </tr>\n",
              "  </thead>\n",
              "  <tbody>\n",
              "    <tr>\n",
              "      <th>0</th>\n",
              "      <td>AKLKUL</td>\n",
              "      <td>567</td>\n",
              "    </tr>\n",
              "    <tr>\n",
              "      <th>1</th>\n",
              "      <td>PENTPE</td>\n",
              "      <td>401</td>\n",
              "    </tr>\n",
              "    <tr>\n",
              "      <th>2</th>\n",
              "      <td>DMKKIX</td>\n",
              "      <td>187</td>\n",
              "    </tr>\n",
              "    <tr>\n",
              "      <th>3</th>\n",
              "      <td>JHBKTM</td>\n",
              "      <td>164</td>\n",
              "    </tr>\n",
              "    <tr>\n",
              "      <th>4</th>\n",
              "      <td>MELPEN</td>\n",
              "      <td>137</td>\n",
              "    </tr>\n",
              "    <tr>\n",
              "      <th>...</th>\n",
              "      <td>...</td>\n",
              "      <td>...</td>\n",
              "    </tr>\n",
              "    <tr>\n",
              "      <th>544</th>\n",
              "      <td>AKLPVG</td>\n",
              "      <td>1</td>\n",
              "    </tr>\n",
              "    <tr>\n",
              "      <th>545</th>\n",
              "      <td>MELNRT</td>\n",
              "      <td>1</td>\n",
              "    </tr>\n",
              "    <tr>\n",
              "      <th>546</th>\n",
              "      <td>MELMLE</td>\n",
              "      <td>1</td>\n",
              "    </tr>\n",
              "    <tr>\n",
              "      <th>547</th>\n",
              "      <td>NRTSYD</td>\n",
              "      <td>1</td>\n",
              "    </tr>\n",
              "    <tr>\n",
              "      <th>548</th>\n",
              "      <td>OOLUTP</td>\n",
              "      <td>1</td>\n",
              "    </tr>\n",
              "  </tbody>\n",
              "</table>\n",
              "<p>549 rows × 2 columns</p>\n",
              "</div>"
            ],
            "text/plain": [
              "      route  count\n",
              "0    AKLKUL    567\n",
              "1    PENTPE    401\n",
              "2    DMKKIX    187\n",
              "3    JHBKTM    164\n",
              "4    MELPEN    137\n",
              "..      ...    ...\n",
              "544  AKLPVG      1\n",
              "545  MELNRT      1\n",
              "546  MELMLE      1\n",
              "547  NRTSYD      1\n",
              "548  OOLUTP      1\n",
              "\n",
              "[549 rows x 2 columns]"
            ]
          },
          "execution_count": 63,
          "metadata": {},
          "output_type": "execute_result"
        }
      ],
      "source": [
        "route_c"
      ]
    },
    {
      "cell_type": "code",
      "execution_count": 64,
      "metadata": {},
      "outputs": [
        {
          "data": {
            "text/html": [
              "<div>\n",
              "<style scoped>\n",
              "    .dataframe tbody tr th:only-of-type {\n",
              "        vertical-align: middle;\n",
              "    }\n",
              "\n",
              "    .dataframe tbody tr th {\n",
              "        vertical-align: top;\n",
              "    }\n",
              "\n",
              "    .dataframe thead th {\n",
              "        text-align: right;\n",
              "    }\n",
              "</style>\n",
              "<table border=\"1\" class=\"dataframe\">\n",
              "  <thead>\n",
              "    <tr style=\"text-align: right;\">\n",
              "      <th></th>\n",
              "      <th>route</th>\n",
              "      <th>count</th>\n",
              "    </tr>\n",
              "  </thead>\n",
              "  <tbody>\n",
              "    <tr>\n",
              "      <th>0</th>\n",
              "      <td>AKLKUL</td>\n",
              "      <td>2113</td>\n",
              "    </tr>\n",
              "    <tr>\n",
              "      <th>1</th>\n",
              "      <td>MELSGN</td>\n",
              "      <td>799</td>\n",
              "    </tr>\n",
              "    <tr>\n",
              "      <th>2</th>\n",
              "      <td>ICNSIN</td>\n",
              "      <td>711</td>\n",
              "    </tr>\n",
              "    <tr>\n",
              "      <th>3</th>\n",
              "      <td>ICNSYD</td>\n",
              "      <td>690</td>\n",
              "    </tr>\n",
              "    <tr>\n",
              "      <th>4</th>\n",
              "      <td>DMKPER</td>\n",
              "      <td>642</td>\n",
              "    </tr>\n",
              "    <tr>\n",
              "      <th>...</th>\n",
              "      <td>...</td>\n",
              "      <td>...</td>\n",
              "    </tr>\n",
              "    <tr>\n",
              "      <th>781</th>\n",
              "      <td>CMBWUH</td>\n",
              "      <td>1</td>\n",
              "    </tr>\n",
              "    <tr>\n",
              "      <th>782</th>\n",
              "      <td>CKGLOP</td>\n",
              "      <td>1</td>\n",
              "    </tr>\n",
              "    <tr>\n",
              "      <th>783</th>\n",
              "      <td>NRTSYD</td>\n",
              "      <td>1</td>\n",
              "    </tr>\n",
              "    <tr>\n",
              "      <th>784</th>\n",
              "      <td>MELVTE</td>\n",
              "      <td>1</td>\n",
              "    </tr>\n",
              "    <tr>\n",
              "      <th>785</th>\n",
              "      <td>MRUXIY</td>\n",
              "      <td>1</td>\n",
              "    </tr>\n",
              "  </tbody>\n",
              "</table>\n",
              "<p>786 rows × 2 columns</p>\n",
              "</div>"
            ],
            "text/plain": [
              "      route  count\n",
              "0    AKLKUL   2113\n",
              "1    MELSGN    799\n",
              "2    ICNSIN    711\n",
              "3    ICNSYD    690\n",
              "4    DMKPER    642\n",
              "..      ...    ...\n",
              "781  CMBWUH      1\n",
              "782  CKGLOP      1\n",
              "783  NRTSYD      1\n",
              "784  MELVTE      1\n",
              "785  MRUXIY      1\n",
              "\n",
              "[786 rows x 2 columns]"
            ]
          },
          "execution_count": 64,
          "metadata": {},
          "output_type": "execute_result"
        }
      ],
      "source": [
        "#count the route for 'booking_complete' is not complete\n",
        "route_nc = df['route'][df['booking_complete']==0].value_counts().sort_values(ascending=False).reset_index()\n",
        "route_nc"
      ]
    },
    {
      "cell_type": "code",
      "execution_count": 65,
      "metadata": {},
      "outputs": [],
      "source": [
        "# Renaming the columns for clarity\n",
        "route_c.columns = ['route', 'count_c']\n",
        "route_nc.columns = ['route', 'count_nc']"
      ]
    },
    {
      "cell_type": "code",
      "execution_count": 66,
      "metadata": {},
      "outputs": [
        {
          "data": {
            "text/html": [
              "<div>\n",
              "<style scoped>\n",
              "    .dataframe tbody tr th:only-of-type {\n",
              "        vertical-align: middle;\n",
              "    }\n",
              "\n",
              "    .dataframe tbody tr th {\n",
              "        vertical-align: top;\n",
              "    }\n",
              "\n",
              "    .dataframe thead th {\n",
              "        text-align: right;\n",
              "    }\n",
              "</style>\n",
              "<table border=\"1\" class=\"dataframe\">\n",
              "  <thead>\n",
              "    <tr style=\"text-align: right;\">\n",
              "      <th></th>\n",
              "      <th>route</th>\n",
              "      <th>count_c</th>\n",
              "      <th>count_nc</th>\n",
              "    </tr>\n",
              "  </thead>\n",
              "  <tbody>\n",
              "    <tr>\n",
              "      <th>0</th>\n",
              "      <td>AKLKUL</td>\n",
              "      <td>567</td>\n",
              "      <td>2113</td>\n",
              "    </tr>\n",
              "    <tr>\n",
              "      <th>1</th>\n",
              "      <td>PENTPE</td>\n",
              "      <td>401</td>\n",
              "      <td>523</td>\n",
              "    </tr>\n",
              "    <tr>\n",
              "      <th>2</th>\n",
              "      <td>DMKKIX</td>\n",
              "      <td>187</td>\n",
              "      <td>557</td>\n",
              "    </tr>\n",
              "    <tr>\n",
              "      <th>3</th>\n",
              "      <td>JHBKTM</td>\n",
              "      <td>164</td>\n",
              "      <td>245</td>\n",
              "    </tr>\n",
              "    <tr>\n",
              "      <th>4</th>\n",
              "      <td>MELPEN</td>\n",
              "      <td>137</td>\n",
              "      <td>512</td>\n",
              "    </tr>\n",
              "    <tr>\n",
              "      <th>...</th>\n",
              "      <td>...</td>\n",
              "      <td>...</td>\n",
              "      <td>...</td>\n",
              "    </tr>\n",
              "    <tr>\n",
              "      <th>544</th>\n",
              "      <td>AKLPVG</td>\n",
              "      <td>1</td>\n",
              "      <td>2</td>\n",
              "    </tr>\n",
              "    <tr>\n",
              "      <th>545</th>\n",
              "      <td>MELNRT</td>\n",
              "      <td>1</td>\n",
              "      <td>0</td>\n",
              "    </tr>\n",
              "    <tr>\n",
              "      <th>546</th>\n",
              "      <td>MELMLE</td>\n",
              "      <td>1</td>\n",
              "      <td>10</td>\n",
              "    </tr>\n",
              "    <tr>\n",
              "      <th>547</th>\n",
              "      <td>NRTSYD</td>\n",
              "      <td>1</td>\n",
              "      <td>1</td>\n",
              "    </tr>\n",
              "    <tr>\n",
              "      <th>548</th>\n",
              "      <td>OOLUTP</td>\n",
              "      <td>1</td>\n",
              "      <td>4</td>\n",
              "    </tr>\n",
              "  </tbody>\n",
              "</table>\n",
              "<p>549 rows × 3 columns</p>\n",
              "</div>"
            ],
            "text/plain": [
              "      route  count_c  count_nc\n",
              "0    AKLKUL      567      2113\n",
              "1    PENTPE      401       523\n",
              "2    DMKKIX      187       557\n",
              "3    JHBKTM      164       245\n",
              "4    MELPEN      137       512\n",
              "..      ...      ...       ...\n",
              "544  AKLPVG        1         2\n",
              "545  MELNRT        1         0\n",
              "546  MELMLE        1        10\n",
              "547  NRTSYD        1         1\n",
              "548  OOLUTP        1         4\n",
              "\n",
              "[549 rows x 3 columns]"
            ]
          },
          "execution_count": 66,
          "metadata": {},
          "output_type": "execute_result"
        }
      ],
      "source": [
        "# Merging the two dataframes on the 'route' column\n",
        "route_m = pd.merge(route_c, route_nc, how='left', on='route')\n",
        "\n",
        "# Fill NaN values with 0 in case a route is only in one of the dataframes\n",
        "route_m.fillna(0, inplace=True)\n",
        "\n",
        "# Convert count columns to integer type (optional)\n",
        "route_m['count_c'] = route_m['count_c'].astype(int)\n",
        "route_m['count_nc'] = route_m['count_nc'].astype(int)\n",
        "route_m"
      ]
    },
    {
      "cell_type": "code",
      "execution_count": 67,
      "metadata": {},
      "outputs": [
        {
          "data": {
            "text/html": [
              "<div>\n",
              "<style scoped>\n",
              "    .dataframe tbody tr th:only-of-type {\n",
              "        vertical-align: middle;\n",
              "    }\n",
              "\n",
              "    .dataframe tbody tr th {\n",
              "        vertical-align: top;\n",
              "    }\n",
              "\n",
              "    .dataframe thead th {\n",
              "        text-align: right;\n",
              "    }\n",
              "</style>\n",
              "<table border=\"1\" class=\"dataframe\">\n",
              "  <thead>\n",
              "    <tr style=\"text-align: right;\">\n",
              "      <th></th>\n",
              "      <th>route</th>\n",
              "      <th>count</th>\n",
              "      <th>count_c</th>\n",
              "      <th>count_nc</th>\n",
              "    </tr>\n",
              "  </thead>\n",
              "  <tbody>\n",
              "    <tr>\n",
              "      <th>0</th>\n",
              "      <td>AKLKUL</td>\n",
              "      <td>2680</td>\n",
              "      <td>567</td>\n",
              "      <td>2113</td>\n",
              "    </tr>\n",
              "    <tr>\n",
              "      <th>1</th>\n",
              "      <td>PENTPE</td>\n",
              "      <td>924</td>\n",
              "      <td>401</td>\n",
              "      <td>523</td>\n",
              "    </tr>\n",
              "    <tr>\n",
              "      <th>2</th>\n",
              "      <td>MELSGN</td>\n",
              "      <td>842</td>\n",
              "      <td>43</td>\n",
              "      <td>799</td>\n",
              "    </tr>\n",
              "    <tr>\n",
              "      <th>3</th>\n",
              "      <td>ICNSIN</td>\n",
              "      <td>801</td>\n",
              "      <td>90</td>\n",
              "      <td>711</td>\n",
              "    </tr>\n",
              "    <tr>\n",
              "      <th>4</th>\n",
              "      <td>DMKKIX</td>\n",
              "      <td>744</td>\n",
              "      <td>187</td>\n",
              "      <td>557</td>\n",
              "    </tr>\n",
              "    <tr>\n",
              "      <th>...</th>\n",
              "      <td>...</td>\n",
              "      <td>...</td>\n",
              "      <td>...</td>\n",
              "      <td>...</td>\n",
              "    </tr>\n",
              "    <tr>\n",
              "      <th>794</th>\n",
              "      <td>IKAKCH</td>\n",
              "      <td>1</td>\n",
              "      <td>0</td>\n",
              "      <td>0</td>\n",
              "    </tr>\n",
              "    <tr>\n",
              "      <th>795</th>\n",
              "      <td>CKGLOP</td>\n",
              "      <td>1</td>\n",
              "      <td>0</td>\n",
              "      <td>0</td>\n",
              "    </tr>\n",
              "    <tr>\n",
              "      <th>796</th>\n",
              "      <td>JEDPEN</td>\n",
              "      <td>1</td>\n",
              "      <td>1</td>\n",
              "      <td>0</td>\n",
              "    </tr>\n",
              "    <tr>\n",
              "      <th>797</th>\n",
              "      <td>AKLHGH</td>\n",
              "      <td>1</td>\n",
              "      <td>0</td>\n",
              "      <td>0</td>\n",
              "    </tr>\n",
              "    <tr>\n",
              "      <th>798</th>\n",
              "      <td>MRUXIY</td>\n",
              "      <td>1</td>\n",
              "      <td>0</td>\n",
              "      <td>0</td>\n",
              "    </tr>\n",
              "  </tbody>\n",
              "</table>\n",
              "<p>799 rows × 4 columns</p>\n",
              "</div>"
            ],
            "text/plain": [
              "      route  count  count_c  count_nc\n",
              "0    AKLKUL   2680      567      2113\n",
              "1    PENTPE    924      401       523\n",
              "2    MELSGN    842       43       799\n",
              "3    ICNSIN    801       90       711\n",
              "4    DMKKIX    744      187       557\n",
              "..      ...    ...      ...       ...\n",
              "794  IKAKCH      1        0         0\n",
              "795  CKGLOP      1        0         0\n",
              "796  JEDPEN      1        1         0\n",
              "797  AKLHGH      1        0         0\n",
              "798  MRUXIY      1        0         0\n",
              "\n",
              "[799 rows x 4 columns]"
            ]
          },
          "execution_count": 67,
          "metadata": {},
          "output_type": "execute_result"
        }
      ],
      "source": [
        "# Merging the two dataframes on the 'route' column\n",
        "route_mc = pd.merge(route, route_m, how='left', on='route')\n",
        "# Fill NaN values with 0 in case a route is only in one of the dataframes\n",
        "route_mc.fillna(0, inplace=True)\n",
        "\n",
        "# Convert count columns to integer type (optional)\n",
        "route_mc['count_c'] = route_mc['count_c'].astype(int)\n",
        "route_mc['count_nc'] = route_mc['count_nc'].astype(int)\n",
        "route_mc['count'] = route_mc['count'].astype(int)\n",
        "\n",
        "#dataframe with counting\n",
        "route_mc\n"
      ]
    },
    {
      "cell_type": "code",
      "execution_count": 68,
      "metadata": {},
      "outputs": [
        {
          "data": {
            "text/html": [
              "<div>\n",
              "<style scoped>\n",
              "    .dataframe tbody tr th:only-of-type {\n",
              "        vertical-align: middle;\n",
              "    }\n",
              "\n",
              "    .dataframe tbody tr th {\n",
              "        vertical-align: top;\n",
              "    }\n",
              "\n",
              "    .dataframe thead th {\n",
              "        text-align: right;\n",
              "    }\n",
              "</style>\n",
              "<table border=\"1\" class=\"dataframe\">\n",
              "  <thead>\n",
              "    <tr style=\"text-align: right;\">\n",
              "      <th></th>\n",
              "      <th>route</th>\n",
              "      <th>count</th>\n",
              "      <th>count_c</th>\n",
              "      <th>count_nc</th>\n",
              "    </tr>\n",
              "  </thead>\n",
              "  <tbody>\n",
              "    <tr>\n",
              "      <th>123</th>\n",
              "      <td>BKIOOL</td>\n",
              "      <td>99</td>\n",
              "      <td>17</td>\n",
              "      <td>82</td>\n",
              "    </tr>\n",
              "    <tr>\n",
              "      <th>124</th>\n",
              "      <td>CEBMEL</td>\n",
              "      <td>98</td>\n",
              "      <td>14</td>\n",
              "      <td>84</td>\n",
              "    </tr>\n",
              "    <tr>\n",
              "      <th>125</th>\n",
              "      <td>BKIPEK</td>\n",
              "      <td>98</td>\n",
              "      <td>22</td>\n",
              "      <td>76</td>\n",
              "    </tr>\n",
              "    <tr>\n",
              "      <th>126</th>\n",
              "      <td>KCHPEK</td>\n",
              "      <td>98</td>\n",
              "      <td>20</td>\n",
              "      <td>78</td>\n",
              "    </tr>\n",
              "    <tr>\n",
              "      <th>127</th>\n",
              "      <td>BKIKIX</td>\n",
              "      <td>97</td>\n",
              "      <td>34</td>\n",
              "      <td>63</td>\n",
              "    </tr>\n",
              "    <tr>\n",
              "      <th>...</th>\n",
              "      <td>...</td>\n",
              "      <td>...</td>\n",
              "      <td>...</td>\n",
              "      <td>...</td>\n",
              "    </tr>\n",
              "    <tr>\n",
              "      <th>794</th>\n",
              "      <td>IKAKCH</td>\n",
              "      <td>1</td>\n",
              "      <td>0</td>\n",
              "      <td>0</td>\n",
              "    </tr>\n",
              "    <tr>\n",
              "      <th>795</th>\n",
              "      <td>CKGLOP</td>\n",
              "      <td>1</td>\n",
              "      <td>0</td>\n",
              "      <td>0</td>\n",
              "    </tr>\n",
              "    <tr>\n",
              "      <th>796</th>\n",
              "      <td>JEDPEN</td>\n",
              "      <td>1</td>\n",
              "      <td>1</td>\n",
              "      <td>0</td>\n",
              "    </tr>\n",
              "    <tr>\n",
              "      <th>797</th>\n",
              "      <td>AKLHGH</td>\n",
              "      <td>1</td>\n",
              "      <td>0</td>\n",
              "      <td>0</td>\n",
              "    </tr>\n",
              "    <tr>\n",
              "      <th>798</th>\n",
              "      <td>MRUXIY</td>\n",
              "      <td>1</td>\n",
              "      <td>0</td>\n",
              "      <td>0</td>\n",
              "    </tr>\n",
              "  </tbody>\n",
              "</table>\n",
              "<p>676 rows × 4 columns</p>\n",
              "</div>"
            ],
            "text/plain": [
              "      route  count  count_c  count_nc\n",
              "123  BKIOOL     99       17        82\n",
              "124  CEBMEL     98       14        84\n",
              "125  BKIPEK     98       22        76\n",
              "126  KCHPEK     98       20        78\n",
              "127  BKIKIX     97       34        63\n",
              "..      ...    ...      ...       ...\n",
              "794  IKAKCH      1        0         0\n",
              "795  CKGLOP      1        0         0\n",
              "796  JEDPEN      1        1         0\n",
              "797  AKLHGH      1        0         0\n",
              "798  MRUXIY      1        0         0\n",
              "\n",
              "[676 rows x 4 columns]"
            ]
          },
          "execution_count": 68,
          "metadata": {},
          "output_type": "execute_result"
        }
      ],
      "source": [
        "route_mc[route_mc['count']< 100]"
      ]
    },
    {
      "cell_type": "code",
      "execution_count": 69,
      "metadata": {},
      "outputs": [
        {
          "data": {
            "text/html": [
              "<div>\n",
              "<style scoped>\n",
              "    .dataframe tbody tr th:only-of-type {\n",
              "        vertical-align: middle;\n",
              "    }\n",
              "\n",
              "    .dataframe tbody tr th {\n",
              "        vertical-align: top;\n",
              "    }\n",
              "\n",
              "    .dataframe thead th {\n",
              "        text-align: right;\n",
              "    }\n",
              "</style>\n",
              "<table border=\"1\" class=\"dataframe\">\n",
              "  <thead>\n",
              "    <tr style=\"text-align: right;\">\n",
              "      <th></th>\n",
              "      <th>route</th>\n",
              "      <th>count</th>\n",
              "    </tr>\n",
              "  </thead>\n",
              "  <tbody>\n",
              "    <tr>\n",
              "      <th>123</th>\n",
              "      <td>BKIOOL</td>\n",
              "      <td>99</td>\n",
              "    </tr>\n",
              "    <tr>\n",
              "      <th>124</th>\n",
              "      <td>CEBMEL</td>\n",
              "      <td>98</td>\n",
              "    </tr>\n",
              "    <tr>\n",
              "      <th>125</th>\n",
              "      <td>BKIPEK</td>\n",
              "      <td>98</td>\n",
              "    </tr>\n",
              "    <tr>\n",
              "      <th>126</th>\n",
              "      <td>KCHPEK</td>\n",
              "      <td>98</td>\n",
              "    </tr>\n",
              "    <tr>\n",
              "      <th>127</th>\n",
              "      <td>BKIKIX</td>\n",
              "      <td>97</td>\n",
              "    </tr>\n",
              "    <tr>\n",
              "      <th>...</th>\n",
              "      <td>...</td>\n",
              "      <td>...</td>\n",
              "    </tr>\n",
              "    <tr>\n",
              "      <th>794</th>\n",
              "      <td>IKAKCH</td>\n",
              "      <td>1</td>\n",
              "    </tr>\n",
              "    <tr>\n",
              "      <th>795</th>\n",
              "      <td>CKGLOP</td>\n",
              "      <td>1</td>\n",
              "    </tr>\n",
              "    <tr>\n",
              "      <th>796</th>\n",
              "      <td>JEDPEN</td>\n",
              "      <td>1</td>\n",
              "    </tr>\n",
              "    <tr>\n",
              "      <th>797</th>\n",
              "      <td>AKLHGH</td>\n",
              "      <td>1</td>\n",
              "    </tr>\n",
              "    <tr>\n",
              "      <th>798</th>\n",
              "      <td>MRUXIY</td>\n",
              "      <td>1</td>\n",
              "    </tr>\n",
              "  </tbody>\n",
              "</table>\n",
              "<p>676 rows × 2 columns</p>\n",
              "</div>"
            ],
            "text/plain": [
              "      route  count\n",
              "123  BKIOOL     99\n",
              "124  CEBMEL     98\n",
              "125  BKIPEK     98\n",
              "126  KCHPEK     98\n",
              "127  BKIKIX     97\n",
              "..      ...    ...\n",
              "794  IKAKCH      1\n",
              "795  CKGLOP      1\n",
              "796  JEDPEN      1\n",
              "797  AKLHGH      1\n",
              "798  MRUXIY      1\n",
              "\n",
              "[676 rows x 2 columns]"
            ]
          },
          "execution_count": 69,
          "metadata": {},
          "output_type": "execute_result"
        }
      ],
      "source": [
        "# find the route use less then 100 times\n",
        "route_less_100= route[route['count'] <100]\n",
        "route_less_100"
      ]
    },
    {
      "cell_type": "code",
      "execution_count": 70,
      "metadata": {},
      "outputs": [
        {
          "data": {
            "text/plain": [
              "676"
            ]
          },
          "execution_count": 70,
          "metadata": {},
          "output_type": "execute_result"
        }
      ],
      "source": [
        "len(route_less_100['route'])"
      ]
    },
    {
      "cell_type": "code",
      "execution_count": 71,
      "metadata": {},
      "outputs": [],
      "source": [
        "#Chnage the route name to others to reduce unique rout name\n",
        "df2['route']= df2['route'].apply(lambda x : 'others' if x in route_less_100['route'].values else x )\n"
      ]
    },
    {
      "cell_type": "code",
      "execution_count": 72,
      "metadata": {},
      "outputs": [
        {
          "data": {
            "text/plain": [
              "Index(['num_passengers', 'sales_channel', 'trip_type', 'purchase_lead',\n",
              "       'length_of_stay', 'flight_hour', 'flight_day', 'route',\n",
              "       'booking_origin', 'wants_extra_baggage', 'wants_preferred_seat',\n",
              "       'wants_in_flight_meals', 'flight_duration', 'booking_complete'],\n",
              "      dtype='object')"
            ]
          },
          "execution_count": 72,
          "metadata": {},
          "output_type": "execute_result"
        }
      ],
      "source": [
        "df2.columns"
      ]
    },
    {
      "cell_type": "code",
      "execution_count": 73,
      "metadata": {},
      "outputs": [
        {
          "data": {
            "text/plain": [
              "route\n",
              "others    15211\n",
              "AKLKUL     2680\n",
              "PENTPE      924\n",
              "MELSGN      842\n",
              "ICNSIN      801\n",
              "          ...  \n",
              "HKGMEL      106\n",
              "PEKSYD      103\n",
              "PEKSIN      102\n",
              "CNXPER      101\n",
              "DPSHGH      100\n",
              "Name: count, Length: 124, dtype: int64"
            ]
          },
          "execution_count": 73,
          "metadata": {},
          "output_type": "execute_result"
        }
      ],
      "source": [
        "df2['route'].value_counts()"
      ]
    },
    {
      "cell_type": "code",
      "execution_count": 74,
      "metadata": {},
      "outputs": [
        {
          "data": {
            "image/png": "[encoded data removed]",
            "text/plain": [
              "<Figure size 4000x2000 with 1 Axes>"
            ]
          },
          "metadata": {},
          "output_type": "display_data"
        }
      ],
      "source": [
        "# Count plot on route with booking complete or not\n",
        "plt.figure(figsize=(40,20))\n",
        "sns.countplot(data=df2, x='route', hue='booking_complete')\n",
        "plt.xticks(rotation=90, ha='right' ) # Rotate x labels if they overlap\n",
        "# Add extra space between the x labels\n",
        "plt.gcf().subplots_adjust(bottom=0.25)\n",
        "plt.show()"
      ]
    },
    {
      "cell_type": "code",
      "execution_count": 75,
      "metadata": {},
      "outputs": [
        {
          "data": {
            "image/png": "[encoded data removed]",
            "text/plain": [
              "<Figure size 4000x2000 with 1 Axes>"
            ]
          },
          "metadata": {},
          "output_type": "display_data"
        }
      ],
      "source": [
        "# Count plot on route of booking complete\n",
        "plt.figure(figsize=(40,20))\n",
        "sns.countplot(data=df2, x=df2[df2['booking_complete']==1]['route'])\n",
        "plt.xticks(rotation=90, ha='right' ) # Rotate x labels if they overlap\n",
        "# Add extra space between the x labels\n",
        "plt.gcf().subplots_adjust(bottom=0.25)\n",
        "plt.show()"
      ]
    },
    {
      "cell_type": "code",
      "execution_count": 76,
      "metadata": {},
      "outputs": [
        {
          "name": "stdout",
          "output_type": "stream",
          "text": [
            "<class 'pandas.core.frame.DataFrame'>\n",
            "RangeIndex: 50000 entries, 0 to 49999\n",
            "Data columns (total 14 columns):\n",
            " #   Column                 Non-Null Count  Dtype  \n",
            "---  ------                 --------------  -----  \n",
            " 0   num_passengers         50000 non-null  int64  \n",
            " 1   sales_channel          50000 non-null  object \n",
            " 2   trip_type              50000 non-null  object \n",
            " 3   purchase_lead          50000 non-null  int64  \n",
            " 4   length_of_stay         50000 non-null  int64  \n",
            " 5   flight_hour            50000 non-null  int64  \n",
            " 6   flight_day             50000 non-null  int64  \n",
            " 7   route                  50000 non-null  object \n",
            " 8   booking_origin         50000 non-null  object \n",
            " 9   wants_extra_baggage    50000 non-null  int64  \n",
            " 10  wants_preferred_seat   50000 non-null  int64  \n",
            " 11  wants_in_flight_meals  50000 non-null  int64  \n",
            " 12  flight_duration        50000 non-null  float64\n",
            " 13  booking_complete       50000 non-null  int64  \n",
            "dtypes: float64(1), int64(9), object(4)\n",
            "memory usage: 5.3+ MB\n"
          ]
        }
      ],
      "source": [
        "df2.info()"
      ]
    },
    {
      "cell_type": "markdown",
      "metadata": {},
      "source": [
        "# Save the modified dataset"
      ]
    },
    {
      "cell_type": "code",
      "execution_count": 77,
      "metadata": {},
      "outputs": [],
      "source": [
        "#save the modified dataset\n",
        "#df2.to_csv(\"modified_BA_flight_data.csv\", index= None)"
      ]
    },
    {
      "cell_type": "code",
      "execution_count": 78,
      "metadata": {},
      "outputs": [],
      "source": []
    },
    {
      "cell_type": "code",
      "execution_count": 79,
      "metadata": {},
      "outputs": [
        {
          "data": {
            "text/plain": [
              "Index(['num_passengers', 'sales_channel', 'trip_type', 'purchase_lead',\n",
              "       'length_of_stay', 'flight_hour', 'flight_day', 'route',\n",
              "       'booking_origin', 'wants_extra_baggage', 'wants_preferred_seat',\n",
              "       'wants_in_flight_meals', 'flight_duration', 'booking_complete'],\n",
              "      dtype='object')"
            ]
          },
          "execution_count": 79,
          "metadata": {},
          "output_type": "execute_result"
        }
      ],
      "source": [
        "df2.columns"
      ]
    },
    {
      "attachments": {},
      "cell_type": "markdown",
      "metadata": {},
      "source": [
        "# Length of stay "
      ]
    },
    {
      "cell_type": "code",
      "execution_count": 80,
      "metadata": {},
      "outputs": [
        {
          "data": {
            "text/plain": [
              "count    50000.00000\n",
              "mean        23.04456\n",
              "std         33.88767\n",
              "min          0.00000\n",
              "25%          5.00000\n",
              "50%         17.00000\n",
              "75%         28.00000\n",
              "max        778.00000\n",
              "Name: length_of_stay, dtype: float64"
            ]
          },
          "execution_count": 80,
          "metadata": {},
          "output_type": "execute_result"
        }
      ],
      "source": [
        "df2['length_of_stay'].describe()"
      ]
    },
    {
      "cell_type": "code",
      "execution_count": 81,
      "metadata": {},
      "outputs": [
        {
          "data": {
            "text/plain": [
              "<Axes: xlabel='length_of_stay'>"
            ]
          },
          "execution_count": 81,
          "metadata": {},
          "output_type": "execute_result"
        },
        {
          "data": {
            "image/png": "[encoded data removed]",
            "text/plain": [
              "<Figure size 640x480 with 1 Axes>"
            ]
          },
          "metadata": {},
          "output_type": "display_data"
        }
      ],
      "source": [
        "sns.boxplot(data=df2,x= 'length_of_stay',hue='booking_complete' )"
      ]
    },
    {
      "cell_type": "code",
      "execution_count": 82,
      "metadata": {},
      "outputs": [
        {
          "data": {
            "text/plain": [
              "length_of_stay\n",
              "6      7757\n",
              "5      7286\n",
              "4      5655\n",
              "3      2839\n",
              "17     1849\n",
              "       ... \n",
              "577       1\n",
              "603       1\n",
              "610       1\n",
              "773       1\n",
              "778       1\n",
              "Name: length_of_stay, Length: 335, dtype: int64"
            ]
          },
          "execution_count": 82,
          "metadata": {},
          "output_type": "execute_result"
        }
      ],
      "source": [
        "length_of_stay = df2.groupby('length_of_stay')['length_of_stay'].agg('count').sort_values(ascending=False)\n",
        "length_of_stay"
      ]
    },
    {
      "cell_type": "code",
      "execution_count": 86,
      "metadata": {},
      "outputs": [
        {
          "name": "stdout",
          "output_type": "stream",
          "text": [
            "23.0\n"
          ]
        }
      ],
      "source": [
        "# Interquartaile range (IQR) identification \n",
        "seventy_fifth = df2['length_of_stay'].quantile(.75)\n",
        "twenty_fifth = df2['length_of_stay'].quantile(.25)\n",
        "stay_iqr = seventy_fifth - twenty_fifth\n",
        "print(stay_iqr)"
      ]
    },
    {
      "cell_type": "code",
      "execution_count": 88,
      "metadata": {},
      "outputs": [
        {
          "name": "stdout",
          "output_type": "stream",
          "text": [
            "62.5\n",
            "-29.5\n"
          ]
        }
      ],
      "source": [
        "# Outliers calculation\n",
        "\n",
        "#upper threshold\n",
        "upper = seventy_fifth + (1.5* stay_iqr)\n",
        "print(upper)\n",
        "\n",
        "#lower threshold\n",
        "\n",
        "lower = twenty_fifth - (1.5* stay_iqr)\n",
        "print(lower)"
      ]
    },
    {
      "cell_type": "code",
      "execution_count": 96,
      "metadata": {},
      "outputs": [],
      "source": [
        "# substracting the upper threshold\n",
        "\n",
        "df3 = df2[(df2['length_of_stay'] < lower)  | (df2['length_of_stay'] > upper) ]"
      ]
    },
    {
      "cell_type": "code",
      "execution_count": 97,
      "metadata": {},
      "outputs": [
        {
          "data": {
            "text/html": [
              "<div>\n",
              "<style scoped>\n",
              "    .dataframe tbody tr th:only-of-type {\n",
              "        vertical-align: middle;\n",
              "    }\n",
              "\n",
              "    .dataframe tbody tr th {\n",
              "        vertical-align: top;\n",
              "    }\n",
              "\n",
              "    .dataframe thead th {\n",
              "        text-align: right;\n",
              "    }\n",
              "</style>\n",
              "<table border=\"1\" class=\"dataframe\">\n",
              "  <thead>\n",
              "    <tr style=\"text-align: right;\">\n",
              "      <th></th>\n",
              "      <th>num_passengers</th>\n",
              "      <th>sales_channel</th>\n",
              "      <th>trip_type</th>\n",
              "      <th>purchase_lead</th>\n",
              "      <th>length_of_stay</th>\n",
              "      <th>flight_hour</th>\n",
              "      <th>flight_day</th>\n",
              "      <th>route</th>\n",
              "      <th>booking_origin</th>\n",
              "      <th>wants_extra_baggage</th>\n",
              "      <th>wants_preferred_seat</th>\n",
              "      <th>wants_in_flight_meals</th>\n",
              "      <th>flight_duration</th>\n",
              "      <th>booking_complete</th>\n",
              "    </tr>\n",
              "  </thead>\n",
              "  <tbody>\n",
              "    <tr>\n",
              "      <th>18</th>\n",
              "      <td>1</td>\n",
              "      <td>Internet</td>\n",
              "      <td>RoundTrip</td>\n",
              "      <td>67</td>\n",
              "      <td>155</td>\n",
              "      <td>8</td>\n",
              "      <td>7</td>\n",
              "      <td>others</td>\n",
              "      <td>New Zealand</td>\n",
              "      <td>1</td>\n",
              "      <td>0</td>\n",
              "      <td>0</td>\n",
              "      <td>5.52</td>\n",
              "      <td>0</td>\n",
              "    </tr>\n",
              "    <tr>\n",
              "      <th>21</th>\n",
              "      <td>1</td>\n",
              "      <td>Internet</td>\n",
              "      <td>RoundTrip</td>\n",
              "      <td>21</td>\n",
              "      <td>88</td>\n",
              "      <td>9</td>\n",
              "      <td>3</td>\n",
              "      <td>others</td>\n",
              "      <td>South Korea</td>\n",
              "      <td>1</td>\n",
              "      <td>0</td>\n",
              "      <td>1</td>\n",
              "      <td>6.62</td>\n",
              "      <td>0</td>\n",
              "    </tr>\n",
              "    <tr>\n",
              "      <th>31</th>\n",
              "      <td>2</td>\n",
              "      <td>Internet</td>\n",
              "      <td>RoundTrip</td>\n",
              "      <td>7</td>\n",
              "      <td>82</td>\n",
              "      <td>4</td>\n",
              "      <td>4</td>\n",
              "      <td>others</td>\n",
              "      <td>South Korea</td>\n",
              "      <td>1</td>\n",
              "      <td>0</td>\n",
              "      <td>1</td>\n",
              "      <td>6.62</td>\n",
              "      <td>0</td>\n",
              "    </tr>\n",
              "    <tr>\n",
              "      <th>41</th>\n",
              "      <td>1</td>\n",
              "      <td>Internet</td>\n",
              "      <td>RoundTrip</td>\n",
              "      <td>71</td>\n",
              "      <td>90</td>\n",
              "      <td>7</td>\n",
              "      <td>4</td>\n",
              "      <td>others</td>\n",
              "      <td>South Korea</td>\n",
              "      <td>1</td>\n",
              "      <td>1</td>\n",
              "      <td>1</td>\n",
              "      <td>6.62</td>\n",
              "      <td>0</td>\n",
              "    </tr>\n",
              "    <tr>\n",
              "      <th>43</th>\n",
              "      <td>1</td>\n",
              "      <td>Internet</td>\n",
              "      <td>RoundTrip</td>\n",
              "      <td>9</td>\n",
              "      <td>84</td>\n",
              "      <td>7</td>\n",
              "      <td>3</td>\n",
              "      <td>others</td>\n",
              "      <td>New Zealand</td>\n",
              "      <td>1</td>\n",
              "      <td>0</td>\n",
              "      <td>0</td>\n",
              "      <td>6.62</td>\n",
              "      <td>0</td>\n",
              "    </tr>\n",
              "    <tr>\n",
              "      <th>...</th>\n",
              "      <td>...</td>\n",
              "      <td>...</td>\n",
              "      <td>...</td>\n",
              "      <td>...</td>\n",
              "      <td>...</td>\n",
              "      <td>...</td>\n",
              "      <td>...</td>\n",
              "      <td>...</td>\n",
              "      <td>...</td>\n",
              "      <td>...</td>\n",
              "      <td>...</td>\n",
              "      <td>...</td>\n",
              "      <td>...</td>\n",
              "      <td>...</td>\n",
              "    </tr>\n",
              "    <tr>\n",
              "      <th>25580</th>\n",
              "      <td>1</td>\n",
              "      <td>Internet</td>\n",
              "      <td>RoundTrip</td>\n",
              "      <td>129</td>\n",
              "      <td>63</td>\n",
              "      <td>15</td>\n",
              "      <td>5</td>\n",
              "      <td>others</td>\n",
              "      <td>Taiwan</td>\n",
              "      <td>1</td>\n",
              "      <td>0</td>\n",
              "      <td>1</td>\n",
              "      <td>5.13</td>\n",
              "      <td>0</td>\n",
              "    </tr>\n",
              "    <tr>\n",
              "      <th>25581</th>\n",
              "      <td>1</td>\n",
              "      <td>Internet</td>\n",
              "      <td>RoundTrip</td>\n",
              "      <td>127</td>\n",
              "      <td>67</td>\n",
              "      <td>8</td>\n",
              "      <td>7</td>\n",
              "      <td>others</td>\n",
              "      <td>China</td>\n",
              "      <td>1</td>\n",
              "      <td>0</td>\n",
              "      <td>1</td>\n",
              "      <td>5.13</td>\n",
              "      <td>0</td>\n",
              "    </tr>\n",
              "    <tr>\n",
              "      <th>25582</th>\n",
              "      <td>1</td>\n",
              "      <td>Internet</td>\n",
              "      <td>RoundTrip</td>\n",
              "      <td>127</td>\n",
              "      <td>67</td>\n",
              "      <td>8</td>\n",
              "      <td>7</td>\n",
              "      <td>others</td>\n",
              "      <td>China</td>\n",
              "      <td>1</td>\n",
              "      <td>0</td>\n",
              "      <td>1</td>\n",
              "      <td>5.13</td>\n",
              "      <td>0</td>\n",
              "    </tr>\n",
              "    <tr>\n",
              "      <th>25586</th>\n",
              "      <td>1</td>\n",
              "      <td>Internet</td>\n",
              "      <td>RoundTrip</td>\n",
              "      <td>129</td>\n",
              "      <td>63</td>\n",
              "      <td>17</td>\n",
              "      <td>5</td>\n",
              "      <td>others</td>\n",
              "      <td>Taiwan</td>\n",
              "      <td>1</td>\n",
              "      <td>0</td>\n",
              "      <td>1</td>\n",
              "      <td>5.13</td>\n",
              "      <td>0</td>\n",
              "    </tr>\n",
              "    <tr>\n",
              "      <th>25592</th>\n",
              "      <td>1</td>\n",
              "      <td>Internet</td>\n",
              "      <td>RoundTrip</td>\n",
              "      <td>42</td>\n",
              "      <td>67</td>\n",
              "      <td>14</td>\n",
              "      <td>1</td>\n",
              "      <td>others</td>\n",
              "      <td>(not set)</td>\n",
              "      <td>1</td>\n",
              "      <td>0</td>\n",
              "      <td>0</td>\n",
              "      <td>5.00</td>\n",
              "      <td>0</td>\n",
              "    </tr>\n",
              "  </tbody>\n",
              "</table>\n",
              "<p>3807 rows × 14 columns</p>\n",
              "</div>"
            ],
            "text/plain": [
              "       num_passengers sales_channel  trip_type  purchase_lead  length_of_stay  \\\n",
              "18                  1      Internet  RoundTrip             67             155   \n",
              "21                  1      Internet  RoundTrip             21              88   \n",
              "31                  2      Internet  RoundTrip              7              82   \n",
              "41                  1      Internet  RoundTrip             71              90   \n",
              "43                  1      Internet  RoundTrip              9              84   \n",
              "...               ...           ...        ...            ...             ...   \n",
              "25580               1      Internet  RoundTrip            129              63   \n",
              "25581               1      Internet  RoundTrip            127              67   \n",
              "25582               1      Internet  RoundTrip            127              67   \n",
              "25586               1      Internet  RoundTrip            129              63   \n",
              "25592               1      Internet  RoundTrip             42              67   \n",
              "\n",
              "       flight_hour  flight_day   route booking_origin  wants_extra_baggage  \\\n",
              "18               8           7  others    New Zealand                    1   \n",
              "21               9           3  others    South Korea                    1   \n",
              "31               4           4  others    South Korea                    1   \n",
              "41               7           4  others    South Korea                    1   \n",
              "43               7           3  others    New Zealand                    1   \n",
              "...            ...         ...     ...            ...                  ...   \n",
              "25580           15           5  others         Taiwan                    1   \n",
              "25581            8           7  others          China                    1   \n",
              "25582            8           7  others          China                    1   \n",
              "25586           17           5  others         Taiwan                    1   \n",
              "25592           14           1  others      (not set)                    1   \n",
              "\n",
              "       wants_preferred_seat  wants_in_flight_meals  flight_duration  \\\n",
              "18                        0                      0             5.52   \n",
              "21                        0                      1             6.62   \n",
              "31                        0                      1             6.62   \n",
              "41                        1                      1             6.62   \n",
              "43                        0                      0             6.62   \n",
              "...                     ...                    ...              ...   \n",
              "25580                     0                      1             5.13   \n",
              "25581                     0                      1             5.13   \n",
              "25582                     0                      1             5.13   \n",
              "25586                     0                      1             5.13   \n",
              "25592                     0                      0             5.00   \n",
              "\n",
              "       booking_complete  \n",
              "18                    0  \n",
              "21                    0  \n",
              "31                    0  \n",
              "41                    0  \n",
              "43                    0  \n",
              "...                 ...  \n",
              "25580                 0  \n",
              "25581                 0  \n",
              "25582                 0  \n",
              "25586                 0  \n",
              "25592                 0  \n",
              "\n",
              "[3807 rows x 14 columns]"
            ]
          },
          "execution_count": 97,
          "metadata": {},
          "output_type": "execute_result"
        }
      ],
      "source": [
        "df3"
      ]
    },
    {
      "cell_type": "code",
      "execution_count": 98,
      "metadata": {},
      "outputs": [
        {
          "data": {
            "text/plain": [
              "length_of_stay\n",
              "89     197\n",
              "88     173\n",
              "90     168\n",
              "91     158\n",
              "87     150\n",
              "      ... \n",
              "577      1\n",
              "603      1\n",
              "610      1\n",
              "773      1\n",
              "778      1\n",
              "Name: length_of_stay, Length: 282, dtype: int64"
            ]
          },
          "execution_count": 98,
          "metadata": {},
          "output_type": "execute_result"
        }
      ],
      "source": [
        "length_of_stay2 = df3.groupby('length_of_stay')['length_of_stay'].agg('count').sort_values(ascending=False)\n",
        "length_of_stay2"
      ]
    },
    {
      "cell_type": "code",
      "execution_count": 92,
      "metadata": {},
      "outputs": [
        {
          "data": {
            "text/plain": [
              "<Axes: ylabel='length_of_stay'>"
            ]
          },
          "execution_count": 92,
          "metadata": {},
          "output_type": "execute_result"
        },
        {
          "data": {
            "image/png": "[encoded data removed]",
            "text/plain": [
              "<Figure size 640x480 with 1 Axes>"
            ]
          },
          "metadata": {},
          "output_type": "display_data"
        }
      ],
      "source": [
        "sns.boxplot(length_of_stay2)"
      ]
    },
    {
      "cell_type": "code",
      "execution_count": 106,
      "metadata": {},
      "outputs": [
        {
          "data": {
            "text/plain": [
              "18       155\n",
              "21        88\n",
              "31        82\n",
              "41        90\n",
              "43        84\n",
              "        ... \n",
              "25580     63\n",
              "25581     67\n",
              "25582     67\n",
              "25586     63\n",
              "25592     67\n",
              "Name: length_of_stay, Length: 3807, dtype: int64"
            ]
          },
          "execution_count": 106,
          "metadata": {},
          "output_type": "execute_result"
        }
      ],
      "source": [
        "df3['length_of_stay']"
      ]
    },
    {
      "cell_type": "code",
      "execution_count": 104,
      "metadata": {},
      "outputs": [
        {
          "data": {
            "text/plain": [
              "<function matplotlib.pyplot.show(close=None, block=None)>"
            ]
          },
          "execution_count": 104,
          "metadata": {},
          "output_type": "execute_result"
        },
        {
          "data": {
            "image/png": "[encoded data removed]",
            "text/plain": [
              "<Figure size 640x480 with 1 Axes>"
            ]
          },
          "metadata": {},
          "output_type": "display_data"
        }
      ],
      "source": [
        "sns.boxplot( data= df3, x= 'length_of_stay' #,hue='booking_complete' \n",
        "            )\n",
        "plt.show"
      ]
    },
    {
      "cell_type": "code",
      "execution_count": 83,
      "metadata": {},
      "outputs": [
        {
          "data": {
            "text/plain": [
              "<Axes: ylabel='length_of_stay'>"
            ]
          },
          "execution_count": 83,
          "metadata": {},
          "output_type": "execute_result"
        },
        {
          "data": {
            "image/png": "[encoded data removed]",
            "text/plain": [
              "<Figure size 640x480 with 1 Axes>"
            ]
          },
          "metadata": {},
          "output_type": "display_data"
        }
      ],
      "source": [
        "sns.boxplot(length_of_stay[length_of_stay < 28])"
      ]
    },
    {
      "cell_type": "code",
      "execution_count": 84,
      "metadata": {},
      "outputs": [
        {
          "data": {
            "text/plain": [
              "24673"
            ]
          },
          "execution_count": 84,
          "metadata": {},
          "output_type": "execute_result"
        }
      ],
      "source": [
        "len(df[df['length_of_stay']<17])"
      ]
    },
    {
      "cell_type": "markdown",
      "metadata": {},
      "source": [
        "Removing Outlier"
      ]
    },
    {
      "cell_type": "code",
      "execution_count": null,
      "metadata": {},
      "outputs": [],
      "source": [
        "df2 = pd.read_csv(\"modified_BA_flight_data.csv\", index_col=None)"
      ]
    },
    {
      "cell_type": "code",
      "execution_count": null,
      "metadata": {},
      "outputs": [],
      "source": []
    },
    {
      "cell_type": "code",
      "execution_count": null,
      "metadata": {},
      "outputs": [],
      "source": []
    },
    {
      "attachments": {},
      "cell_type": "markdown",
      "metadata": {},
      "source": [
        "# Data Manupulation"
      ]
    },
    {
      "cell_type": "code",
      "execution_count": 66,
      "metadata": {},
      "outputs": [],
      "source": [
        "df4 = df2.copy()"
      ]
    },
    {
      "cell_type": "code",
      "execution_count": 67,
      "metadata": {},
      "outputs": [],
      "source": [
        "from sklearn.preprocessing import LabelEncoder\n",
        "from sklearn.preprocessing import OneHotEncoder\n",
        "from sklearn.preprocessing import StandardScaler\n",
        "from sklearn.compose import ColumnTransformer\n",
        "from sklearn.pipeline import Pipeline"
      ]
    },
    {
      "cell_type": "code",
      "execution_count": 68,
      "metadata": {},
      "outputs": [
        {
          "data": {
            "text/plain": [
              "'encoder = LabelEncoder()\\ndf4[\"trip_type\"] = encoder.fit_transform(df4[\"trip_type\"])\\ndf4[\"sales_channel\"] = encoder.fit_transform(df4[\"sales_channel\"])\\ndf4[\"route\"] = encoder.fit_transform(df4[\"route\"])\\ndf4[\"booking_origin\"] = encoder.fit_transform(df4[\"booking_origin\"])'"
            ]
          },
          "execution_count": 68,
          "metadata": {},
          "output_type": "execute_result"
        }
      ],
      "source": [
        "\"\"\"encoder = LabelEncoder()\n",
        "df4[\"trip_type\"] = encoder.fit_transform(df4[\"trip_type\"])\n",
        "df4[\"sales_channel\"] = encoder.fit_transform(df4[\"sales_channel\"])\n",
        "df4[\"route\"] = encoder.fit_transform(df4[\"route\"])\n",
        "df4[\"booking_origin\"] = encoder.fit_transform(df4[\"booking_origin\"])\"\"\""
      ]
    },
    {
      "cell_type": "code",
      "execution_count": 69,
      "metadata": {},
      "outputs": [
        {
          "data": {
            "text/html": [
              "<div>\n",
              "<style scoped>\n",
              "    .dataframe tbody tr th:only-of-type {\n",
              "        vertical-align: middle;\n",
              "    }\n",
              "\n",
              "    .dataframe tbody tr th {\n",
              "        vertical-align: top;\n",
              "    }\n",
              "\n",
              "    .dataframe thead th {\n",
              "        text-align: right;\n",
              "    }\n",
              "</style>\n",
              "<table border=\"1\" class=\"dataframe\">\n",
              "  <thead>\n",
              "    <tr style=\"text-align: right;\">\n",
              "      <th></th>\n",
              "      <th>num_passengers</th>\n",
              "      <th>sales_channel</th>\n",
              "      <th>trip_type</th>\n",
              "      <th>purchase_lead</th>\n",
              "      <th>length_of_stay</th>\n",
              "      <th>flight_hour</th>\n",
              "      <th>flight_day</th>\n",
              "      <th>route</th>\n",
              "      <th>booking_origin</th>\n",
              "      <th>wants_extra_baggage</th>\n",
              "      <th>wants_preferred_seat</th>\n",
              "      <th>wants_in_flight_meals</th>\n",
              "      <th>flight_duration</th>\n",
              "      <th>booking_complete</th>\n",
              "    </tr>\n",
              "  </thead>\n",
              "  <tbody>\n",
              "    <tr>\n",
              "      <th>0</th>\n",
              "      <td>2</td>\n",
              "      <td>Internet</td>\n",
              "      <td>RoundTrip</td>\n",
              "      <td>262</td>\n",
              "      <td>19</td>\n",
              "      <td>7</td>\n",
              "      <td>6</td>\n",
              "      <td>others</td>\n",
              "      <td>New Zealand</td>\n",
              "      <td>1</td>\n",
              "      <td>0</td>\n",
              "      <td>0</td>\n",
              "      <td>5.52</td>\n",
              "      <td>0</td>\n",
              "    </tr>\n",
              "    <tr>\n",
              "      <th>1</th>\n",
              "      <td>1</td>\n",
              "      <td>Internet</td>\n",
              "      <td>RoundTrip</td>\n",
              "      <td>112</td>\n",
              "      <td>20</td>\n",
              "      <td>3</td>\n",
              "      <td>6</td>\n",
              "      <td>others</td>\n",
              "      <td>New Zealand</td>\n",
              "      <td>0</td>\n",
              "      <td>0</td>\n",
              "      <td>0</td>\n",
              "      <td>5.52</td>\n",
              "      <td>0</td>\n",
              "    </tr>\n",
              "    <tr>\n",
              "      <th>2</th>\n",
              "      <td>2</td>\n",
              "      <td>Internet</td>\n",
              "      <td>RoundTrip</td>\n",
              "      <td>243</td>\n",
              "      <td>22</td>\n",
              "      <td>17</td>\n",
              "      <td>3</td>\n",
              "      <td>others</td>\n",
              "      <td>India</td>\n",
              "      <td>1</td>\n",
              "      <td>1</td>\n",
              "      <td>0</td>\n",
              "      <td>5.52</td>\n",
              "      <td>0</td>\n",
              "    </tr>\n",
              "    <tr>\n",
              "      <th>3</th>\n",
              "      <td>1</td>\n",
              "      <td>Internet</td>\n",
              "      <td>RoundTrip</td>\n",
              "      <td>96</td>\n",
              "      <td>31</td>\n",
              "      <td>4</td>\n",
              "      <td>6</td>\n",
              "      <td>others</td>\n",
              "      <td>New Zealand</td>\n",
              "      <td>0</td>\n",
              "      <td>0</td>\n",
              "      <td>1</td>\n",
              "      <td>5.52</td>\n",
              "      <td>0</td>\n",
              "    </tr>\n",
              "    <tr>\n",
              "      <th>4</th>\n",
              "      <td>2</td>\n",
              "      <td>Internet</td>\n",
              "      <td>RoundTrip</td>\n",
              "      <td>68</td>\n",
              "      <td>22</td>\n",
              "      <td>15</td>\n",
              "      <td>3</td>\n",
              "      <td>others</td>\n",
              "      <td>India</td>\n",
              "      <td>1</td>\n",
              "      <td>0</td>\n",
              "      <td>1</td>\n",
              "      <td>5.52</td>\n",
              "      <td>0</td>\n",
              "    </tr>\n",
              "  </tbody>\n",
              "</table>\n",
              "</div>"
            ],
            "text/plain": [
              "   num_passengers sales_channel  trip_type  purchase_lead  length_of_stay  \\\n",
              "0               2      Internet  RoundTrip            262              19   \n",
              "1               1      Internet  RoundTrip            112              20   \n",
              "2               2      Internet  RoundTrip            243              22   \n",
              "3               1      Internet  RoundTrip             96              31   \n",
              "4               2      Internet  RoundTrip             68              22   \n",
              "\n",
              "   flight_hour  flight_day   route booking_origin  wants_extra_baggage  \\\n",
              "0            7           6  others    New Zealand                    1   \n",
              "1            3           6  others    New Zealand                    0   \n",
              "2           17           3  others          India                    1   \n",
              "3            4           6  others    New Zealand                    0   \n",
              "4           15           3  others          India                    1   \n",
              "\n",
              "   wants_preferred_seat  wants_in_flight_meals  flight_duration  \\\n",
              "0                     0                      0             5.52   \n",
              "1                     0                      0             5.52   \n",
              "2                     1                      0             5.52   \n",
              "3                     0                      1             5.52   \n",
              "4                     0                      1             5.52   \n",
              "\n",
              "   booking_complete  \n",
              "0                 0  \n",
              "1                 0  \n",
              "2                 0  \n",
              "3                 0  \n",
              "4                 0  "
            ]
          },
          "execution_count": 69,
          "metadata": {},
          "output_type": "execute_result"
        }
      ],
      "source": [
        "df4.head()"
      ]
    },
    {
      "cell_type": "code",
      "execution_count": 70,
      "metadata": {},
      "outputs": [
        {
          "name": "stdout",
          "output_type": "stream",
          "text": [
            "<class 'pandas.core.frame.DataFrame'>\n",
            "RangeIndex: 50000 entries, 0 to 49999\n",
            "Data columns (total 14 columns):\n",
            " #   Column                 Non-Null Count  Dtype  \n",
            "---  ------                 --------------  -----  \n",
            " 0   num_passengers         50000 non-null  int64  \n",
            " 1   sales_channel          50000 non-null  object \n",
            " 2   trip_type              50000 non-null  object \n",
            " 3   purchase_lead          50000 non-null  int64  \n",
            " 4   length_of_stay         50000 non-null  int64  \n",
            " 5   flight_hour            50000 non-null  int64  \n",
            " 6   flight_day             50000 non-null  int64  \n",
            " 7   route                  50000 non-null  object \n",
            " 8   booking_origin         50000 non-null  object \n",
            " 9   wants_extra_baggage    50000 non-null  int64  \n",
            " 10  wants_preferred_seat   50000 non-null  int64  \n",
            " 11  wants_in_flight_meals  50000 non-null  int64  \n",
            " 12  flight_duration        50000 non-null  float64\n",
            " 13  booking_complete       50000 non-null  int64  \n",
            "dtypes: float64(1), int64(9), object(4)\n",
            "memory usage: 5.3+ MB\n"
          ]
        }
      ],
      "source": [
        "df4.info()"
      ]
    },
    {
      "cell_type": "code",
      "execution_count": 71,
      "metadata": {},
      "outputs": [
        {
          "data": {
            "text/plain": [
              "Index(['num_passengers', 'sales_channel', 'trip_type', 'purchase_lead',\n",
              "       'length_of_stay', 'flight_hour', 'flight_day', 'route',\n",
              "       'booking_origin', 'wants_extra_baggage', 'wants_preferred_seat',\n",
              "       'wants_in_flight_meals', 'flight_duration', 'booking_complete'],\n",
              "      dtype='object')"
            ]
          },
          "execution_count": 71,
          "metadata": {},
          "output_type": "execute_result"
        }
      ],
      "source": [
        "df4.columns"
      ]
    },
    {
      "attachments": {},
      "cell_type": "markdown",
      "metadata": {},
      "source": [
        "## Spliting train test dataset"
      ]
    },
    {
      "cell_type": "code",
      "execution_count": 72,
      "metadata": {},
      "outputs": [],
      "source": [
        "# x is the features and y is the target variable\n",
        "\n",
        "x = df4.drop('booking_complete', axis= 'columns')\n",
        "y = df4['booking_complete']"
      ]
    },
    {
      "cell_type": "code",
      "execution_count": 73,
      "metadata": {},
      "outputs": [
        {
          "data": {
            "text/plain": [
              "0    0\n",
              "1    0\n",
              "2    0\n",
              "3    0\n",
              "4    0\n",
              "Name: booking_complete, dtype: int64"
            ]
          },
          "execution_count": 73,
          "metadata": {},
          "output_type": "execute_result"
        }
      ],
      "source": [
        "y.head()"
      ]
    },
    {
      "cell_type": "code",
      "execution_count": 74,
      "metadata": {},
      "outputs": [
        {
          "data": {
            "text/html": [
              "<div>\n",
              "<style scoped>\n",
              "    .dataframe tbody tr th:only-of-type {\n",
              "        vertical-align: middle;\n",
              "    }\n",
              "\n",
              "    .dataframe tbody tr th {\n",
              "        vertical-align: top;\n",
              "    }\n",
              "\n",
              "    .dataframe thead th {\n",
              "        text-align: right;\n",
              "    }\n",
              "</style>\n",
              "<table border=\"1\" class=\"dataframe\">\n",
              "  <thead>\n",
              "    <tr style=\"text-align: right;\">\n",
              "      <th></th>\n",
              "      <th>num_passengers</th>\n",
              "      <th>sales_channel</th>\n",
              "      <th>trip_type</th>\n",
              "      <th>purchase_lead</th>\n",
              "      <th>length_of_stay</th>\n",
              "      <th>flight_hour</th>\n",
              "      <th>flight_day</th>\n",
              "      <th>route</th>\n",
              "      <th>booking_origin</th>\n",
              "      <th>wants_extra_baggage</th>\n",
              "      <th>wants_preferred_seat</th>\n",
              "      <th>wants_in_flight_meals</th>\n",
              "      <th>flight_duration</th>\n",
              "    </tr>\n",
              "  </thead>\n",
              "  <tbody>\n",
              "    <tr>\n",
              "      <th>0</th>\n",
              "      <td>2</td>\n",
              "      <td>Internet</td>\n",
              "      <td>RoundTrip</td>\n",
              "      <td>262</td>\n",
              "      <td>19</td>\n",
              "      <td>7</td>\n",
              "      <td>6</td>\n",
              "      <td>others</td>\n",
              "      <td>New Zealand</td>\n",
              "      <td>1</td>\n",
              "      <td>0</td>\n",
              "      <td>0</td>\n",
              "      <td>5.52</td>\n",
              "    </tr>\n",
              "    <tr>\n",
              "      <th>1</th>\n",
              "      <td>1</td>\n",
              "      <td>Internet</td>\n",
              "      <td>RoundTrip</td>\n",
              "      <td>112</td>\n",
              "      <td>20</td>\n",
              "      <td>3</td>\n",
              "      <td>6</td>\n",
              "      <td>others</td>\n",
              "      <td>New Zealand</td>\n",
              "      <td>0</td>\n",
              "      <td>0</td>\n",
              "      <td>0</td>\n",
              "      <td>5.52</td>\n",
              "    </tr>\n",
              "    <tr>\n",
              "      <th>2</th>\n",
              "      <td>2</td>\n",
              "      <td>Internet</td>\n",
              "      <td>RoundTrip</td>\n",
              "      <td>243</td>\n",
              "      <td>22</td>\n",
              "      <td>17</td>\n",
              "      <td>3</td>\n",
              "      <td>others</td>\n",
              "      <td>India</td>\n",
              "      <td>1</td>\n",
              "      <td>1</td>\n",
              "      <td>0</td>\n",
              "      <td>5.52</td>\n",
              "    </tr>\n",
              "    <tr>\n",
              "      <th>3</th>\n",
              "      <td>1</td>\n",
              "      <td>Internet</td>\n",
              "      <td>RoundTrip</td>\n",
              "      <td>96</td>\n",
              "      <td>31</td>\n",
              "      <td>4</td>\n",
              "      <td>6</td>\n",
              "      <td>others</td>\n",
              "      <td>New Zealand</td>\n",
              "      <td>0</td>\n",
              "      <td>0</td>\n",
              "      <td>1</td>\n",
              "      <td>5.52</td>\n",
              "    </tr>\n",
              "    <tr>\n",
              "      <th>4</th>\n",
              "      <td>2</td>\n",
              "      <td>Internet</td>\n",
              "      <td>RoundTrip</td>\n",
              "      <td>68</td>\n",
              "      <td>22</td>\n",
              "      <td>15</td>\n",
              "      <td>3</td>\n",
              "      <td>others</td>\n",
              "      <td>India</td>\n",
              "      <td>1</td>\n",
              "      <td>0</td>\n",
              "      <td>1</td>\n",
              "      <td>5.52</td>\n",
              "    </tr>\n",
              "  </tbody>\n",
              "</table>\n",
              "</div>"
            ],
            "text/plain": [
              "   num_passengers sales_channel  trip_type  purchase_lead  length_of_stay  \\\n",
              "0               2      Internet  RoundTrip            262              19   \n",
              "1               1      Internet  RoundTrip            112              20   \n",
              "2               2      Internet  RoundTrip            243              22   \n",
              "3               1      Internet  RoundTrip             96              31   \n",
              "4               2      Internet  RoundTrip             68              22   \n",
              "\n",
              "   flight_hour  flight_day   route booking_origin  wants_extra_baggage  \\\n",
              "0            7           6  others    New Zealand                    1   \n",
              "1            3           6  others    New Zealand                    0   \n",
              "2           17           3  others          India                    1   \n",
              "3            4           6  others    New Zealand                    0   \n",
              "4           15           3  others          India                    1   \n",
              "\n",
              "   wants_preferred_seat  wants_in_flight_meals  flight_duration  \n",
              "0                     0                      0             5.52  \n",
              "1                     0                      0             5.52  \n",
              "2                     1                      0             5.52  \n",
              "3                     0                      1             5.52  \n",
              "4                     0                      1             5.52  "
            ]
          },
          "execution_count": 74,
          "metadata": {},
          "output_type": "execute_result"
        }
      ],
      "source": [
        "x.head()"
      ]
    },
    {
      "attachments": {},
      "cell_type": "markdown",
      "metadata": {},
      "source": [
        "### Random spliting"
      ]
    },
    {
      "cell_type": "code",
      "execution_count": 75,
      "metadata": {},
      "outputs": [],
      "source": [
        "# random spliting\n",
        "from sklearn.model_selection import train_test_split \n",
        "x_train, x_test, y_train, y_test = train_test_split(x,y,test_size=0.18, train_size=0.8, random_state=42)"
      ]
    },
    {
      "cell_type": "code",
      "execution_count": 76,
      "metadata": {},
      "outputs": [
        {
          "data": {
            "text/html": [
              "<div>\n",
              "<style scoped>\n",
              "    .dataframe tbody tr th:only-of-type {\n",
              "        vertical-align: middle;\n",
              "    }\n",
              "\n",
              "    .dataframe tbody tr th {\n",
              "        vertical-align: top;\n",
              "    }\n",
              "\n",
              "    .dataframe thead th {\n",
              "        text-align: right;\n",
              "    }\n",
              "</style>\n",
              "<table border=\"1\" class=\"dataframe\">\n",
              "  <thead>\n",
              "    <tr style=\"text-align: right;\">\n",
              "      <th></th>\n",
              "      <th>num_passengers</th>\n",
              "      <th>sales_channel</th>\n",
              "      <th>trip_type</th>\n",
              "      <th>purchase_lead</th>\n",
              "      <th>length_of_stay</th>\n",
              "      <th>flight_hour</th>\n",
              "      <th>flight_day</th>\n",
              "      <th>route</th>\n",
              "      <th>booking_origin</th>\n",
              "      <th>wants_extra_baggage</th>\n",
              "      <th>wants_preferred_seat</th>\n",
              "      <th>wants_in_flight_meals</th>\n",
              "      <th>flight_duration</th>\n",
              "    </tr>\n",
              "  </thead>\n",
              "  <tbody>\n",
              "    <tr>\n",
              "      <th>3277</th>\n",
              "      <td>1</td>\n",
              "      <td>Internet</td>\n",
              "      <td>RoundTrip</td>\n",
              "      <td>169</td>\n",
              "      <td>22</td>\n",
              "      <td>1</td>\n",
              "      <td>2</td>\n",
              "      <td>CCUMEL</td>\n",
              "      <td>Australia</td>\n",
              "      <td>1</td>\n",
              "      <td>0</td>\n",
              "      <td>0</td>\n",
              "      <td>8.83</td>\n",
              "    </tr>\n",
              "    <tr>\n",
              "      <th>31411</th>\n",
              "      <td>1</td>\n",
              "      <td>Internet</td>\n",
              "      <td>RoundTrip</td>\n",
              "      <td>105</td>\n",
              "      <td>4</td>\n",
              "      <td>17</td>\n",
              "      <td>4</td>\n",
              "      <td>DPSKIX</td>\n",
              "      <td>Australia</td>\n",
              "      <td>1</td>\n",
              "      <td>0</td>\n",
              "      <td>1</td>\n",
              "      <td>7.00</td>\n",
              "    </tr>\n",
              "    <tr>\n",
              "      <th>29512</th>\n",
              "      <td>4</td>\n",
              "      <td>Internet</td>\n",
              "      <td>RoundTrip</td>\n",
              "      <td>28</td>\n",
              "      <td>4</td>\n",
              "      <td>6</td>\n",
              "      <td>3</td>\n",
              "      <td>BKIICN</td>\n",
              "      <td>South Korea</td>\n",
              "      <td>1</td>\n",
              "      <td>0</td>\n",
              "      <td>1</td>\n",
              "      <td>6.62</td>\n",
              "    </tr>\n",
              "    <tr>\n",
              "      <th>14889</th>\n",
              "      <td>2</td>\n",
              "      <td>Internet</td>\n",
              "      <td>RoundTrip</td>\n",
              "      <td>62</td>\n",
              "      <td>91</td>\n",
              "      <td>13</td>\n",
              "      <td>5</td>\n",
              "      <td>IKAOOL</td>\n",
              "      <td>Australia</td>\n",
              "      <td>1</td>\n",
              "      <td>0</td>\n",
              "      <td>1</td>\n",
              "      <td>8.83</td>\n",
              "    </tr>\n",
              "    <tr>\n",
              "      <th>31593</th>\n",
              "      <td>2</td>\n",
              "      <td>Internet</td>\n",
              "      <td>RoundTrip</td>\n",
              "      <td>128</td>\n",
              "      <td>4</td>\n",
              "      <td>4</td>\n",
              "      <td>1</td>\n",
              "      <td>DPSTPE</td>\n",
              "      <td>United States</td>\n",
              "      <td>0</td>\n",
              "      <td>0</td>\n",
              "      <td>0</td>\n",
              "      <td>4.67</td>\n",
              "    </tr>\n",
              "    <tr>\n",
              "      <th>...</th>\n",
              "      <td>...</td>\n",
              "      <td>...</td>\n",
              "      <td>...</td>\n",
              "      <td>...</td>\n",
              "      <td>...</td>\n",
              "      <td>...</td>\n",
              "      <td>...</td>\n",
              "      <td>...</td>\n",
              "      <td>...</td>\n",
              "      <td>...</td>\n",
              "      <td>...</td>\n",
              "      <td>...</td>\n",
              "      <td>...</td>\n",
              "    </tr>\n",
              "    <tr>\n",
              "      <th>11613</th>\n",
              "      <td>1</td>\n",
              "      <td>Internet</td>\n",
              "      <td>RoundTrip</td>\n",
              "      <td>31</td>\n",
              "      <td>34</td>\n",
              "      <td>8</td>\n",
              "      <td>1</td>\n",
              "      <td>HKGPER</td>\n",
              "      <td>Australia</td>\n",
              "      <td>1</td>\n",
              "      <td>0</td>\n",
              "      <td>0</td>\n",
              "      <td>5.62</td>\n",
              "    </tr>\n",
              "    <tr>\n",
              "      <th>27139</th>\n",
              "      <td>1</td>\n",
              "      <td>Internet</td>\n",
              "      <td>RoundTrip</td>\n",
              "      <td>114</td>\n",
              "      <td>3</td>\n",
              "      <td>9</td>\n",
              "      <td>3</td>\n",
              "      <td>DMKKIX</td>\n",
              "      <td>Japan</td>\n",
              "      <td>0</td>\n",
              "      <td>1</td>\n",
              "      <td>0</td>\n",
              "      <td>7.00</td>\n",
              "    </tr>\n",
              "    <tr>\n",
              "      <th>6767</th>\n",
              "      <td>1</td>\n",
              "      <td>Internet</td>\n",
              "      <td>RoundTrip</td>\n",
              "      <td>56</td>\n",
              "      <td>32</td>\n",
              "      <td>6</td>\n",
              "      <td>4</td>\n",
              "      <td>COKPER</td>\n",
              "      <td>Australia</td>\n",
              "      <td>1</td>\n",
              "      <td>1</td>\n",
              "      <td>1</td>\n",
              "      <td>5.62</td>\n",
              "    </tr>\n",
              "    <tr>\n",
              "      <th>5622</th>\n",
              "      <td>1</td>\n",
              "      <td>Internet</td>\n",
              "      <td>RoundTrip</td>\n",
              "      <td>36</td>\n",
              "      <td>88</td>\n",
              "      <td>2</td>\n",
              "      <td>5</td>\n",
              "      <td>others</td>\n",
              "      <td>Thailand</td>\n",
              "      <td>1</td>\n",
              "      <td>0</td>\n",
              "      <td>1</td>\n",
              "      <td>7.57</td>\n",
              "    </tr>\n",
              "    <tr>\n",
              "      <th>1605</th>\n",
              "      <td>1</td>\n",
              "      <td>Internet</td>\n",
              "      <td>RoundTrip</td>\n",
              "      <td>8</td>\n",
              "      <td>19</td>\n",
              "      <td>13</td>\n",
              "      <td>2</td>\n",
              "      <td>AKLKUL</td>\n",
              "      <td>Malaysia</td>\n",
              "      <td>1</td>\n",
              "      <td>0</td>\n",
              "      <td>1</td>\n",
              "      <td>8.83</td>\n",
              "    </tr>\n",
              "  </tbody>\n",
              "</table>\n",
              "<p>40000 rows × 13 columns</p>\n",
              "</div>"
            ],
            "text/plain": [
              "       num_passengers sales_channel  trip_type  purchase_lead  length_of_stay  \\\n",
              "3277                1      Internet  RoundTrip            169              22   \n",
              "31411               1      Internet  RoundTrip            105               4   \n",
              "29512               4      Internet  RoundTrip             28               4   \n",
              "14889               2      Internet  RoundTrip             62              91   \n",
              "31593               2      Internet  RoundTrip            128               4   \n",
              "...               ...           ...        ...            ...             ...   \n",
              "11613               1      Internet  RoundTrip             31              34   \n",
              "27139               1      Internet  RoundTrip            114               3   \n",
              "6767                1      Internet  RoundTrip             56              32   \n",
              "5622                1      Internet  RoundTrip             36              88   \n",
              "1605                1      Internet  RoundTrip              8              19   \n",
              "\n",
              "       flight_hour  flight_day   route booking_origin  wants_extra_baggage  \\\n",
              "3277             1           2  CCUMEL      Australia                    1   \n",
              "31411           17           4  DPSKIX      Australia                    1   \n",
              "29512            6           3  BKIICN    South Korea                    1   \n",
              "14889           13           5  IKAOOL      Australia                    1   \n",
              "31593            4           1  DPSTPE  United States                    0   \n",
              "...            ...         ...     ...            ...                  ...   \n",
              "11613            8           1  HKGPER      Australia                    1   \n",
              "27139            9           3  DMKKIX          Japan                    0   \n",
              "6767             6           4  COKPER      Australia                    1   \n",
              "5622             2           5  others       Thailand                    1   \n",
              "1605            13           2  AKLKUL       Malaysia                    1   \n",
              "\n",
              "       wants_preferred_seat  wants_in_flight_meals  flight_duration  \n",
              "3277                      0                      0             8.83  \n",
              "31411                     0                      1             7.00  \n",
              "29512                     0                      1             6.62  \n",
              "14889                     0                      1             8.83  \n",
              "31593                     0                      0             4.67  \n",
              "...                     ...                    ...              ...  \n",
              "11613                     0                      0             5.62  \n",
              "27139                     1                      0             7.00  \n",
              "6767                      1                      1             5.62  \n",
              "5622                      0                      1             7.57  \n",
              "1605                      0                      1             8.83  \n",
              "\n",
              "[40000 rows x 13 columns]"
            ]
          },
          "execution_count": 76,
          "metadata": {},
          "output_type": "execute_result"
        }
      ],
      "source": [
        "x_train"
      ]
    },
    {
      "cell_type": "code",
      "execution_count": 77,
      "metadata": {},
      "outputs": [
        {
          "data": {
            "text/html": [
              "<div>\n",
              "<style scoped>\n",
              "    .dataframe tbody tr th:only-of-type {\n",
              "        vertical-align: middle;\n",
              "    }\n",
              "\n",
              "    .dataframe tbody tr th {\n",
              "        vertical-align: top;\n",
              "    }\n",
              "\n",
              "    .dataframe thead th {\n",
              "        text-align: right;\n",
              "    }\n",
              "</style>\n",
              "<table border=\"1\" class=\"dataframe\">\n",
              "  <thead>\n",
              "    <tr style=\"text-align: right;\">\n",
              "      <th></th>\n",
              "      <th>num_passengers</th>\n",
              "      <th>sales_channel</th>\n",
              "      <th>trip_type</th>\n",
              "      <th>purchase_lead</th>\n",
              "      <th>length_of_stay</th>\n",
              "      <th>flight_hour</th>\n",
              "      <th>flight_day</th>\n",
              "      <th>route</th>\n",
              "      <th>booking_origin</th>\n",
              "      <th>wants_extra_baggage</th>\n",
              "      <th>wants_preferred_seat</th>\n",
              "      <th>wants_in_flight_meals</th>\n",
              "      <th>flight_duration</th>\n",
              "    </tr>\n",
              "  </thead>\n",
              "  <tbody>\n",
              "    <tr>\n",
              "      <th>3277</th>\n",
              "      <td>1</td>\n",
              "      <td>Internet</td>\n",
              "      <td>RoundTrip</td>\n",
              "      <td>169</td>\n",
              "      <td>22</td>\n",
              "      <td>1</td>\n",
              "      <td>2</td>\n",
              "      <td>CCUMEL</td>\n",
              "      <td>Australia</td>\n",
              "      <td>1</td>\n",
              "      <td>0</td>\n",
              "      <td>0</td>\n",
              "      <td>8.83</td>\n",
              "    </tr>\n",
              "    <tr>\n",
              "      <th>31411</th>\n",
              "      <td>1</td>\n",
              "      <td>Internet</td>\n",
              "      <td>RoundTrip</td>\n",
              "      <td>105</td>\n",
              "      <td>4</td>\n",
              "      <td>17</td>\n",
              "      <td>4</td>\n",
              "      <td>DPSKIX</td>\n",
              "      <td>Australia</td>\n",
              "      <td>1</td>\n",
              "      <td>0</td>\n",
              "      <td>1</td>\n",
              "      <td>7.00</td>\n",
              "    </tr>\n",
              "    <tr>\n",
              "      <th>29512</th>\n",
              "      <td>4</td>\n",
              "      <td>Internet</td>\n",
              "      <td>RoundTrip</td>\n",
              "      <td>28</td>\n",
              "      <td>4</td>\n",
              "      <td>6</td>\n",
              "      <td>3</td>\n",
              "      <td>BKIICN</td>\n",
              "      <td>South Korea</td>\n",
              "      <td>1</td>\n",
              "      <td>0</td>\n",
              "      <td>1</td>\n",
              "      <td>6.62</td>\n",
              "    </tr>\n",
              "    <tr>\n",
              "      <th>14889</th>\n",
              "      <td>2</td>\n",
              "      <td>Internet</td>\n",
              "      <td>RoundTrip</td>\n",
              "      <td>62</td>\n",
              "      <td>91</td>\n",
              "      <td>13</td>\n",
              "      <td>5</td>\n",
              "      <td>IKAOOL</td>\n",
              "      <td>Australia</td>\n",
              "      <td>1</td>\n",
              "      <td>0</td>\n",
              "      <td>1</td>\n",
              "      <td>8.83</td>\n",
              "    </tr>\n",
              "    <tr>\n",
              "      <th>31593</th>\n",
              "      <td>2</td>\n",
              "      <td>Internet</td>\n",
              "      <td>RoundTrip</td>\n",
              "      <td>128</td>\n",
              "      <td>4</td>\n",
              "      <td>4</td>\n",
              "      <td>1</td>\n",
              "      <td>DPSTPE</td>\n",
              "      <td>United States</td>\n",
              "      <td>0</td>\n",
              "      <td>0</td>\n",
              "      <td>0</td>\n",
              "      <td>4.67</td>\n",
              "    </tr>\n",
              "    <tr>\n",
              "      <th>...</th>\n",
              "      <td>...</td>\n",
              "      <td>...</td>\n",
              "      <td>...</td>\n",
              "      <td>...</td>\n",
              "      <td>...</td>\n",
              "      <td>...</td>\n",
              "      <td>...</td>\n",
              "      <td>...</td>\n",
              "      <td>...</td>\n",
              "      <td>...</td>\n",
              "      <td>...</td>\n",
              "      <td>...</td>\n",
              "      <td>...</td>\n",
              "    </tr>\n",
              "    <tr>\n",
              "      <th>11613</th>\n",
              "      <td>1</td>\n",
              "      <td>Internet</td>\n",
              "      <td>RoundTrip</td>\n",
              "      <td>31</td>\n",
              "      <td>34</td>\n",
              "      <td>8</td>\n",
              "      <td>1</td>\n",
              "      <td>HKGPER</td>\n",
              "      <td>Australia</td>\n",
              "      <td>1</td>\n",
              "      <td>0</td>\n",
              "      <td>0</td>\n",
              "      <td>5.62</td>\n",
              "    </tr>\n",
              "    <tr>\n",
              "      <th>27139</th>\n",
              "      <td>1</td>\n",
              "      <td>Internet</td>\n",
              "      <td>RoundTrip</td>\n",
              "      <td>114</td>\n",
              "      <td>3</td>\n",
              "      <td>9</td>\n",
              "      <td>3</td>\n",
              "      <td>DMKKIX</td>\n",
              "      <td>Japan</td>\n",
              "      <td>0</td>\n",
              "      <td>1</td>\n",
              "      <td>0</td>\n",
              "      <td>7.00</td>\n",
              "    </tr>\n",
              "    <tr>\n",
              "      <th>6767</th>\n",
              "      <td>1</td>\n",
              "      <td>Internet</td>\n",
              "      <td>RoundTrip</td>\n",
              "      <td>56</td>\n",
              "      <td>32</td>\n",
              "      <td>6</td>\n",
              "      <td>4</td>\n",
              "      <td>COKPER</td>\n",
              "      <td>Australia</td>\n",
              "      <td>1</td>\n",
              "      <td>1</td>\n",
              "      <td>1</td>\n",
              "      <td>5.62</td>\n",
              "    </tr>\n",
              "    <tr>\n",
              "      <th>5622</th>\n",
              "      <td>1</td>\n",
              "      <td>Internet</td>\n",
              "      <td>RoundTrip</td>\n",
              "      <td>36</td>\n",
              "      <td>88</td>\n",
              "      <td>2</td>\n",
              "      <td>5</td>\n",
              "      <td>others</td>\n",
              "      <td>Thailand</td>\n",
              "      <td>1</td>\n",
              "      <td>0</td>\n",
              "      <td>1</td>\n",
              "      <td>7.57</td>\n",
              "    </tr>\n",
              "    <tr>\n",
              "      <th>1605</th>\n",
              "      <td>1</td>\n",
              "      <td>Internet</td>\n",
              "      <td>RoundTrip</td>\n",
              "      <td>8</td>\n",
              "      <td>19</td>\n",
              "      <td>13</td>\n",
              "      <td>2</td>\n",
              "      <td>AKLKUL</td>\n",
              "      <td>Malaysia</td>\n",
              "      <td>1</td>\n",
              "      <td>0</td>\n",
              "      <td>1</td>\n",
              "      <td>8.83</td>\n",
              "    </tr>\n",
              "  </tbody>\n",
              "</table>\n",
              "<p>40000 rows × 13 columns</p>\n",
              "</div>"
            ],
            "text/plain": [
              "       num_passengers sales_channel  trip_type  purchase_lead  length_of_stay  \\\n",
              "3277                1      Internet  RoundTrip            169              22   \n",
              "31411               1      Internet  RoundTrip            105               4   \n",
              "29512               4      Internet  RoundTrip             28               4   \n",
              "14889               2      Internet  RoundTrip             62              91   \n",
              "31593               2      Internet  RoundTrip            128               4   \n",
              "...               ...           ...        ...            ...             ...   \n",
              "11613               1      Internet  RoundTrip             31              34   \n",
              "27139               1      Internet  RoundTrip            114               3   \n",
              "6767                1      Internet  RoundTrip             56              32   \n",
              "5622                1      Internet  RoundTrip             36              88   \n",
              "1605                1      Internet  RoundTrip              8              19   \n",
              "\n",
              "       flight_hour  flight_day   route booking_origin  wants_extra_baggage  \\\n",
              "3277             1           2  CCUMEL      Australia                    1   \n",
              "31411           17           4  DPSKIX      Australia                    1   \n",
              "29512            6           3  BKIICN    South Korea                    1   \n",
              "14889           13           5  IKAOOL      Australia                    1   \n",
              "31593            4           1  DPSTPE  United States                    0   \n",
              "...            ...         ...     ...            ...                  ...   \n",
              "11613            8           1  HKGPER      Australia                    1   \n",
              "27139            9           3  DMKKIX          Japan                    0   \n",
              "6767             6           4  COKPER      Australia                    1   \n",
              "5622             2           5  others       Thailand                    1   \n",
              "1605            13           2  AKLKUL       Malaysia                    1   \n",
              "\n",
              "       wants_preferred_seat  wants_in_flight_meals  flight_duration  \n",
              "3277                      0                      0             8.83  \n",
              "31411                     0                      1             7.00  \n",
              "29512                     0                      1             6.62  \n",
              "14889                     0                      1             8.83  \n",
              "31593                     0                      0             4.67  \n",
              "...                     ...                    ...              ...  \n",
              "11613                     0                      0             5.62  \n",
              "27139                     1                      0             7.00  \n",
              "6767                      1                      1             5.62  \n",
              "5622                      0                      1             7.57  \n",
              "1605                      0                      1             8.83  \n",
              "\n",
              "[40000 rows x 13 columns]"
            ]
          },
          "execution_count": 77,
          "metadata": {},
          "output_type": "execute_result"
        }
      ],
      "source": [
        "x_train"
      ]
    },
    {
      "attachments": {},
      "cell_type": "markdown",
      "metadata": {},
      "source": [
        "### Stratifeid sampling Spliting"
      ]
    },
    {
      "cell_type": "code",
      "execution_count": 78,
      "metadata": {},
      "outputs": [],
      "source": [
        "# Using Stratifeid sampling based on booking origin\n",
        "\n",
        "from sklearn.model_selection import StratifiedShuffleSplit\n",
        "\n",
        "split = StratifiedShuffleSplit(n_splits=1, test_size=0.18,train_size=0.8, random_state= 42)\n",
        "for train_index , test_index in split.split(df4,df4['booking_origin']):\n",
        "    strian_set = df4.loc[train_index]\n",
        "    stest_set = df4.loc[test_index]"
      ]
    },
    {
      "cell_type": "code",
      "execution_count": 79,
      "metadata": {},
      "outputs": [
        {
          "data": {
            "text/html": [
              "<div>\n",
              "<style scoped>\n",
              "    .dataframe tbody tr th:only-of-type {\n",
              "        vertical-align: middle;\n",
              "    }\n",
              "\n",
              "    .dataframe tbody tr th {\n",
              "        vertical-align: top;\n",
              "    }\n",
              "\n",
              "    .dataframe thead th {\n",
              "        text-align: right;\n",
              "    }\n",
              "</style>\n",
              "<table border=\"1\" class=\"dataframe\">\n",
              "  <thead>\n",
              "    <tr style=\"text-align: right;\">\n",
              "      <th></th>\n",
              "      <th>num_passengers</th>\n",
              "      <th>sales_channel</th>\n",
              "      <th>trip_type</th>\n",
              "      <th>purchase_lead</th>\n",
              "      <th>length_of_stay</th>\n",
              "      <th>flight_hour</th>\n",
              "      <th>flight_day</th>\n",
              "      <th>route</th>\n",
              "      <th>booking_origin</th>\n",
              "      <th>wants_extra_baggage</th>\n",
              "      <th>wants_preferred_seat</th>\n",
              "      <th>wants_in_flight_meals</th>\n",
              "      <th>flight_duration</th>\n",
              "      <th>booking_complete</th>\n",
              "    </tr>\n",
              "  </thead>\n",
              "  <tbody>\n",
              "    <tr>\n",
              "      <th>5764</th>\n",
              "      <td>1</td>\n",
              "      <td>Internet</td>\n",
              "      <td>RoundTrip</td>\n",
              "      <td>403</td>\n",
              "      <td>20</td>\n",
              "      <td>0</td>\n",
              "      <td>4</td>\n",
              "      <td>CNXOOL</td>\n",
              "      <td>Australia</td>\n",
              "      <td>1</td>\n",
              "      <td>0</td>\n",
              "      <td>0</td>\n",
              "      <td>8.83</td>\n",
              "      <td>0</td>\n",
              "    </tr>\n",
              "    <tr>\n",
              "      <th>49953</th>\n",
              "      <td>8</td>\n",
              "      <td>Internet</td>\n",
              "      <td>RoundTrip</td>\n",
              "      <td>328</td>\n",
              "      <td>6</td>\n",
              "      <td>17</td>\n",
              "      <td>6</td>\n",
              "      <td>PENTPE</td>\n",
              "      <td>Malaysia</td>\n",
              "      <td>1</td>\n",
              "      <td>1</td>\n",
              "      <td>1</td>\n",
              "      <td>4.67</td>\n",
              "      <td>1</td>\n",
              "    </tr>\n",
              "    <tr>\n",
              "      <th>7569</th>\n",
              "      <td>1</td>\n",
              "      <td>Internet</td>\n",
              "      <td>RoundTrip</td>\n",
              "      <td>22</td>\n",
              "      <td>28</td>\n",
              "      <td>5</td>\n",
              "      <td>1</td>\n",
              "      <td>others</td>\n",
              "      <td>China</td>\n",
              "      <td>0</td>\n",
              "      <td>0</td>\n",
              "      <td>0</td>\n",
              "      <td>4.72</td>\n",
              "      <td>0</td>\n",
              "    </tr>\n",
              "    <tr>\n",
              "      <th>27906</th>\n",
              "      <td>1</td>\n",
              "      <td>Internet</td>\n",
              "      <td>RoundTrip</td>\n",
              "      <td>397</td>\n",
              "      <td>3</td>\n",
              "      <td>15</td>\n",
              "      <td>7</td>\n",
              "      <td>HNDSIN</td>\n",
              "      <td>Japan</td>\n",
              "      <td>0</td>\n",
              "      <td>0</td>\n",
              "      <td>0</td>\n",
              "      <td>7.57</td>\n",
              "      <td>0</td>\n",
              "    </tr>\n",
              "    <tr>\n",
              "      <th>10898</th>\n",
              "      <td>1</td>\n",
              "      <td>Mobile</td>\n",
              "      <td>RoundTrip</td>\n",
              "      <td>353</td>\n",
              "      <td>20</td>\n",
              "      <td>10</td>\n",
              "      <td>7</td>\n",
              "      <td>DPSPEK</td>\n",
              "      <td>China</td>\n",
              "      <td>0</td>\n",
              "      <td>0</td>\n",
              "      <td>0</td>\n",
              "      <td>6.42</td>\n",
              "      <td>0</td>\n",
              "    </tr>\n",
              "  </tbody>\n",
              "</table>\n",
              "</div>"
            ],
            "text/plain": [
              "       num_passengers sales_channel  trip_type  purchase_lead  length_of_stay  \\\n",
              "5764                1      Internet  RoundTrip            403              20   \n",
              "49953               8      Internet  RoundTrip            328               6   \n",
              "7569                1      Internet  RoundTrip             22              28   \n",
              "27906               1      Internet  RoundTrip            397               3   \n",
              "10898               1        Mobile  RoundTrip            353              20   \n",
              "\n",
              "       flight_hour  flight_day   route booking_origin  wants_extra_baggage  \\\n",
              "5764             0           4  CNXOOL      Australia                    1   \n",
              "49953           17           6  PENTPE       Malaysia                    1   \n",
              "7569             5           1  others          China                    0   \n",
              "27906           15           7  HNDSIN          Japan                    0   \n",
              "10898           10           7  DPSPEK          China                    0   \n",
              "\n",
              "       wants_preferred_seat  wants_in_flight_meals  flight_duration  \\\n",
              "5764                      0                      0             8.83   \n",
              "49953                     1                      1             4.67   \n",
              "7569                      0                      0             4.72   \n",
              "27906                     0                      0             7.57   \n",
              "10898                     0                      0             6.42   \n",
              "\n",
              "       booking_complete  \n",
              "5764                  0  \n",
              "49953                 1  \n",
              "7569                  0  \n",
              "27906                 0  \n",
              "10898                 0  "
            ]
          },
          "execution_count": 79,
          "metadata": {},
          "output_type": "execute_result"
        }
      ],
      "source": [
        "strian_set.head()"
      ]
    },
    {
      "cell_type": "code",
      "execution_count": 80,
      "metadata": {},
      "outputs": [],
      "source": [
        "\n",
        "\n",
        "strain_x = strian_set.drop('booking_complete', axis= 'columns')\n",
        "strain_y = strian_set['booking_complete']\n",
        "\n",
        "stest_x = stest_set.drop('booking_complete', axis= 'columns')\n",
        "stest_y = stest_set['booking_complete']"
      ]
    },
    {
      "attachments": {},
      "cell_type": "markdown",
      "metadata": {},
      "source": [
        "# Feature Scaling"
      ]
    },
    {
      "cell_type": "code",
      "execution_count": 81,
      "metadata": {},
      "outputs": [],
      "source": [
        "cat_attribs = ['route','booking_origin','sales_channel', 'trip_type' ]\n",
        "#label_attribs = []\n",
        "num_attribs = ['num_passengers', 'purchase_lead',\n",
        "                'length_of_stay','flight_hour', 'flight_day',\n",
        "                'wants_extra_baggage', 'wants_preferred_seat',\n",
        "                'wants_in_flight_meals', 'flight_duration']\n",
        "\n"
      ]
    },
    {
      "cell_type": "code",
      "execution_count": 82,
      "metadata": {},
      "outputs": [
        {
          "data": {
            "text/plain": [
              "\"numeric_features = x_train.select_dtypes('number').columns\\ncategorical_features = x_train.select_dtypes('object').columns\""
            ]
          },
          "execution_count": 82,
          "metadata": {},
          "output_type": "execute_result"
        }
      ],
      "source": [
        "# Instead of writing out the full list above, we could use these pandas methods:\n",
        "'''numeric_features = x_train.select_dtypes('number').columns\n",
        "categorical_features = x_train.select_dtypes('object').columns'''"
      ]
    },
    {
      "cell_type": "code",
      "execution_count": 83,
      "metadata": {},
      "outputs": [],
      "source": [
        "#making pipline\n",
        "numeric_transformer = Pipeline(\n",
        "    steps=[#(\"imputer\", SimpleImputer(strategy=\"median\")), \n",
        "           (\"scaler\", StandardScaler())]\n",
        ")\n",
        "\n",
        "categorical_transformer = Pipeline(\n",
        "    steps=[#(\"imputer\", SimpleImputer(strategy=\"constant\", fill_value=\"missing\")),\n",
        "           (\"onehot\", OneHotEncoder(handle_unknown=\"ignore\",sparse_output=False))]\n",
        ")\n",
        "\n",
        "col_transformer = ColumnTransformer(\n",
        "    transformers=[\n",
        "        (\"numeric\", numeric_transformer, num_attribs),\n",
        "        (\"categorical\", categorical_transformer, cat_attribs)\n",
        "    ], \n",
        "    remainder='passthrough'    \n",
        ")"
      ]
    },
    {
      "cell_type": "code",
      "execution_count": 84,
      "metadata": {},
      "outputs": [],
      "source": [
        "# train and tranform the  columns to encoding an scaling\n",
        "strain_x_pp= col_transformer.fit_transform(strain_x)\n",
        "x_train_pp = col_transformer.fit_transform(x_train)"
      ]
    },
    {
      "cell_type": "code",
      "execution_count": 85,
      "metadata": {},
      "outputs": [],
      "source": [
        "#Onehot column name for dataframe\n",
        "onehot_cols = (\n",
        "    col_transformer\n",
        "    .named_transformers_[\"categorical\"]\n",
        "    .named_steps[\"onehot\"]\n",
        "    .get_feature_names_out(cat_attribs)\n",
        ")\n",
        "columns = num_attribs + onehot_cols.tolist()"
      ]
    },
    {
      "cell_type": "code",
      "execution_count": 86,
      "metadata": {},
      "outputs": [],
      "source": [
        "# converted to dataframe\n",
        "strain_x_pd = pd.DataFrame(strain_x_pp, columns=columns)\n",
        "x_train_pd = pd.DataFrame(x_train_pp, columns=columns)"
      ]
    },
    {
      "cell_type": "code",
      "execution_count": 87,
      "metadata": {},
      "outputs": [
        {
          "data": {
            "text/html": [
              "<div>\n",
              "<style scoped>\n",
              "    .dataframe tbody tr th:only-of-type {\n",
              "        vertical-align: middle;\n",
              "    }\n",
              "\n",
              "    .dataframe tbody tr th {\n",
              "        vertical-align: top;\n",
              "    }\n",
              "\n",
              "    .dataframe thead th {\n",
              "        text-align: right;\n",
              "    }\n",
              "</style>\n",
              "<table border=\"1\" class=\"dataframe\">\n",
              "  <thead>\n",
              "    <tr style=\"text-align: right;\">\n",
              "      <th></th>\n",
              "      <th>num_passengers</th>\n",
              "      <th>purchase_lead</th>\n",
              "      <th>length_of_stay</th>\n",
              "      <th>flight_hour</th>\n",
              "      <th>flight_day</th>\n",
              "      <th>wants_extra_baggage</th>\n",
              "      <th>wants_preferred_seat</th>\n",
              "      <th>wants_in_flight_meals</th>\n",
              "      <th>flight_duration</th>\n",
              "      <th>route_AKLICN</th>\n",
              "      <th>...</th>\n",
              "      <th>booking_origin_Thailand</th>\n",
              "      <th>booking_origin_United Kingdom</th>\n",
              "      <th>booking_origin_United States</th>\n",
              "      <th>booking_origin_Vietnam</th>\n",
              "      <th>booking_origin_others</th>\n",
              "      <th>sales_channel_Internet</th>\n",
              "      <th>sales_channel_Mobile</th>\n",
              "      <th>trip_type_CircleTrip</th>\n",
              "      <th>trip_type_OneWay</th>\n",
              "      <th>trip_type_RoundTrip</th>\n",
              "    </tr>\n",
              "  </thead>\n",
              "  <tbody>\n",
              "    <tr>\n",
              "      <th>0</th>\n",
              "      <td>-0.580297</td>\n",
              "      <td>3.518241</td>\n",
              "      <td>-0.089668</td>\n",
              "      <td>-1.675833</td>\n",
              "      <td>0.090174</td>\n",
              "      <td>0.702167</td>\n",
              "      <td>-0.650059</td>\n",
              "      <td>-0.864927</td>\n",
              "      <td>1.035742</td>\n",
              "      <td>0.0</td>\n",
              "      <td>...</td>\n",
              "      <td>0.0</td>\n",
              "      <td>0.0</td>\n",
              "      <td>0.0</td>\n",
              "      <td>0.0</td>\n",
              "      <td>0.0</td>\n",
              "      <td>1.0</td>\n",
              "      <td>0.0</td>\n",
              "      <td>0.0</td>\n",
              "      <td>0.0</td>\n",
              "      <td>1.0</td>\n",
              "    </tr>\n",
              "    <tr>\n",
              "      <th>1</th>\n",
              "      <td>6.301959</td>\n",
              "      <td>2.689041</td>\n",
              "      <td>-0.507132</td>\n",
              "      <td>1.466706</td>\n",
              "      <td>1.093646</td>\n",
              "      <td>0.702167</td>\n",
              "      <td>1.538323</td>\n",
              "      <td>1.156167</td>\n",
              "      <td>-1.742747</td>\n",
              "      <td>0.0</td>\n",
              "      <td>...</td>\n",
              "      <td>0.0</td>\n",
              "      <td>0.0</td>\n",
              "      <td>0.0</td>\n",
              "      <td>0.0</td>\n",
              "      <td>0.0</td>\n",
              "      <td>1.0</td>\n",
              "      <td>0.0</td>\n",
              "      <td>0.0</td>\n",
              "      <td>0.0</td>\n",
              "      <td>1.0</td>\n",
              "    </tr>\n",
              "    <tr>\n",
              "      <th>2</th>\n",
              "      <td>-0.580297</td>\n",
              "      <td>-0.694096</td>\n",
              "      <td>0.148884</td>\n",
              "      <td>-0.751557</td>\n",
              "      <td>-1.415032</td>\n",
              "      <td>-1.424162</td>\n",
              "      <td>-0.650059</td>\n",
              "      <td>-0.864927</td>\n",
              "      <td>-1.709351</td>\n",
              "      <td>0.0</td>\n",
              "      <td>...</td>\n",
              "      <td>0.0</td>\n",
              "      <td>0.0</td>\n",
              "      <td>0.0</td>\n",
              "      <td>0.0</td>\n",
              "      <td>0.0</td>\n",
              "      <td>1.0</td>\n",
              "      <td>0.0</td>\n",
              "      <td>0.0</td>\n",
              "      <td>0.0</td>\n",
              "      <td>1.0</td>\n",
              "    </tr>\n",
              "    <tr>\n",
              "      <th>3</th>\n",
              "      <td>-0.580297</td>\n",
              "      <td>3.451905</td>\n",
              "      <td>-0.596589</td>\n",
              "      <td>1.096996</td>\n",
              "      <td>1.595381</td>\n",
              "      <td>-1.424162</td>\n",
              "      <td>-0.650059</td>\n",
              "      <td>-0.864927</td>\n",
              "      <td>0.194180</td>\n",
              "      <td>0.0</td>\n",
              "      <td>...</td>\n",
              "      <td>0.0</td>\n",
              "      <td>0.0</td>\n",
              "      <td>0.0</td>\n",
              "      <td>0.0</td>\n",
              "      <td>0.0</td>\n",
              "      <td>1.0</td>\n",
              "      <td>0.0</td>\n",
              "      <td>0.0</td>\n",
              "      <td>0.0</td>\n",
              "      <td>1.0</td>\n",
              "    </tr>\n",
              "    <tr>\n",
              "      <th>4</th>\n",
              "      <td>-0.580297</td>\n",
              "      <td>2.965441</td>\n",
              "      <td>-0.089668</td>\n",
              "      <td>0.172719</td>\n",
              "      <td>1.595381</td>\n",
              "      <td>-1.424162</td>\n",
              "      <td>-0.650059</td>\n",
              "      <td>-0.864927</td>\n",
              "      <td>-0.573911</td>\n",
              "      <td>0.0</td>\n",
              "      <td>...</td>\n",
              "      <td>0.0</td>\n",
              "      <td>0.0</td>\n",
              "      <td>0.0</td>\n",
              "      <td>0.0</td>\n",
              "      <td>0.0</td>\n",
              "      <td>0.0</td>\n",
              "      <td>1.0</td>\n",
              "      <td>0.0</td>\n",
              "      <td>0.0</td>\n",
              "      <td>1.0</td>\n",
              "    </tr>\n",
              "  </tbody>\n",
              "</table>\n",
              "<p>5 rows × 258 columns</p>\n",
              "</div>"
            ],
            "text/plain": [
              "   num_passengers  purchase_lead  length_of_stay  flight_hour  flight_day  \\\n",
              "0       -0.580297       3.518241       -0.089668    -1.675833    0.090174   \n",
              "1        6.301959       2.689041       -0.507132     1.466706    1.093646   \n",
              "2       -0.580297      -0.694096        0.148884    -0.751557   -1.415032   \n",
              "3       -0.580297       3.451905       -0.596589     1.096996    1.595381   \n",
              "4       -0.580297       2.965441       -0.089668     0.172719    1.595381   \n",
              "\n",
              "   wants_extra_baggage  wants_preferred_seat  wants_in_flight_meals  \\\n",
              "0             0.702167             -0.650059              -0.864927   \n",
              "1             0.702167              1.538323               1.156167   \n",
              "2            -1.424162             -0.650059              -0.864927   \n",
              "3            -1.424162             -0.650059              -0.864927   \n",
              "4            -1.424162             -0.650059              -0.864927   \n",
              "\n",
              "   flight_duration  route_AKLICN  ...  booking_origin_Thailand  \\\n",
              "0         1.035742           0.0  ...                      0.0   \n",
              "1        -1.742747           0.0  ...                      0.0   \n",
              "2        -1.709351           0.0  ...                      0.0   \n",
              "3         0.194180           0.0  ...                      0.0   \n",
              "4        -0.573911           0.0  ...                      0.0   \n",
              "\n",
              "   booking_origin_United Kingdom  booking_origin_United States  \\\n",
              "0                            0.0                           0.0   \n",
              "1                            0.0                           0.0   \n",
              "2                            0.0                           0.0   \n",
              "3                            0.0                           0.0   \n",
              "4                            0.0                           0.0   \n",
              "\n",
              "   booking_origin_Vietnam  booking_origin_others  sales_channel_Internet  \\\n",
              "0                     0.0                    0.0                     1.0   \n",
              "1                     0.0                    0.0                     1.0   \n",
              "2                     0.0                    0.0                     1.0   \n",
              "3                     0.0                    0.0                     1.0   \n",
              "4                     0.0                    0.0                     0.0   \n",
              "\n",
              "   sales_channel_Mobile  trip_type_CircleTrip  trip_type_OneWay  \\\n",
              "0                   0.0                   0.0               0.0   \n",
              "1                   0.0                   0.0               0.0   \n",
              "2                   0.0                   0.0               0.0   \n",
              "3                   0.0                   0.0               0.0   \n",
              "4                   1.0                   0.0               0.0   \n",
              "\n",
              "   trip_type_RoundTrip  \n",
              "0                  1.0  \n",
              "1                  1.0  \n",
              "2                  1.0  \n",
              "3                  1.0  \n",
              "4                  1.0  \n",
              "\n",
              "[5 rows x 258 columns]"
            ]
          },
          "execution_count": 87,
          "metadata": {},
          "output_type": "execute_result"
        }
      ],
      "source": [
        "strain_x_pd.head()\n",
        "\n"
      ]
    },
    {
      "cell_type": "code",
      "execution_count": 88,
      "metadata": {},
      "outputs": [
        {
          "data": {
            "text/html": [
              "<div>\n",
              "<style scoped>\n",
              "    .dataframe tbody tr th:only-of-type {\n",
              "        vertical-align: middle;\n",
              "    }\n",
              "\n",
              "    .dataframe tbody tr th {\n",
              "        vertical-align: top;\n",
              "    }\n",
              "\n",
              "    .dataframe thead th {\n",
              "        text-align: right;\n",
              "    }\n",
              "</style>\n",
              "<table border=\"1\" class=\"dataframe\">\n",
              "  <thead>\n",
              "    <tr style=\"text-align: right;\">\n",
              "      <th></th>\n",
              "      <th>num_passengers</th>\n",
              "      <th>purchase_lead</th>\n",
              "      <th>length_of_stay</th>\n",
              "      <th>flight_hour</th>\n",
              "      <th>flight_day</th>\n",
              "      <th>wants_extra_baggage</th>\n",
              "      <th>wants_preferred_seat</th>\n",
              "      <th>wants_in_flight_meals</th>\n",
              "      <th>flight_duration</th>\n",
              "      <th>route_AKLICN</th>\n",
              "      <th>...</th>\n",
              "      <th>booking_origin_Thailand</th>\n",
              "      <th>booking_origin_United Kingdom</th>\n",
              "      <th>booking_origin_United States</th>\n",
              "      <th>booking_origin_Vietnam</th>\n",
              "      <th>booking_origin_others</th>\n",
              "      <th>sales_channel_Internet</th>\n",
              "      <th>sales_channel_Mobile</th>\n",
              "      <th>trip_type_CircleTrip</th>\n",
              "      <th>trip_type_OneWay</th>\n",
              "      <th>trip_type_RoundTrip</th>\n",
              "    </tr>\n",
              "  </thead>\n",
              "  <tbody>\n",
              "    <tr>\n",
              "      <th>0</th>\n",
              "      <td>-0.580642</td>\n",
              "      <td>0.930427</td>\n",
              "      <td>-0.031671</td>\n",
              "      <td>-1.491084</td>\n",
              "      <td>-0.910422</td>\n",
              "      <td>0.704470</td>\n",
              "      <td>-0.648036</td>\n",
              "      <td>-0.861179</td>\n",
              "      <td>1.039152</td>\n",
              "      <td>0.0</td>\n",
              "      <td>...</td>\n",
              "      <td>0.0</td>\n",
              "      <td>0.0</td>\n",
              "      <td>0.0</td>\n",
              "      <td>0.0</td>\n",
              "      <td>0.0</td>\n",
              "      <td>1.0</td>\n",
              "      <td>0.0</td>\n",
              "      <td>0.0</td>\n",
              "      <td>0.0</td>\n",
              "      <td>1.0</td>\n",
              "    </tr>\n",
              "    <tr>\n",
              "      <th>1</th>\n",
              "      <td>-0.580642</td>\n",
              "      <td>0.222093</td>\n",
              "      <td>-0.566473</td>\n",
              "      <td>1.466755</td>\n",
              "      <td>0.092328</td>\n",
              "      <td>0.704470</td>\n",
              "      <td>-0.648036</td>\n",
              "      <td>1.161199</td>\n",
              "      <td>-0.182088</td>\n",
              "      <td>0.0</td>\n",
              "      <td>...</td>\n",
              "      <td>0.0</td>\n",
              "      <td>0.0</td>\n",
              "      <td>0.0</td>\n",
              "      <td>0.0</td>\n",
              "      <td>0.0</td>\n",
              "      <td>1.0</td>\n",
              "      <td>0.0</td>\n",
              "      <td>0.0</td>\n",
              "      <td>0.0</td>\n",
              "      <td>1.0</td>\n",
              "    </tr>\n",
              "    <tr>\n",
              "      <th>2</th>\n",
              "      <td>2.363913</td>\n",
              "      <td>-0.630120</td>\n",
              "      <td>-0.566473</td>\n",
              "      <td>-0.566759</td>\n",
              "      <td>-0.409047</td>\n",
              "      <td>0.704470</td>\n",
              "      <td>-0.648036</td>\n",
              "      <td>1.161199</td>\n",
              "      <td>-0.435678</td>\n",
              "      <td>0.0</td>\n",
              "      <td>...</td>\n",
              "      <td>0.0</td>\n",
              "      <td>0.0</td>\n",
              "      <td>0.0</td>\n",
              "      <td>0.0</td>\n",
              "      <td>0.0</td>\n",
              "      <td>1.0</td>\n",
              "      <td>0.0</td>\n",
              "      <td>0.0</td>\n",
              "      <td>0.0</td>\n",
              "      <td>1.0</td>\n",
              "    </tr>\n",
              "    <tr>\n",
              "      <th>3</th>\n",
              "      <td>0.400877</td>\n",
              "      <td>-0.253818</td>\n",
              "      <td>2.018403</td>\n",
              "      <td>0.727296</td>\n",
              "      <td>0.593703</td>\n",
              "      <td>0.704470</td>\n",
              "      <td>-0.648036</td>\n",
              "      <td>1.161199</td>\n",
              "      <td>1.039152</td>\n",
              "      <td>0.0</td>\n",
              "      <td>...</td>\n",
              "      <td>0.0</td>\n",
              "      <td>0.0</td>\n",
              "      <td>0.0</td>\n",
              "      <td>0.0</td>\n",
              "      <td>0.0</td>\n",
              "      <td>1.0</td>\n",
              "      <td>0.0</td>\n",
              "      <td>0.0</td>\n",
              "      <td>0.0</td>\n",
              "      <td>1.0</td>\n",
              "    </tr>\n",
              "    <tr>\n",
              "      <th>4</th>\n",
              "      <td>0.400877</td>\n",
              "      <td>0.476651</td>\n",
              "      <td>-0.566473</td>\n",
              "      <td>-0.936489</td>\n",
              "      <td>-1.411797</td>\n",
              "      <td>-1.419507</td>\n",
              "      <td>-0.648036</td>\n",
              "      <td>-0.861179</td>\n",
              "      <td>-1.736999</td>\n",
              "      <td>0.0</td>\n",
              "      <td>...</td>\n",
              "      <td>0.0</td>\n",
              "      <td>0.0</td>\n",
              "      <td>1.0</td>\n",
              "      <td>0.0</td>\n",
              "      <td>0.0</td>\n",
              "      <td>1.0</td>\n",
              "      <td>0.0</td>\n",
              "      <td>0.0</td>\n",
              "      <td>0.0</td>\n",
              "      <td>1.0</td>\n",
              "    </tr>\n",
              "  </tbody>\n",
              "</table>\n",
              "<p>5 rows × 258 columns</p>\n",
              "</div>"
            ],
            "text/plain": [
              "   num_passengers  purchase_lead  length_of_stay  flight_hour  flight_day  \\\n",
              "0       -0.580642       0.930427       -0.031671    -1.491084   -0.910422   \n",
              "1       -0.580642       0.222093       -0.566473     1.466755    0.092328   \n",
              "2        2.363913      -0.630120       -0.566473    -0.566759   -0.409047   \n",
              "3        0.400877      -0.253818        2.018403     0.727296    0.593703   \n",
              "4        0.400877       0.476651       -0.566473    -0.936489   -1.411797   \n",
              "\n",
              "   wants_extra_baggage  wants_preferred_seat  wants_in_flight_meals  \\\n",
              "0             0.704470             -0.648036              -0.861179   \n",
              "1             0.704470             -0.648036               1.161199   \n",
              "2             0.704470             -0.648036               1.161199   \n",
              "3             0.704470             -0.648036               1.161199   \n",
              "4            -1.419507             -0.648036              -0.861179   \n",
              "\n",
              "   flight_duration  route_AKLICN  ...  booking_origin_Thailand  \\\n",
              "0         1.039152           0.0  ...                      0.0   \n",
              "1        -0.182088           0.0  ...                      0.0   \n",
              "2        -0.435678           0.0  ...                      0.0   \n",
              "3         1.039152           0.0  ...                      0.0   \n",
              "4        -1.736999           0.0  ...                      0.0   \n",
              "\n",
              "   booking_origin_United Kingdom  booking_origin_United States  \\\n",
              "0                            0.0                           0.0   \n",
              "1                            0.0                           0.0   \n",
              "2                            0.0                           0.0   \n",
              "3                            0.0                           0.0   \n",
              "4                            0.0                           1.0   \n",
              "\n",
              "   booking_origin_Vietnam  booking_origin_others  sales_channel_Internet  \\\n",
              "0                     0.0                    0.0                     1.0   \n",
              "1                     0.0                    0.0                     1.0   \n",
              "2                     0.0                    0.0                     1.0   \n",
              "3                     0.0                    0.0                     1.0   \n",
              "4                     0.0                    0.0                     1.0   \n",
              "\n",
              "   sales_channel_Mobile  trip_type_CircleTrip  trip_type_OneWay  \\\n",
              "0                   0.0                   0.0               0.0   \n",
              "1                   0.0                   0.0               0.0   \n",
              "2                   0.0                   0.0               0.0   \n",
              "3                   0.0                   0.0               0.0   \n",
              "4                   0.0                   0.0               0.0   \n",
              "\n",
              "   trip_type_RoundTrip  \n",
              "0                  1.0  \n",
              "1                  1.0  \n",
              "2                  1.0  \n",
              "3                  1.0  \n",
              "4                  1.0  \n",
              "\n",
              "[5 rows x 258 columns]"
            ]
          },
          "execution_count": 88,
          "metadata": {},
          "output_type": "execute_result"
        }
      ],
      "source": [
        "x_train_pd.head()"
      ]
    },
    {
      "cell_type": "code",
      "execution_count": 89,
      "metadata": {},
      "outputs": [
        {
          "data": {
            "text/plain": [
              "(40000, 258)"
            ]
          },
          "execution_count": 89,
          "metadata": {},
          "output_type": "execute_result"
        }
      ],
      "source": [
        "strain_x_pd.shape"
      ]
    },
    {
      "cell_type": "code",
      "execution_count": 90,
      "metadata": {},
      "outputs": [
        {
          "data": {
            "text/plain": [
              "(50000, 14)"
            ]
          },
          "execution_count": 90,
          "metadata": {},
          "output_type": "execute_result"
        }
      ],
      "source": [
        "df4.shape"
      ]
    },
    {
      "cell_type": "code",
      "execution_count": 91,
      "metadata": {},
      "outputs": [],
      "source": [
        "from sklearn import set_config\n",
        "\n",
        "set_config(display='diagram')"
      ]
    },
    {
      "cell_type": "code",
      "execution_count": 92,
      "metadata": {},
      "outputs": [
        {
          "data": {
            "text/plain": [
              "'pipe = Pipeline(\\n    steps=[\\n        (\"preprocessor\", col_transformer), \\n        (\"reg\", KNeighborsRegressor())])\\npipe'"
            ]
          },
          "execution_count": 92,
          "metadata": {},
          "output_type": "execute_result"
        }
      ],
      "source": [
        "# ML model Pipeline\n",
        "\"\"\"pipe = Pipeline(\n",
        "    steps=[\n",
        "        (\"preprocessor\", col_transformer), \n",
        "        (\"reg\", KNeighborsRegressor())])\n",
        "pipe\"\"\""
      ]
    },
    {
      "cell_type": "code",
      "execution_count": 93,
      "metadata": {},
      "outputs": [
        {
          "data": {
            "text/html": [
              "<div>\n",
              "<style scoped>\n",
              "    .dataframe tbody tr th:only-of-type {\n",
              "        vertical-align: middle;\n",
              "    }\n",
              "\n",
              "    .dataframe tbody tr th {\n",
              "        vertical-align: top;\n",
              "    }\n",
              "\n",
              "    .dataframe thead th {\n",
              "        text-align: right;\n",
              "    }\n",
              "</style>\n",
              "<table border=\"1\" class=\"dataframe\">\n",
              "  <thead>\n",
              "    <tr style=\"text-align: right;\">\n",
              "      <th></th>\n",
              "      <th>num_passengers</th>\n",
              "      <th>sales_channel</th>\n",
              "      <th>trip_type</th>\n",
              "      <th>purchase_lead</th>\n",
              "      <th>length_of_stay</th>\n",
              "      <th>flight_hour</th>\n",
              "      <th>flight_day</th>\n",
              "      <th>route</th>\n",
              "      <th>booking_origin</th>\n",
              "      <th>wants_extra_baggage</th>\n",
              "      <th>wants_preferred_seat</th>\n",
              "      <th>wants_in_flight_meals</th>\n",
              "      <th>flight_duration</th>\n",
              "      <th>booking_complete</th>\n",
              "    </tr>\n",
              "  </thead>\n",
              "  <tbody>\n",
              "    <tr>\n",
              "      <th>0</th>\n",
              "      <td>2</td>\n",
              "      <td>Internet</td>\n",
              "      <td>RoundTrip</td>\n",
              "      <td>262</td>\n",
              "      <td>19</td>\n",
              "      <td>7</td>\n",
              "      <td>6</td>\n",
              "      <td>others</td>\n",
              "      <td>New Zealand</td>\n",
              "      <td>1</td>\n",
              "      <td>0</td>\n",
              "      <td>0</td>\n",
              "      <td>5.52</td>\n",
              "      <td>0</td>\n",
              "    </tr>\n",
              "    <tr>\n",
              "      <th>1</th>\n",
              "      <td>1</td>\n",
              "      <td>Internet</td>\n",
              "      <td>RoundTrip</td>\n",
              "      <td>112</td>\n",
              "      <td>20</td>\n",
              "      <td>3</td>\n",
              "      <td>6</td>\n",
              "      <td>others</td>\n",
              "      <td>New Zealand</td>\n",
              "      <td>0</td>\n",
              "      <td>0</td>\n",
              "      <td>0</td>\n",
              "      <td>5.52</td>\n",
              "      <td>0</td>\n",
              "    </tr>\n",
              "    <tr>\n",
              "      <th>2</th>\n",
              "      <td>2</td>\n",
              "      <td>Internet</td>\n",
              "      <td>RoundTrip</td>\n",
              "      <td>243</td>\n",
              "      <td>22</td>\n",
              "      <td>17</td>\n",
              "      <td>3</td>\n",
              "      <td>others</td>\n",
              "      <td>India</td>\n",
              "      <td>1</td>\n",
              "      <td>1</td>\n",
              "      <td>0</td>\n",
              "      <td>5.52</td>\n",
              "      <td>0</td>\n",
              "    </tr>\n",
              "    <tr>\n",
              "      <th>3</th>\n",
              "      <td>1</td>\n",
              "      <td>Internet</td>\n",
              "      <td>RoundTrip</td>\n",
              "      <td>96</td>\n",
              "      <td>31</td>\n",
              "      <td>4</td>\n",
              "      <td>6</td>\n",
              "      <td>others</td>\n",
              "      <td>New Zealand</td>\n",
              "      <td>0</td>\n",
              "      <td>0</td>\n",
              "      <td>1</td>\n",
              "      <td>5.52</td>\n",
              "      <td>0</td>\n",
              "    </tr>\n",
              "    <tr>\n",
              "      <th>4</th>\n",
              "      <td>2</td>\n",
              "      <td>Internet</td>\n",
              "      <td>RoundTrip</td>\n",
              "      <td>68</td>\n",
              "      <td>22</td>\n",
              "      <td>15</td>\n",
              "      <td>3</td>\n",
              "      <td>others</td>\n",
              "      <td>India</td>\n",
              "      <td>1</td>\n",
              "      <td>0</td>\n",
              "      <td>1</td>\n",
              "      <td>5.52</td>\n",
              "      <td>0</td>\n",
              "    </tr>\n",
              "  </tbody>\n",
              "</table>\n",
              "</div>"
            ],
            "text/plain": [
              "   num_passengers sales_channel  trip_type  purchase_lead  length_of_stay  \\\n",
              "0               2      Internet  RoundTrip            262              19   \n",
              "1               1      Internet  RoundTrip            112              20   \n",
              "2               2      Internet  RoundTrip            243              22   \n",
              "3               1      Internet  RoundTrip             96              31   \n",
              "4               2      Internet  RoundTrip             68              22   \n",
              "\n",
              "   flight_hour  flight_day   route booking_origin  wants_extra_baggage  \\\n",
              "0            7           6  others    New Zealand                    1   \n",
              "1            3           6  others    New Zealand                    0   \n",
              "2           17           3  others          India                    1   \n",
              "3            4           6  others    New Zealand                    0   \n",
              "4           15           3  others          India                    1   \n",
              "\n",
              "   wants_preferred_seat  wants_in_flight_meals  flight_duration  \\\n",
              "0                     0                      0             5.52   \n",
              "1                     0                      0             5.52   \n",
              "2                     1                      0             5.52   \n",
              "3                     0                      1             5.52   \n",
              "4                     0                      1             5.52   \n",
              "\n",
              "   booking_complete  \n",
              "0                 0  \n",
              "1                 0  \n",
              "2                 0  \n",
              "3                 0  \n",
              "4                 0  "
            ]
          },
          "execution_count": 93,
          "metadata": {},
          "output_type": "execute_result"
        }
      ],
      "source": [
        "df4.head()"
      ]
    },
    {
      "cell_type": "markdown",
      "metadata": {},
      "source": [
        "# Features weight checking\n",
        "Make a pair plot with hue by booking info, to check witch featurs are mostly classify the test dataset\n"
      ]
    },
    {
      "cell_type": "code",
      "execution_count": 94,
      "metadata": {},
      "outputs": [
        {
          "ename": "",
          "evalue": "",
          "output_type": "error",
          "traceback": [
            "\u001b[1;31mCannot execute code, session has been disposed. Please try restarting the Kernel."
          ]
        },
        {
          "ename": "",
          "evalue": "",
          "output_type": "error",
          "traceback": [
            "\u001b[1;31mThe Kernel crashed while executing code in the the current cell or a previous cell. Please review the code in the cell(s) to identify a possible cause of the failure. Click <a href='https://aka.ms/vscodeJupyterKernelCrash'>here</a> for more info. View Jupyter <a href='command:jupyter.viewOutput'>log</a> for further details."
          ]
        }
      ],
      "source": [
        "sns.pairplot(data= x_train_pd, hue = \"booking_complete\" )\n",
        "plt.show()"
      ]
    },
    {
      "attachments": {},
      "cell_type": "markdown",
      "metadata": {},
      "source": [
        "#  Model Building</h2>\n",
        "\n",
        "\n",
        "In this section you will:\n",
        "- Train the model on training data\n",
        "- Get the predictions on testing data\n",
        "- Evaluate the performance of model on testing data"
      ]
    },
    {
      "attachments": {},
      "cell_type": "markdown",
      "metadata": {},
      "source": [
        "Choose the ML algorithm from \n",
        "\n",
        "1. LogisiticRegression\n",
        "2. DecisionTreeClassifier\n",
        "3. XGBClassifier\n",
        "4. LGBMClassifier\n",
        "5. Support vector Machine\n",
        "6. Random Forest\n",
        "7. Support Vector \n",
        "8. Naive Bayes\n",
        "9. Stochastic gradient descent\n"
      ]
    },
    {
      "cell_type": "code",
      "execution_count": null,
      "metadata": {},
      "outputs": [],
      "source": [
        "#! pip install lightgbm"
      ]
    },
    {
      "attachments": {},
      "cell_type": "markdown",
      "metadata": {},
      "source": [
        "### Installing Libreries"
      ]
    },
    {
      "cell_type": "code",
      "execution_count": null,
      "metadata": {},
      "outputs": [],
      "source": [
        "# Machine Learning\n",
        "from   sklearn.preprocessing import LabelEncoder, StandardScaler, OrdinalEncoder\n",
        "from   sklearn.impute import SimpleImputer\n",
        "from   sklearn.model_selection import train_test_split, GridSearchCV, cross_val_predict,cross_val_score, RepeatedStratifiedKFold\n",
        "from   sklearn.linear_model import LogisticRegression, LinearRegression\n",
        "from   sklearn.tree import DecisionTreeClassifier\n",
        "from   sklearn.ensemble import RandomForestClassifier\n",
        "from   sklearn.svm import SVC\n",
        "from   sklearn.linear_model import SGDClassifier\n",
        "\n",
        "from   xgboost import XGBClassifier\n",
        "#from   lightgbm import LGBMClassifier\n",
        "from   sklearn.naive_bayes import GaussianNB\n",
        "from   sklearn.neighbors import KNeighborsClassifier\n",
        "#from   imblearn.over_sampling import RandomOverSampler\n",
        "import pickle\n",
        "\n",
        "#Clasturing \n",
        "from sklearn.cluster import KMeans\n",
        "\n",
        "# Evalution\n",
        "from   sklearn.metrics import classification_report, accuracy_score, roc_auc_score, RocCurveDisplay,roc_curve, auc, f1_score\n",
        "from sklearn.metrics import accuracy_score,multilabel_confusion_matrix\n",
        "import sklearn.metrics\n",
        "\n",
        "#plot_roc_curve has been removed in version 1.2. From 1.2, use RocCurveDisplay instead"
      ]
    },
    {
      "cell_type": "code",
      "execution_count": null,
      "metadata": {},
      "outputs": [],
      "source": [
        "# for ML model call\n",
        "def get_models():\n",
        "  models = dict()\n",
        "  #models['XGB'] = XGBClassifier()\n",
        "  #models['LGBM'] = LGBMClassifier()\n",
        "  #models['lr'] = LinearRegression()\n",
        "  models['logr'] = LogisticRegression(solver='newton-cholesky', max_iter=1000)\n",
        "  models['knn'] = KNeighborsClassifier()\n",
        "  models['cart']= DecisionTreeClassifier()\n",
        "  models['rnf'] = RandomForestClassifier()\n",
        "  models['svc'] = SVC(gamma='auto')\n",
        "  models['bayes'] = GaussianNB()\n",
        "  models['SGD'] = SGDClassifier(loss='modified_huber', random_state=42)\n",
        "\n",
        "  return models"
      ]
    },
    {
      "cell_type": "code",
      "execution_count": null,
      "metadata": {},
      "outputs": [],
      "source": [
        "#xt means test data\n",
        "def model_predict(x,y,model,cv):\n",
        "  model.fit(x,y)\n",
        "  #Use Cross CV prediction instead of test set(xt).\n",
        "  Y_train_pre = cross_val_predict(model,x,y,cv=cv)\n",
        "\n",
        "  return Y_train_pre  #Y_train_pred_prob"
      ]
    },
    {
      "cell_type": "code",
      "execution_count": null,
      "metadata": {},
      "outputs": [],
      "source": [
        "# evaluate a given model using cross-validation\n",
        "def evalute_model(model,x,y):\n",
        "  #if the estimator is a classifier and y is either binary or multiclass, StratifiedKFold is used\n",
        "  Cv= RepeatedStratifiedKFold(n_splits=3,n_repeats=3,random_state=28)\n",
        "  score = cross_val_score(model,x,y,scoring='f1', cv= Cv)\n",
        "  return score"
      ]
    },
    {
      "cell_type": "code",
      "execution_count": null,
      "metadata": {},
      "outputs": [],
      "source": [
        "#ROC plot function\n",
        "def roc_display(y_train, Y_pre, model,name): \n",
        "    fpr, tpr, thresholds = roc_curve(y_train, Y_pre)\n",
        "    roc_auc = auc(fpr, tpr)\n",
        "    plt.plot(fpr, tpr, label=model )\n",
        "    display = RocCurveDisplay(fpr=fpr, tpr=tpr, roc_auc=roc_auc,\n",
        "                                 estimator_name = name)\n",
        "    plt.grid(True)\n",
        "    plt.legend(loc=\"lower right\", fontsize=10)\n",
        "    display.plot()"
      ]
    },
    {
      "cell_type": "code",
      "execution_count": null,
      "metadata": {},
      "outputs": [],
      "source": [
        "models = get_models()"
      ]
    },
    {
      "cell_type": "code",
      "execution_count": null,
      "metadata": {},
      "outputs": [],
      "source": [
        "# SGDClassifier's hinge loss doesn't support probability estimates.\n",
        "# We can set SGDClassifier as the base estimator in Scikit-learn's CalibratedClassifierCV, which will generate probability estimates.\n",
        "\n",
        "from sklearn.calibration import CalibratedClassifierCV"
      ]
    },
    {
      "cell_type": "code",
      "execution_count": null,
      "metadata": {},
      "outputs": [],
      "source": [
        "#xt means test data\n",
        "\"\"\"def model_predict(x,y,model,cv):\n",
        "  if model == 'SGD':\n",
        "    new_clf_SGD = CalibratedClassifierCV(model)\n",
        "    new_clf_SGD.fit(x,y)\n",
        "    Y_train_pre = cross_val_predict(new_clf_SGD,x,y,cv=cv)\n",
        "  else:\n",
        "    model.fit(x,y)\n",
        "    #Y_pre = model.predict(xt) \n",
        "    #Use Cross CV prediction instead of test set(xt).\n",
        "    Y_train_pre = cross_val_predict(model,x,y,cv=cv)\n",
        "    #Y_train_pred_prob = model.predict_proba(Y_train_pre)\n",
        "  return Y_train_pre  #Y_train_pred_prob\"\"\""
      ]
    },
    {
      "cell_type": "code",
      "execution_count": null,
      "metadata": {},
      "outputs": [],
      "source": [
        "new_clf_SGD = CalibratedClassifierCV(models['SGD'])\n",
        "new_clf_SGD.fit(strain_x_pd,strain_y)"
      ]
    },
    {
      "cell_type": "code",
      "execution_count": null,
      "metadata": {},
      "outputs": [],
      "source": [
        "\n",
        "'''def model_pre_pro(x,y,model,xt):\n",
        "  model.fit(x,y)\n",
        "  Y_pred_prob = model.predict_proba(xt)\n",
        "  return Y_pred_prob'''"
      ]
    },
    {
      "cell_type": "code",
      "execution_count": null,
      "metadata": {},
      "outputs": [],
      "source": [
        "# x_train_pp \n",
        "# y_train\n",
        "# strain_x_pp\n",
        "# strain_y\n"
      ]
    },
    {
      "cell_type": "code",
      "execution_count": null,
      "metadata": {},
      "outputs": [],
      "source": [
        "#ga = SGDClassifier(loss='modified_huber',alpha=0.0001, random_state=42)"
      ]
    },
    {
      "cell_type": "code",
      "execution_count": null,
      "metadata": {},
      "outputs": [],
      "source": [
        "\n",
        "#ga.fit(strain_x_pd,strain_y)"
      ]
    },
    {
      "cell_type": "code",
      "execution_count": null,
      "metadata": {},
      "outputs": [],
      "source": [
        "#Y_train_pre = cross_val_predict(ga,strain_x_pd,strain_y,cv= 5)"
      ]
    },
    {
      "cell_type": "code",
      "execution_count": null,
      "metadata": {},
      "outputs": [],
      "source": [
        "#print(Counter(strain_y))"
      ]
    },
    {
      "cell_type": "code",
      "execution_count": null,
      "metadata": {},
      "outputs": [],
      "source": [
        "#print(Counter(Y_train_pre))"
      ]
    },
    {
      "attachments": {},
      "cell_type": "markdown",
      "metadata": {},
      "source": [
        "**In this model test data don't use untile final model select.**"
      ]
    },
    {
      "cell_type": "markdown",
      "metadata": {},
      "source": [
        "In scikit-learn, both DataFrames and Series can be used as inputs for models, but the preferred format is typically a NumPy array or a 2D array-like structure. \n",
        "\n",
        "#Select columns and convert to a 2D array-like\n",
        " \n",
        "``` X = df.iloc[:, :-1].values           ```"
      ]
    },
    {
      "cell_type": "code",
      "execution_count": null,
      "metadata": {},
      "outputs": [],
      "source": [
        "x_train_rand = x_train_pd.iloc[:, :-1].values"
      ]
    },
    {
      "cell_type": "code",
      "execution_count": null,
      "metadata": {},
      "outputs": [],
      "source": [
        "type(x_train_rand)"
      ]
    },
    {
      "cell_type": "code",
      "execution_count": null,
      "metadata": {},
      "outputs": [],
      "source": [
        "x_train_rand"
      ]
    },
    {
      "attachments": {},
      "cell_type": "markdown",
      "metadata": {},
      "source": [
        "### Initial Model testing"
      ]
    },
    {
      "cell_type": "code",
      "execution_count": null,
      "metadata": {},
      "outputs": [],
      "source": [
        "#Predict Target value by Test data\n",
        "Score = []\n",
        "Algo =[]\n",
        "CV_score =[]\n",
        "\n",
        "for name, model in models.items():\n",
        "    \n",
        "    Y_pre= model_predict(x_train_pd,y_train,model,5)\n",
        "    Score_DT = accuracy_score(y_train,Y_pre)\n",
        "    #F1 = f1_score(Y_test,Y_pre)\n",
        "    #print('>%s % .3f'% (name,Score_DT))\n",
        "    report = classification_report(y_train,Y_pre)\n",
        "    score = evalute_model(model,x_train_pd ,y_train)\n",
        "    CV_score.append(mean(score))\n",
        "    print(name)\n",
        "    print(report)\n",
        "    Algo.append(name)\n",
        "    Score.append(Score_DT )\n",
        "    confusion_matrix = multilabel_confusion_matrix(y_train,Y_pre)\n",
        "    print(confusion_matrix)"
      ]
    },
    {
      "cell_type": "code",
      "execution_count": null,
      "metadata": {},
      "outputs": [],
      "source": [
        "Classification_result = pd.DataFrame(list(zip(Algo,Score, CV_score)), columns=['Alo_name','Accuracy','CV_score'])\n",
        "Classification_result"
      ]
    },
    {
      "cell_type": "code",
      "execution_count": null,
      "metadata": {},
      "outputs": [],
      "source": [
        "sklearn.metrics.get_scorer_names()"
      ]
    },
    {
      "cell_type": "code",
      "execution_count": null,
      "metadata": {},
      "outputs": [],
      "source": [
        "models.keys()"
      ]
    },
    {
      "cell_type": "code",
      "execution_count": null,
      "metadata": {},
      "outputs": [],
      "source": [
        "# Making confusion matrix\n",
        "for name, model in models.items():\n",
        "  \n",
        "  Y_pre = model_predict(x_train_pd,y_train,model,5)\n",
        "  confusion_matrix = multilabel_confusion_matrix(y_train,Y_pre)\n",
        "  print(name,confusion_matrix  )"
      ]
    },
    {
      "attachments": {},
      "cell_type": "markdown",
      "metadata": {},
      "source": [
        "### Creating ROC curve "
      ]
    },
    {
      "cell_type": "code",
      "execution_count": null,
      "metadata": {},
      "outputs": [],
      "source": [
        "# Creating ROC curve\n",
        "# IMPORTANT: first argument is true values, second argument is predicted probabilities\n",
        "\n",
        "# we pass y_test and y_pred_prob\n",
        "# we do not use y_pred_class, because it will give incorrect results without generating an error\n",
        "# roc_curve returns 3 objects false positive rate(fpr), true positive rate(tpr), thresholds \n",
        "for name, model in models.items():\n",
        "    Y_pre = model_predict(x_train_pd,y_train,model,5)\n",
        "    fpr, tpr, thresholds = roc_curve(y_train, Y_pre)\n",
        "    roc_auc = auc(fpr, tpr)\n",
        "    plt.plot(fpr, tpr, label=name )\n",
        "    plt.xlim([0.0, 1.0])\n",
        "    plt.ylim([0.0, 1.0])\n",
        "    plt.rcParams['font.size'] = 12\n",
        "    plt.title('ROC curve')\n",
        "    plt.xlabel('False Positive Rate (1 - Specificity)')\n",
        "    plt.ylabel('True Positive Rate (Sensitivity)')\n",
        "    plt.legend(loc=\"lower right\", fontsize=10)\n",
        "    plt.grid(True)\n",
        "plt.show()"
      ]
    },
    {
      "cell_type": "code",
      "execution_count": null,
      "metadata": {},
      "outputs": [],
      "source": [
        "# ROC vurve with RocCurveDisplay()\n",
        "for name, model in models.items():\n",
        "    Y_pre = model_predict(x_train_pd,y_train,model,5)\n",
        "    fpr, tpr, thresholds = roc_curve(y_train, Y_pre)\n",
        "    roc_auc = auc(fpr, tpr)\n",
        "    plt.plot(fpr, tpr, label=model )\n",
        "    display = RocCurveDisplay(fpr=fpr, tpr=tpr, roc_auc=roc_auc,\n",
        "                                 estimator_name = name)\n",
        "    plt.grid(True)\n",
        "    plt.legend(loc=\"lower right\", fontsize=10)\n",
        "    display.plot()   \n"
      ]
    },
    {
      "attachments": {},
      "cell_type": "markdown",
      "metadata": {},
      "source": [
        "## Grid Search "
      ]
    },
    {
      "cell_type": "code",
      "execution_count": null,
      "metadata": {},
      "outputs": [],
      "source": [
        "from sklearn.model_selection import GridSearchCV\n",
        "\n",
        "\n",
        "def find_best_model_using_gridsearchcv(X,y):\n",
        "    algos = {\n",
        "        'logistic_regression' : {\n",
        "            'model': LogisticRegression( max_iter=1000),\n",
        "            'params': {\n",
        "                'solver' : ['newton-cholesky','newton-cg','liblinear'],\n",
        "                'C': [0.1, 1.0, 10.0],\n",
        "                'penalty': ['none', 'l2'],\n",
        "                }\n",
        "            },\n",
        "        'KNeighbors': {\n",
        "            'model': KNeighborsClassifier(),\n",
        "            'params': {\n",
        "                'n_neighbors': [3, 5, 7],\n",
        "                'weights': ['uniform', 'distance'],\n",
        "                'metric' : ['euclidean', 'manhattan', 'minkowski']\n",
        "                }\n",
        "            },\n",
        "        'decision_tree': {\n",
        "            'model': DecisionTreeClassifier(),\n",
        "            'params': {\n",
        "                'max_depth': [None, 5, 10, 20],\n",
        "                'min_samples_split': [2, 5, 10],\n",
        "                }\n",
        "            },\n",
        "        'RandomForest': {\n",
        "            'model': RandomForestClassifier(),\n",
        "            'params': {\n",
        "                'n_estimators': [50, 100, 200],\n",
        "                'max_depth': [None, 5, 10, 20],\n",
        "                'min_samples_split': [2, 5, 10],\n",
        "                'max_features' : ['sqrt', 'log2']\n",
        "                }\n",
        "            },\n",
        "        \n",
        "        'GNB': {\n",
        "            'model': GaussianNB(),\n",
        "            'params': {\n",
        "                \n",
        "                }\n",
        "            },\n",
        "\n",
        "        'SVM': {\n",
        "            'model': SVC( ),\n",
        "            'params': {\n",
        "                'C': [0.1, 1.0, 10.0,50.0],\n",
        "                'kernel': ['linear', 'rbf','sigmoid'],\n",
        "                'gamma':['auto','scale']\n",
        "                \n",
        "                }\n",
        "            },\n",
        "\n",
        "        'SGD': {\n",
        "            'model': SGDClassifier(loss='modified_huber', random_state=42),\n",
        "            'params': {\n",
        "                'alpha': [0.0001, 0.001, 0.01],\n",
        "                'penalty': ['l1', 'l2', 'elasticnet']\n",
        "                }\n",
        "            }\n",
        "    }\n",
        "    scores = []\n",
        "    cv = RepeatedStratifiedKFold(n_splits=3,n_repeats=3,random_state=28)\n",
        "    for algo_name, config in algos.items():\n",
        "        gs =  GridSearchCV(config['model'], config['params'], cv=cv,scoring='f1', return_train_score=True)\n",
        "        gs.fit(X,y)\n",
        "        scores.append({\n",
        "            'model': algo_name,\n",
        "            'best_score': gs.best_score_,\n",
        "            'best_params': gs.best_params_\n",
        "        })\n",
        "\n",
        "    return pd.DataFrame(scores,columns=['model','best_score','best_params'])\n",
        "\n",
        "# Find the best model\n",
        "find_best_model_using_gridsearchcv(x_train_pd,y_train)"
      ]
    },
    {
      "attachments": {},
      "cell_type": "markdown",
      "metadata": {},
      "source": [
        "<h2> Best Model parameters</h2>\n",
        "\tmodel\tbest_score\tbest_params \\n\n",
        "0\tlogistic_regression\t0.850008\t{'C': 0.1, 'penalty': 'l1', 'solver': 'libline... \\n\n",
        "1\tKNeighbors\t0.839308\t{'metric': 'manhattan', 'n_neighbors': 7, 'wei...\n",
        "2\tdecision_tree\t0.849283\t{'max_depth': 5, 'min_samples_split': 5}\n",
        "3\tRandomForest\t0.851333\t{'max_depth': None, 'max_features': 'sqrt', 'm...\n",
        "4\tGNB\t0.368500\t{}\n",
        "5\tSGD\t0.850225\t{'alpha': 0.01, 'penalty': 'l1'}"
      ]
    },
    {
      "attachments": {},
      "cell_type": "markdown",
      "metadata": {},
      "source": [
        "## Model testing "
      ]
    },
    {
      "cell_type": "code",
      "execution_count": null,
      "metadata": {},
      "outputs": [],
      "source": [
        "# for ML model call \n",
        "# Parameter get from grid search\n",
        "def get_models_1():\n",
        "  models = dict()\n",
        "  #models['XGB'] = XGBClassifier()\n",
        "  #models['LGBM'] = LGBMClassifier()\n",
        "  #models['lr'] = LinearRegression()\n",
        "  models['logr'] = LogisticRegression(C=0.1, solver='newton-cholesky', max_iter=1000)\n",
        "  models['knn'] = KNeighborsClassifier(metric= 'manhattan', n_neighbors= 7)\n",
        "  models['cart']= DecisionTreeClassifier(max_depth= 5, min_samples_split= 5)\n",
        "  models['rnf'] = RandomForestClassifier(max_depth= None, max_features = 'sqrt')\n",
        "  models['svc'] = SVC(gamma='auto')\n",
        "  models['bayes'] = GaussianNB()\n",
        "  models['SGD'] = SGDClassifier(loss='modified_huber',alpha= 0.01, penalty = 'l1', random_state=42)\n",
        "  \n",
        "  return models"
      ]
    },
    {
      "cell_type": "code",
      "execution_count": null,
      "metadata": {},
      "outputs": [],
      "source": [
        "models_1 = get_models_1()"
      ]
    },
    {
      "cell_type": "code",
      "execution_count": null,
      "metadata": {},
      "outputs": [],
      "source": [
        "for name, model in models_1.items():\n",
        "    print(name)"
      ]
    },
    {
      "attachments": {},
      "cell_type": "markdown",
      "metadata": {},
      "source": [
        "### With Random Train data"
      ]
    },
    {
      "cell_type": "code",
      "execution_count": null,
      "metadata": {},
      "outputs": [],
      "source": [
        "#Predict Target value by Test data\n",
        "Score = []\n",
        "Algo =[]\n",
        "CV_score =[]\n",
        "\n",
        "for name, model in models_1.items():\n",
        "    \n",
        "    Y_pre= model_predict(x_train_pd,y_train,model,5)\n",
        "    Score_DT = accuracy_score(y_train,Y_pre)\n",
        "    #F1 = f1_score(Y_test,Y_pre)\n",
        "    #print('>%s % .3f'% (name,Score_DT))\n",
        "    report = classification_report(y_train,Y_pre)\n",
        "    score = evalute_model(model,x_train_pd ,y_train)\n",
        "    CV_score.append(mean(score))\n",
        "    print(name)\n",
        "    print(report)\n",
        "    Algo.append(name)\n",
        "    Score.append(Score_DT )\n",
        "    #roc_display(y_train, Y_pre, model,name)"
      ]
    },
    {
      "attachments": {},
      "cell_type": "markdown",
      "metadata": {},
      "source": [
        "#### Confusion matrics"
      ]
    },
    {
      "cell_type": "code",
      "execution_count": null,
      "metadata": {},
      "outputs": [],
      "source": [
        "import seaborn as sns\n",
        "from sklearn.metrics import multilabel_confusion_matrix\n",
        "\n",
        "from sklearn.metrics import multilabel_confusion_matrix\n",
        "\n",
        "# Assuming you have defined the 'models' dictionary and 'model_predict' function\n",
        "\n",
        "\n",
        "for name, model in models_1.items():\n",
        "    Y_pre= model_predict(x_train_pd,y_train,model,5)\n",
        "    confusion_mat = multilabel_confusion_matrix(y_train, Y_pre)\n",
        "\n",
        "    # Print the confusion matrix for each class\n",
        "    print(name)\n",
        "    for i, cm in enumerate(confusion_mat):\n",
        "        print(f\"Confusion Matrix for Class {i}:\\n{cm}\\n\")\n",
        "    \n",
        "    # Plot the confusion matrix heatmap\n",
        "    plt.figure(figsize=(7, 5))\n",
        "    sns.heatmap(confusion_mat.sum(axis=0), annot=True, fmt=\"d\", cmap=\"Blues\", cbar=False)\n",
        "    plt.xlabel('Predicted')\n",
        "    plt.ylabel('True')\n",
        "    plt.title(f\"Confusion Matrix Heatmap for {name}\")\n",
        "    plt.show()\n"
      ]
    },
    {
      "cell_type": "code",
      "execution_count": null,
      "metadata": {},
      "outputs": [],
      "source": []
    },
    {
      "attachments": {},
      "cell_type": "markdown",
      "metadata": {},
      "source": [
        "### Model test with Stratified train"
      ]
    },
    {
      "cell_type": "code",
      "execution_count": null,
      "metadata": {},
      "outputs": [],
      "source": [
        "# strain_x_pp\n",
        "# strain_y"
      ]
    },
    {
      "cell_type": "code",
      "execution_count": null,
      "metadata": {},
      "outputs": [],
      "source": [
        "#Predict Target value by Test data\n",
        "Score_s = []\n",
        "Algo_s =[]\n",
        "CV_score_s =[]\n",
        "\n",
        "for name, model in models_1.items():\n",
        "    \n",
        "    Y_pre= model_predict(strain_x_pp,strain_y,model,5)\n",
        "    Score_DT = accuracy_score(strain_y,Y_pre)\n",
        "    #F1 = f1_score(Y_test,Y_pre)\n",
        "    #print('>%s % .3f'% (name,Score_DT))\n",
        "    report = classification_report(strain_y,Y_pre)\n",
        "    score = evalute_model(model,strain_x_pp,strain_y)\n",
        "    CV_score_s.append(mean(score))\n",
        "    print(name)\n",
        "    print(report)\n",
        "    Algo_s.append(name)\n",
        "    Score_s.append(Score_DT )\n",
        "    #roc_display(y_train, Y_pre, model,name)"
      ]
    },
    {
      "cell_type": "code",
      "execution_count": null,
      "metadata": {},
      "outputs": [],
      "source": [
        "import seaborn as sns\n",
        "from sklearn.metrics import multilabel_confusion_matrix\n",
        "\n",
        "from sklearn.metrics import confusion_matrix, ConfusionMatrixDisplay\n",
        "\n",
        "# Assuming you have defined the 'models' dictionary and 'model_predict' function\n",
        "\n",
        "\n",
        "for name, model in models_1.items():\n",
        "    Y_pre= model_predict(strain_x_pp,strain_y,model,5)\n",
        "    confusion_mat = confusion_matrix(strain_y, Y_pre)\n",
        "\n",
        "    # Print the confusion matrix for each class\n",
        "    print(name)\n",
        "    for i, cm in enumerate(confusion_mat):\n",
        "        print(f\"Confusion Matrix for Class {i}:\\n{cm}\\n\")\n",
        "    \n",
        "    # Plot the confusion matrix heatmap\n",
        "    plt.figure(figsize=(7, 5))\n",
        "    sns.heatmap(confusion_mat, annot=True, fmt=\"d\", cmap=\"Blues\", cbar=False)\n",
        "    plt.xlabel('Predicted')\n",
        "    plt.ylabel('True')\n",
        "    plt.title(f\"Confusion Matrix Heatmap for {name}\")\n",
        "    plt.show()"
      ]
    },
    {
      "cell_type": "code",
      "execution_count": null,
      "metadata": {},
      "outputs": [],
      "source": [
        "import seaborn as sns\n",
        "from sklearn.metrics import multilabel_confusion_matrix\n",
        "\n",
        "from sklearn.metrics import confusion_matrix, ConfusionMatrixDisplay\n",
        "\n",
        "# Assuming you have defined the 'models' dictionary and 'model_predict' function\n",
        "\n",
        "\n",
        "for name, model in models_1.items():\n",
        "    Y_pre= model_predict(strain_x_pp,strain_y,model,5)\n",
        "    confusion_mat = multilabel_confusion_matrix(strain_y, Y_pre)\n",
        "\n",
        "    # Print the confusion matrix for each class\n",
        "    print(name)\n",
        "    for i, cm in enumerate(confusion_mat):\n",
        "        print(f\"Confusion Matrix for Class {i}:\\n{cm}\\n\")\n",
        "    \n",
        "    # Plot the confusion matrix heatmap\n",
        "    plt.figure(figsize=(7, 5))\n",
        "    sns.heatmap(confusion_mat.sum(axis=0), annot=True, fmt=\"d\", cmap=\"Blues\", cbar=False)\n",
        "    plt.xlabel('Predicted')\n",
        "    plt.ylabel('True')\n",
        "    plt.title(f\"Confusion Matrix Heatmap for {name}\")\n",
        "    plt.show()"
      ]
    },
    {
      "cell_type": "code",
      "execution_count": null,
      "metadata": {},
      "outputs": [],
      "source": []
    }
  ],
  "metadata": {
    "colab": {
      "provenance": []
    },
    "kernelspec": {
      "display_name": "Python 3.9.13 ('venv': venv)",
      "language": "python",
      "name": "python3"
    },
    "language_info": {
      "codemirror_mode": {
        "name": "ipython",
        "version": 3
      },
      "file_extension": ".py",
      "mimetype": "text/x-python",
      "name": "python",
      "nbconvert_exporter": "python",
      "pygments_lexer": "ipython3",
      "version": "3.12.4"
    },
    "vscode": {
      "interpreter": {
        "hash": "4f7924c4c56b083e0e50eadfe7ef592a7a8ef70df33a0047f82280e6be1afe15"
      }
    }
  },
  "nbformat": 4,
  "nbformat_minor": 0
}
